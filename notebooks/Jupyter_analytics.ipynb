{
 "cells": [
  {
   "cell_type": "code",
   "execution_count": 1,
   "metadata": {},
   "outputs": [],
   "source": [
    "import os\n",
    "os.environ['KMP_DUPLICATE_LIB_OK']='True'\n",
    "\n",
    "\n",
    "import sys\n",
    "\n",
    "sys.path.append(\"..\")"
   ]
  },
  {
   "cell_type": "code",
   "execution_count": 2,
   "metadata": {},
   "outputs": [],
   "source": [
    "import IPython\n",
    "import IPython.display\n",
    "import matplotlib as mpl\n",
    "import matplotlib.pyplot as plt\n",
    "import numpy as np\n",
    "import pandas as pd\n",
    "import tensorflow as tf\n",
    "\n",
    "# tf.autograph.set_verbosity(0)\n",
    "from sklearn.metrics import mean_absolute_error, mean_squared_error"
   ]
  },
  {
   "cell_type": "code",
   "execution_count": 3,
   "metadata": {},
   "outputs": [],
   "source": [
    "import models.models_nn as nn\n",
    "import models.models_classic_ml as cm\n",
    "from data.create_datasets import WindowGenerator"
   ]
  },
  {
   "cell_type": "code",
   "execution_count": 4,
   "metadata": {},
   "outputs": [],
   "source": [
    "df = pd.read_csv(\"../datasets/df_feat_enged\")\n",
    "data_name = 'df_feat_enged'"
   ]
  },
  {
   "cell_type": "code",
   "execution_count": 5,
   "metadata": {},
   "outputs": [],
   "source": [
    "# df.set_index('timestamp', inplace=True) "
   ]
  },
  {
   "cell_type": "code",
   "execution_count": 6,
   "metadata": {},
   "outputs": [
    {
     "data": {
      "text/html": [
       "<div>\n",
       "<style scoped>\n",
       "    .dataframe tbody tr th:only-of-type {\n",
       "        vertical-align: middle;\n",
       "    }\n",
       "\n",
       "    .dataframe tbody tr th {\n",
       "        vertical-align: top;\n",
       "    }\n",
       "\n",
       "    .dataframe thead th {\n",
       "        text-align: right;\n",
       "    }\n",
       "</style>\n",
       "<table border=\"1\" class=\"dataframe\">\n",
       "  <thead>\n",
       "    <tr style=\"text-align: right;\">\n",
       "      <th></th>\n",
       "      <th>p (mbar)</th>\n",
       "      <th>T (degC)</th>\n",
       "      <th>Tpot (K)</th>\n",
       "      <th>Tdew (degC)</th>\n",
       "      <th>rh (%)</th>\n",
       "      <th>VPmax (mbar)</th>\n",
       "      <th>VPact (mbar)</th>\n",
       "      <th>VPdef (mbar)</th>\n",
       "      <th>sh (g/kg)</th>\n",
       "      <th>H2OC (mmol/mol)</th>\n",
       "      <th>rho (g/m**3)</th>\n",
       "      <th>Wx</th>\n",
       "      <th>Wy</th>\n",
       "      <th>max Wx</th>\n",
       "      <th>max Wy</th>\n",
       "      <th>Day sin</th>\n",
       "      <th>Day cos</th>\n",
       "      <th>Year sin</th>\n",
       "      <th>Year cos</th>\n",
       "    </tr>\n",
       "  </thead>\n",
       "  <tbody>\n",
       "    <tr>\n",
       "      <th>0</th>\n",
       "      <td>996.50</td>\n",
       "      <td>-8.05</td>\n",
       "      <td>265.38</td>\n",
       "      <td>-8.78</td>\n",
       "      <td>94.4</td>\n",
       "      <td>3.33</td>\n",
       "      <td>3.14</td>\n",
       "      <td>0.19</td>\n",
       "      <td>1.96</td>\n",
       "      <td>3.15</td>\n",
       "      <td>1307.86</td>\n",
       "      <td>-0.204862</td>\n",
       "      <td>-0.046168</td>\n",
       "      <td>-0.614587</td>\n",
       "      <td>-0.138503</td>\n",
       "      <td>-1.776611e-12</td>\n",
       "      <td>1.000000</td>\n",
       "      <td>0.009332</td>\n",
       "      <td>0.999956</td>\n",
       "    </tr>\n",
       "    <tr>\n",
       "      <th>1</th>\n",
       "      <td>996.62</td>\n",
       "      <td>-8.88</td>\n",
       "      <td>264.54</td>\n",
       "      <td>-9.77</td>\n",
       "      <td>93.2</td>\n",
       "      <td>3.12</td>\n",
       "      <td>2.90</td>\n",
       "      <td>0.21</td>\n",
       "      <td>1.81</td>\n",
       "      <td>2.91</td>\n",
       "      <td>1312.25</td>\n",
       "      <td>-0.245971</td>\n",
       "      <td>-0.044701</td>\n",
       "      <td>-0.619848</td>\n",
       "      <td>-0.112645</td>\n",
       "      <td>2.588190e-01</td>\n",
       "      <td>0.965926</td>\n",
       "      <td>0.010049</td>\n",
       "      <td>0.999950</td>\n",
       "    </tr>\n",
       "    <tr>\n",
       "      <th>2</th>\n",
       "      <td>996.84</td>\n",
       "      <td>-8.81</td>\n",
       "      <td>264.59</td>\n",
       "      <td>-9.66</td>\n",
       "      <td>93.5</td>\n",
       "      <td>3.13</td>\n",
       "      <td>2.93</td>\n",
       "      <td>0.20</td>\n",
       "      <td>1.83</td>\n",
       "      <td>2.94</td>\n",
       "      <td>1312.18</td>\n",
       "      <td>-0.175527</td>\n",
       "      <td>0.039879</td>\n",
       "      <td>-0.614344</td>\n",
       "      <td>0.139576</td>\n",
       "      <td>5.000000e-01</td>\n",
       "      <td>0.866025</td>\n",
       "      <td>0.010766</td>\n",
       "      <td>0.999942</td>\n",
       "    </tr>\n",
       "    <tr>\n",
       "      <th>3</th>\n",
       "      <td>996.99</td>\n",
       "      <td>-9.05</td>\n",
       "      <td>264.34</td>\n",
       "      <td>-10.02</td>\n",
       "      <td>92.6</td>\n",
       "      <td>3.07</td>\n",
       "      <td>2.85</td>\n",
       "      <td>0.23</td>\n",
       "      <td>1.78</td>\n",
       "      <td>2.85</td>\n",
       "      <td>1313.61</td>\n",
       "      <td>-0.050000</td>\n",
       "      <td>-0.086603</td>\n",
       "      <td>-0.190000</td>\n",
       "      <td>-0.329090</td>\n",
       "      <td>7.071068e-01</td>\n",
       "      <td>0.707107</td>\n",
       "      <td>0.011483</td>\n",
       "      <td>0.999934</td>\n",
       "    </tr>\n",
       "    <tr>\n",
       "      <th>4</th>\n",
       "      <td>997.46</td>\n",
       "      <td>-9.63</td>\n",
       "      <td>263.72</td>\n",
       "      <td>-10.65</td>\n",
       "      <td>92.2</td>\n",
       "      <td>2.94</td>\n",
       "      <td>2.71</td>\n",
       "      <td>0.23</td>\n",
       "      <td>1.69</td>\n",
       "      <td>2.71</td>\n",
       "      <td>1317.19</td>\n",
       "      <td>-0.368202</td>\n",
       "      <td>0.156292</td>\n",
       "      <td>-0.810044</td>\n",
       "      <td>0.343843</td>\n",
       "      <td>8.660254e-01</td>\n",
       "      <td>0.500000</td>\n",
       "      <td>0.012199</td>\n",
       "      <td>0.999926</td>\n",
       "    </tr>\n",
       "  </tbody>\n",
       "</table>\n",
       "</div>"
      ],
      "text/plain": [
       "   p (mbar)  T (degC)  Tpot (K)  Tdew (degC)  rh (%)  VPmax (mbar)  \\\n",
       "0    996.50     -8.05    265.38        -8.78    94.4          3.33   \n",
       "1    996.62     -8.88    264.54        -9.77    93.2          3.12   \n",
       "2    996.84     -8.81    264.59        -9.66    93.5          3.13   \n",
       "3    996.99     -9.05    264.34       -10.02    92.6          3.07   \n",
       "4    997.46     -9.63    263.72       -10.65    92.2          2.94   \n",
       "\n",
       "   VPact (mbar)  VPdef (mbar)  sh (g/kg)  H2OC (mmol/mol)  rho (g/m**3)  \\\n",
       "0          3.14          0.19       1.96             3.15       1307.86   \n",
       "1          2.90          0.21       1.81             2.91       1312.25   \n",
       "2          2.93          0.20       1.83             2.94       1312.18   \n",
       "3          2.85          0.23       1.78             2.85       1313.61   \n",
       "4          2.71          0.23       1.69             2.71       1317.19   \n",
       "\n",
       "         Wx        Wy    max Wx    max Wy       Day sin   Day cos  Year sin  \\\n",
       "0 -0.204862 -0.046168 -0.614587 -0.138503 -1.776611e-12  1.000000  0.009332   \n",
       "1 -0.245971 -0.044701 -0.619848 -0.112645  2.588190e-01  0.965926  0.010049   \n",
       "2 -0.175527  0.039879 -0.614344  0.139576  5.000000e-01  0.866025  0.010766   \n",
       "3 -0.050000 -0.086603 -0.190000 -0.329090  7.071068e-01  0.707107  0.011483   \n",
       "4 -0.368202  0.156292 -0.810044  0.343843  8.660254e-01  0.500000  0.012199   \n",
       "\n",
       "   Year cos  \n",
       "0  0.999956  \n",
       "1  0.999950  \n",
       "2  0.999942  \n",
       "3  0.999934  \n",
       "4  0.999926  "
      ]
     },
     "execution_count": 6,
     "metadata": {},
     "output_type": "execute_result"
    }
   ],
   "source": [
    "df.head()"
   ]
  },
  {
   "cell_type": "code",
   "execution_count": 7,
   "metadata": {},
   "outputs": [],
   "source": [
    "# split data\n",
    "n = len(df)\n",
    "train_df = df[0 : int(n * 0.7)]\n",
    "val_df = df[int(n * 0.7) : int(n * 0.9)]\n",
    "test_df = df[int(n * 0.9) :]"
   ]
  },
  {
   "cell_type": "code",
   "execution_count": 8,
   "metadata": {},
   "outputs": [],
   "source": [
    "# Normalize data\n",
    "train_mean = train_df.mean()\n",
    "train_std = train_df.std()\n",
    "\n",
    "train_df = (train_df - train_mean) / train_std\n",
    "val_df = (val_df - train_mean) / train_std\n",
    "test_df = (test_df - train_mean) / train_std"
   ]
  },
  {
   "cell_type": "code",
   "execution_count": 9,
   "metadata": {},
   "outputs": [
    {
     "data": {
      "text/plain": [
       "Index(['p (mbar)', 'T (degC)', 'Tpot (K)', 'Tdew (degC)', 'rh (%)',\n",
       "       'VPmax (mbar)', 'VPact (mbar)', 'VPdef (mbar)', 'sh (g/kg)',\n",
       "       'H2OC (mmol/mol)', 'rho (g/m**3)', 'Wx', 'Wy', 'max Wx', 'max Wy',\n",
       "       'Day sin', 'Day cos', 'Year sin', 'Year cos'],\n",
       "      dtype='object')"
      ]
     },
     "execution_count": 9,
     "metadata": {},
     "output_type": "execute_result"
    }
   ],
   "source": [
    "train_df.columns"
   ]
  },
  {
   "cell_type": "code",
   "execution_count": 10,
   "metadata": {},
   "outputs": [],
   "source": [
    "window = WindowGenerator(\n",
    "    label_width=15,\n",
    "    input_width=30,\n",
    "    feature_columns= ['p (mbar)', 'T (degC)', 'Tpot (K)', 'Tdew (degC)'],\n",
    "    label_columns= ['p (mbar)', 'T (degC)', 'Tpot (K)', 'Tdew (degC)'],\n",
    "    shift=15,\n",
    ")"
   ]
  },
  {
   "cell_type": "code",
   "execution_count": 11,
   "metadata": {},
   "outputs": [],
   "source": [
    "inputs_train, labels_train = window.create_dataset(train_df)\n",
    "inputs_val, labels_val = window.create_dataset(val_df)\n",
    "inputs_test, labels_test = window.create_dataset(test_df)"
   ]
  },
  {
   "cell_type": "markdown",
   "metadata": {},
   "source": [
    "### Classic ML models"
   ]
  },
  {
   "cell_type": "code",
   "execution_count": 12,
   "metadata": {},
   "outputs": [],
   "source": [
    "from sklearn.linear_model import LinearRegression\n",
    "from sklearn import ensemble\n",
    "from sklearn.neighbors import KNeighborsRegressor"
   ]
  },
  {
   "cell_type": "code",
   "execution_count": 13,
   "metadata": {},
   "outputs": [],
   "source": [
    "test_set_metrics = {}\n",
    "\n",
    "models = [LinearRegression(), KNeighborsRegressor(n_neighbors=7), \n",
    "          ensemble.ExtraTreesRegressor(max_depth=3, n_estimators=500)]\n",
    "models_names = ['LRegression','KNNeighbor','ExtraT'] "
   ]
  },
  {
   "cell_type": "code",
   "execution_count": 14,
   "metadata": {},
   "outputs": [],
   "source": [
    "for name, model in zip(models_names, models):\n",
    "    \n",
    "    model.fit(cm.in_reshape(inputs_train), cm.in_reshape(labels_train))  \n",
    "    test_set_metrics[name] = (mean_squared_error(\n",
    "    labels_test.flatten(), model.predict(cm.in_reshape(inputs_test)).flatten()), \n",
    "    mean_absolute_error(\n",
    "    labels_test.flatten(), model.predict(cm.in_reshape(inputs_test)).flatten()))"
   ]
  },
  {
   "cell_type": "markdown",
   "metadata": {},
   "source": [
    "### Naive model"
   ]
  },
  {
   "cell_type": "code",
   "execution_count": 15,
   "metadata": {},
   "outputs": [],
   "source": [
    "model_n = \"naive\"\n",
    "\n",
    "test_set_metrics[model_n] = mean_squared_error(\n",
    "    labels_test.flatten(), nn.naive_model(window, inputs_test, labels_test).flatten()\n",
    "), mean_absolute_error(\n",
    "    labels_test.flatten(), nn.naive_model(window, inputs_test, labels_test).flatten()\n",
    ")\n"
   ]
  },
  {
   "cell_type": "markdown",
   "metadata": {},
   "source": [
    "### Dense"
   ]
  },
  {
   "cell_type": "code",
   "execution_count": 16,
   "metadata": {},
   "outputs": [],
   "source": [
    "tf.keras.backend.clear_session()"
   ]
  },
  {
   "cell_type": "code",
   "execution_count": 17,
   "metadata": {},
   "outputs": [],
   "source": [
    "model = nn.dense_model(window, units=10)\n",
    "\n",
    "history = nn.compile_and_fit(\n",
    "    model, X=inputs_train, y=labels_train, val_X=inputs_val, val_y=labels_val\n",
    ")\n",
    "\n",
    "IPython.display.clear_output()"
   ]
  },
  {
   "cell_type": "code",
   "execution_count": 18,
   "metadata": {},
   "outputs": [
    {
     "name": "stdout",
     "output_type": "stream",
     "text": [
      "WARNING:tensorflow:AutoGraph could not transform <function Model.make_predict_function.<locals>.predict_function at 0x2865b9940> and will run it as-is.\n",
      "Please report this to the TensorFlow team. When filing the bug, set the verbosity to 10 (on Linux, `export AUTOGRAPH_VERBOSITY=10`) and attach the full output.\n",
      "Cause: unsupported operand type(s) for -: 'NoneType' and 'int'\n",
      "To silence this warning, decorate the function with @tf.autograph.experimental.do_not_convert\n",
      "WARNING: AutoGraph could not transform <function Model.make_predict_function.<locals>.predict_function at 0x2865b9940> and will run it as-is.\n",
      "Please report this to the TensorFlow team. When filing the bug, set the verbosity to 10 (on Linux, `export AUTOGRAPH_VERBOSITY=10`) and attach the full output.\n",
      "Cause: unsupported operand type(s) for -: 'NoneType' and 'int'\n",
      "To silence this warning, decorate the function with @tf.autograph.experimental.do_not_convert\n"
     ]
    }
   ],
   "source": [
    "model_n = \"dense_model\"\n",
    "n_trainable_params = {}\n",
    "history_set = {}\n",
    "test_set_metrics[\"dense_vec\"] = mean_squared_error(\n",
    "    labels_test.flatten(), model.predict(inputs_test).flatten()\n",
    "), mean_absolute_error(\n",
    "    labels_test.flatten(), model.predict(inputs_test).flatten()\n",
    ")\n",
    "\n",
    "\n",
    "history_set[model_n] = history\n",
    "n_trainable_params[model_n] = np.sum(\n",
    "    [np.prod(v.shape) for v in model.trainable_variables]\n",
    ")"
   ]
  },
  {
   "cell_type": "markdown",
   "metadata": {},
   "source": [
    "### Conv: flexible input/output"
   ]
  },
  {
   "cell_type": "code",
   "execution_count": 19,
   "metadata": {},
   "outputs": [
    {
     "name": "stdout",
     "output_type": "stream",
     "text": [
      "WARNING:tensorflow:AutoGraph could not transform <function Model.make_predict_function.<locals>.predict_function at 0x286417a60> and will run it as-is.\n",
      "Please report this to the TensorFlow team. When filing the bug, set the verbosity to 10 (on Linux, `export AUTOGRAPH_VERBOSITY=10`) and attach the full output.\n",
      "Cause: unsupported operand type(s) for -: 'NoneType' and 'int'\n",
      "To silence this warning, decorate the function with @tf.autograph.experimental.do_not_convert\n",
      "WARNING: AutoGraph could not transform <function Model.make_predict_function.<locals>.predict_function at 0x286417a60> and will run it as-is.\n",
      "Please report this to the TensorFlow team. When filing the bug, set the verbosity to 10 (on Linux, `export AUTOGRAPH_VERBOSITY=10`) and attach the full output.\n",
      "Cause: unsupported operand type(s) for -: 'NoneType' and 'int'\n",
      "To silence this warning, decorate the function with @tf.autograph.experimental.do_not_convert\n"
     ]
    }
   ],
   "source": [
    "model = nn.conv_flex_model(window=window, filters=10)\n",
    "\n",
    "history = nn.compile_and_fit(\n",
    "    model, X=inputs_train, y=labels_train, val_X=inputs_val, val_y=labels_val\n",
    ")\n",
    "\n",
    "IPython.display.clear_output()\n",
    "\n",
    "\n",
    "model_n = \"conv_flex_model\"\n",
    "\n",
    "test_set_metrics[model_n] = mean_squared_error(\n",
    "    labels_test.flatten(), model.predict(inputs_test).flatten()\n",
    "),mean_absolute_error(\n",
    "    labels_test.flatten(), model.predict(inputs_test).flatten()\n",
    ")\n",
    "history_set[model_n] = history\n",
    "n_trainable_params[model_n] = np.sum(\n",
    "    [np.prod(v.shape) for v in model.trainable_variables]\n",
    ")"
   ]
  },
  {
   "cell_type": "markdown",
   "metadata": {},
   "source": [
    "### Conv: recursive training"
   ]
  },
  {
   "cell_type": "code",
   "execution_count": 20,
   "metadata": {},
   "outputs": [
    {
     "name": "stdout",
     "output_type": "stream",
     "text": [
      "WARNING:tensorflow:AutoGraph could not transform <function Model.make_predict_function.<locals>.predict_function at 0x296677c10> and will run it as-is.\n",
      "Please report this to the TensorFlow team. When filing the bug, set the verbosity to 10 (on Linux, `export AUTOGRAPH_VERBOSITY=10`) and attach the full output.\n",
      "Cause: unsupported operand type(s) for -: 'NoneType' and 'int'\n",
      "To silence this warning, decorate the function with @tf.autograph.experimental.do_not_convert\n",
      "WARNING: AutoGraph could not transform <function Model.make_predict_function.<locals>.predict_function at 0x296677c10> and will run it as-is.\n",
      "Please report this to the TensorFlow team. When filing the bug, set the verbosity to 10 (on Linux, `export AUTOGRAPH_VERBOSITY=10`) and attach the full output.\n",
      "Cause: unsupported operand type(s) for -: 'NoneType' and 'int'\n",
      "To silence this warning, decorate the function with @tf.autograph.experimental.do_not_convert\n"
     ]
    }
   ],
   "source": [
    "model = nn.conv_model_recursive_train(window=window, filters=10)\n",
    "\n",
    "history = nn.compile_and_fit(\n",
    "    model, X=inputs_train, y=labels_train, val_X=inputs_val, val_y=labels_val\n",
    ")\n",
    "\n",
    "IPython.display.clear_output()\n",
    "\n",
    "model_n = \"conv_recursive_t\"\n",
    "\n",
    "test_set_metrics[model_n] = mean_squared_error(\n",
    "    labels_test.flatten(), model.predict(inputs_test).flatten()\n",
    "),mean_absolute_error(\n",
    "    labels_test.flatten(), model.predict(inputs_test).flatten()\n",
    ")\n",
    "history_set[model_n] = history\n",
    "n_trainable_params[model_n] = np.sum(\n",
    "    [np.prod(v.shape) for v in model.trainable_variables]\n",
    ")"
   ]
  },
  {
   "cell_type": "markdown",
   "metadata": {},
   "source": [
    "### LSTM: simple "
   ]
  },
  {
   "cell_type": "code",
   "execution_count": 21,
   "metadata": {},
   "outputs": [
    {
     "name": "stdout",
     "output_type": "stream",
     "text": [
      "WARNING:tensorflow:AutoGraph could not transform <function Model.make_predict_function.<locals>.predict_function at 0x2b07403a0> and will run it as-is.\n",
      "Please report this to the TensorFlow team. When filing the bug, set the verbosity to 10 (on Linux, `export AUTOGRAPH_VERBOSITY=10`) and attach the full output.\n",
      "Cause: unsupported operand type(s) for -: 'NoneType' and 'int'\n",
      "To silence this warning, decorate the function with @tf.autograph.experimental.do_not_convert\n",
      "WARNING: AutoGraph could not transform <function Model.make_predict_function.<locals>.predict_function at 0x2b07403a0> and will run it as-is.\n",
      "Please report this to the TensorFlow team. When filing the bug, set the verbosity to 10 (on Linux, `export AUTOGRAPH_VERBOSITY=10`) and attach the full output.\n",
      "Cause: unsupported operand type(s) for -: 'NoneType' and 'int'\n",
      "To silence this warning, decorate the function with @tf.autograph.experimental.do_not_convert\n"
     ]
    }
   ],
   "source": [
    "model = nn.LSTM_model_vec_out(window=window, units=10)\n",
    "\n",
    "history = nn.compile_and_fit(\n",
    "    model, X=inputs_train, y=labels_train, val_X=inputs_val, val_y=labels_val\n",
    ")\n",
    "\n",
    "IPython.display.clear_output()\n",
    "\n",
    "model_n = \"LSTM_model\"\n",
    "\n",
    "test_set_metrics[model_n] = mean_squared_error(\n",
    "    labels_test.flatten(), model.predict(inputs_test).flatten()\n",
    "),mean_absolute_error(\n",
    "    labels_test.flatten(), model.predict(inputs_test).flatten()\n",
    ")\n",
    "history_set[model_n] = history\n",
    "n_trainable_params[model_n] = np.sum(\n",
    "    [np.prod(v.shape) for v in model.trainable_variables]\n",
    ")"
   ]
  },
  {
   "cell_type": "markdown",
   "metadata": {},
   "source": [
    "### LSTM: lambda layer "
   ]
  },
  {
   "cell_type": "code",
   "execution_count": 22,
   "metadata": {},
   "outputs": [
    {
     "name": "stdout",
     "output_type": "stream",
     "text": [
      "WARNING:tensorflow:AutoGraph could not transform <function Model.make_predict_function.<locals>.predict_function at 0x2cf099e50> and will run it as-is.\n",
      "Please report this to the TensorFlow team. When filing the bug, set the verbosity to 10 (on Linux, `export AUTOGRAPH_VERBOSITY=10`) and attach the full output.\n",
      "Cause: unsupported operand type(s) for -: 'NoneType' and 'int'\n",
      "To silence this warning, decorate the function with @tf.autograph.experimental.do_not_convert\n",
      "WARNING: AutoGraph could not transform <function Model.make_predict_function.<locals>.predict_function at 0x2cf099e50> and will run it as-is.\n",
      "Please report this to the TensorFlow team. When filing the bug, set the verbosity to 10 (on Linux, `export AUTOGRAPH_VERBOSITY=10`) and attach the full output.\n",
      "Cause: unsupported operand type(s) for -: 'NoneType' and 'int'\n",
      "To silence this warning, decorate the function with @tf.autograph.experimental.do_not_convert\n"
     ]
    }
   ],
   "source": [
    "## lambda layer\n",
    "model = nn.LSTM_lambda_layer(window=window, units=10)\n",
    "\n",
    "history = nn.compile_and_fit(\n",
    "    model, X=inputs_train, y=labels_train, val_X=inputs_val, val_y=labels_val\n",
    ")\n",
    "\n",
    "IPython.display.clear_output()\n",
    "\n",
    "model_n = \"LSTM_lambda\"\n",
    "\n",
    "test_set_metrics[model_n] = mean_squared_error(\n",
    "    labels_test.flatten(), model.predict(inputs_test).flatten()\n",
    "),mean_absolute_error(\n",
    "    labels_test.flatten(), model.predict(inputs_test).flatten()\n",
    ")\n",
    "history_set[model_n] = history\n",
    "n_trainable_params[model_n] = np.sum(\n",
    "    [np.prod(v.shape) for v in model.trainable_variables]\n",
    ")"
   ]
  },
  {
   "cell_type": "markdown",
   "metadata": {},
   "source": [
    "### LSTM: encoder-decoder"
   ]
  },
  {
   "cell_type": "code",
   "execution_count": 23,
   "metadata": {},
   "outputs": [
    {
     "name": "stdout",
     "output_type": "stream",
     "text": [
      "WARNING:tensorflow:AutoGraph could not transform <function Model.make_predict_function.<locals>.predict_function at 0x2d0a8e0d0> and will run it as-is.\n",
      "Please report this to the TensorFlow team. When filing the bug, set the verbosity to 10 (on Linux, `export AUTOGRAPH_VERBOSITY=10`) and attach the full output.\n",
      "Cause: unsupported operand type(s) for -: 'NoneType' and 'int'\n",
      "To silence this warning, decorate the function with @tf.autograph.experimental.do_not_convert\n",
      "WARNING: AutoGraph could not transform <function Model.make_predict_function.<locals>.predict_function at 0x2d0a8e0d0> and will run it as-is.\n",
      "Please report this to the TensorFlow team. When filing the bug, set the verbosity to 10 (on Linux, `export AUTOGRAPH_VERBOSITY=10`) and attach the full output.\n",
      "Cause: unsupported operand type(s) for -: 'NoneType' and 'int'\n",
      "To silence this warning, decorate the function with @tf.autograph.experimental.do_not_convert\n"
     ]
    }
   ],
   "source": [
    "model = nn.LSTM_model_encoder_decoder(window=window, encoder_units=10, decoder_units=10)\n",
    "\n",
    "history = nn.compile_and_fit(\n",
    "    model, X=inputs_train, y=labels_train, val_X=inputs_val, val_y=labels_val\n",
    ")\n",
    "\n",
    "IPython.display.clear_output()\n",
    "\n",
    "model_n = \"LSTM_en_de\"\n",
    "\n",
    "test_set_metrics[model_n] = mean_squared_error(\n",
    "    labels_test.flatten(), model.predict(inputs_test).flatten()\n",
    "), mean_absolute_error(\n",
    "    labels_test.flatten(), model.predict(inputs_test).flatten()\n",
    ")\n",
    "history_set[model_n] = history\n",
    "n_trainable_params[model_n] = np.sum(\n",
    "    [np.prod(v.shape) for v in model.trainable_variables]\n",
    ")"
   ]
  },
  {
   "cell_type": "markdown",
   "metadata": {},
   "source": [
    "### LSTM: recursive training"
   ]
  },
  {
   "cell_type": "code",
   "execution_count": 24,
   "metadata": {},
   "outputs": [
    {
     "name": "stdout",
     "output_type": "stream",
     "text": [
      "WARNING:tensorflow:AutoGraph could not transform <function Model.make_predict_function.<locals>.predict_function at 0x2fe9ffe50> and will run it as-is.\n",
      "Please report this to the TensorFlow team. When filing the bug, set the verbosity to 10 (on Linux, `export AUTOGRAPH_VERBOSITY=10`) and attach the full output.\n",
      "Cause: unsupported operand type(s) for -: 'NoneType' and 'int'\n",
      "To silence this warning, decorate the function with @tf.autograph.experimental.do_not_convert\n",
      "WARNING: AutoGraph could not transform <function Model.make_predict_function.<locals>.predict_function at 0x2fe9ffe50> and will run it as-is.\n",
      "Please report this to the TensorFlow team. When filing the bug, set the verbosity to 10 (on Linux, `export AUTOGRAPH_VERBOSITY=10`) and attach the full output.\n",
      "Cause: unsupported operand type(s) for -: 'NoneType' and 'int'\n",
      "To silence this warning, decorate the function with @tf.autograph.experimental.do_not_convert\n"
     ]
    }
   ],
   "source": [
    "model = nn.LSTM_model_recursive_train(window=window, units=10)\n",
    "\n",
    "history = nn.compile_and_fit(\n",
    "    model, X=inputs_train, y=labels_train, val_X=inputs_val, val_y=labels_val\n",
    ")\n",
    "\n",
    "IPython.display.clear_output()\n",
    "\n",
    "\n",
    "model_n = \"LSTM_recursive_t\"\n",
    "\n",
    "test_set_metrics[model_n] = mean_squared_error(\n",
    "    labels_test.flatten(), model.predict(inputs_test).flatten()\n",
    "), mean_absolute_error(\n",
    "    labels_test.flatten(), model.predict(inputs_test).flatten()\n",
    ")\n",
    "history_set[model_n] = history\n",
    "n_trainable_params[model_n] = np.sum(\n",
    "    [np.prod(v.shape) for v in model.trainable_variables]\n",
    ")\n"
   ]
  },
  {
   "cell_type": "markdown",
   "metadata": {},
   "source": [
    "### Analytics"
   ]
  },
  {
   "cell_type": "code",
   "execution_count": 25,
   "metadata": {},
   "outputs": [
    {
     "data": {
      "text/plain": [
       "'df_feat_enged'"
      ]
     },
     "execution_count": 25,
     "metadata": {},
     "output_type": "execute_result"
    }
   ],
   "source": [
    "data_name"
   ]
  },
  {
   "cell_type": "code",
   "execution_count": 26,
   "metadata": {},
   "outputs": [
    {
     "data": {
      "image/png": "[encoded data removed]",
      "text/plain": [
       "<Figure size 1080x720 with 2 Axes>"
      ]
     },
     "metadata": {
      "needs_background": "light"
     },
     "output_type": "display_data"
    }
   ],
   "source": [
    "import matplotlib as mpl\n",
    "\n",
    "mpl.rcParams['figure.figsize'] = (15, 10)\n",
    "mpl.rcParams['axes.grid'] = False\n",
    "\n",
    "\n",
    "fig, ax1 = plt.subplots()\n",
    "\n",
    "x = np.arange(len(test_set_metrics))\n",
    "width = 0.3\n",
    "\n",
    "color = \"tab:gray\"\n",
    "ax1.set_ylabel(\"MSE over features and time-steps\", color=color, fontsize=15)\n",
    "ax1.bar(x- width/2 , [i[0] for i in test_set_metrics.values()], width, color=color)\n",
    "ax1.bar_label(ax1.containers[0],fmt='%.2f', fontsize=12, padding=3)\n",
    "ax1.set_xticks(ticks=x)\n",
    "ax1.set_xticklabels(labels=test_set_metrics.keys(), fontsize=15)\n",
    "ax1.xaxis.set_tick_params(rotation=45)\n",
    "\n",
    "ax2 = ax1.twinx()\n",
    "\n",
    "color = \"tab:orange\"\n",
    "ax2.set_ylabel(\"MAE over features and time-steps\", color=color, fontsize=15)\n",
    "width = 0.3\n",
    "ax2.bar(x + width/2, [i[1] for i in test_set_metrics.values()], width, color=color)\n",
    "ax2.bar_label(ax2.containers[0],fmt='%.2f', fontsize=12, padding=3)\n",
    "fig.tight_layout()\n",
    "plt.savefig(data_name +'.pdf', dpi=fig.dpi)\n",
    "plt.show()\n"
   ]
  },
  {
   "cell_type": "code",
   "execution_count": 27,
   "metadata": {},
   "outputs": [
    {
     "data": {
      "image/png": "[encoded data removed]",
      "text/plain": [
       "<Figure size 720x360 with 8 Axes>"
      ]
     },
     "metadata": {
      "needs_background": "light"
     },
     "output_type": "display_data"
    }
   ],
   "source": [
    "fig, axes = plt.subplots(2, 4, sharex=True, figsize=(10, 5))\n",
    "axes = axes.ravel()\n",
    "\n",
    "for i, (key, value) in enumerate(history_set.items()):\n",
    "\n",
    "    axes[i].plot(history_set[key].history[\"loss\"], label=\"train\")\n",
    "    axes[i].plot(history_set[key].history[\"val_loss\"], label=\"validation\")\n",
    "    axes[i].set(title=(key,n_trainable_params[key]))\n",
    "    \n",
    "    axes[i].legend()\n",
    "\n",
    "plt.tight_layout()\n",
    "axes[7].set_axis_off()\n"
   ]
  },
  {
   "cell_type": "markdown",
   "metadata": {},
   "source": [
    "### Recursive forecast:"
   ]
  },
  {
   "cell_type": "code",
   "execution_count": 30,
   "metadata": {},
   "outputs": [
    {
     "name": "stdout",
     "output_type": "stream",
     "text": [
      "WARNING:tensorflow:AutoGraph could not transform <function Model.make_predict_function.<locals>.predict_function at 0x38377db80> and will run it as-is.\n",
      "Please report this to the TensorFlow team. When filing the bug, set the verbosity to 10 (on Linux, `export AUTOGRAPH_VERBOSITY=10`) and attach the full output.\n",
      "Cause: unsupported operand type(s) for -: 'NoneType' and 'int'\n",
      "To silence this warning, decorate the function with @tf.autograph.experimental.do_not_convert\n",
      "WARNING: AutoGraph could not transform <function Model.make_predict_function.<locals>.predict_function at 0x38377db80> and will run it as-is.\n",
      "Please report this to the TensorFlow team. When filing the bug, set the verbosity to 10 (on Linux, `export AUTOGRAPH_VERBOSITY=10`) and attach the full output.\n",
      "Cause: unsupported operand type(s) for -: 'NoneType' and 'int'\n",
      "To silence this warning, decorate the function with @tf.autograph.experimental.do_not_convert\n"
     ]
    },
    {
     "data": {
      "image/png": "[encoded data removed]",
      "text/plain": [
       "<Figure size 720x360 with 4 Axes>"
      ]
     },
     "metadata": {
      "needs_background": "light"
     },
     "output_type": "display_data"
    }
   ],
   "source": [
    "models = [LinearRegression(), nn.conv_flex_model, nn.LSTM_model_vec_out, nn.LSTM_model_encoder_decoder]\n",
    "models_n = ['Lr', 'Conv_flex','LSTM_model','LSTM_en_de']\n",
    "\n",
    "fig, axes = plt.subplots(1, len(models), sharex=True, figsize=(10, 5))\n",
    "axes = axes.ravel()\n",
    "\n",
    "for i in range(len(models)):  \n",
    "    \n",
    "    print(\"steps:\",i)\n",
    "    \n",
    "    if models_n[i] == 'Lr':\n",
    "        module = cm\n",
    "    else:\n",
    "        module = nn\n",
    "    \n",
    "    recursive = module.Recursive_Forecast(\n",
    "    output_time_step=15,\n",
    "    input_width=30,  \n",
    "    feature_columns= ['p (mbar)', 'T (degC)', 'Tpot (K)', 'Tdew (degC)'],\n",
    "    label_columns=['p (mbar)', 'T (degC)', 'Tpot (K)', 'Tdew (degC)'],\n",
    "        )\n",
    "    recursive.datasets(train_set=train_df, valid_set=val_df, test_set=test_df)\n",
    "    recursive.model_fit(models[i])\n",
    "    IPython.display.clear_output()\n",
    "        \n",
    "    preds, labels = recursive.recursive_predictions(data=\"test\") \n",
    "    \n",
    "    score = np.around(mean_absolute_error(preds.flatten(),labels.flatten()), decimals=2)    \n",
    "    \n",
    "    recursive.plot_forecast_recursive(data=\"test\", plot_col=\"p (mbar)\", ax=axes[i])\n",
    "    axes[i].set_title((models_n[i], \"MAE\"+ str(score)))\n",
    "\n",
    "plt.tight_layout()"
   ]
  },
  {
   "cell_type": "markdown",
   "metadata": {},
   "source": [
    "### Direct forecast:"
   ]
  },
  {
   "cell_type": "code",
   "execution_count": null,
   "metadata": {},
   "outputs": [
    {
     "name": "stdout",
     "output_type": "stream",
     "text": [
      "steps: 3\n",
      "Model on time step 1 is being trained!\n",
      "Epoch 1/30\n",
      "WARNING:tensorflow:AutoGraph could not transform <function Model.make_train_function.<locals>.train_function at 0x316e67700> and will run it as-is.\n",
      "Please report this to the TensorFlow team. When filing the bug, set the verbosity to 10 (on Linux, `export AUTOGRAPH_VERBOSITY=10`) and attach the full output.\n",
      "Cause: unsupported operand type(s) for -: 'NoneType' and 'int'\n",
      "To silence this warning, decorate the function with @tf.autograph.experimental.do_not_convert\n",
      "WARNING: AutoGraph could not transform <function Model.make_train_function.<locals>.train_function at 0x316e67700> and will run it as-is.\n",
      "Please report this to the TensorFlow team. When filing the bug, set the verbosity to 10 (on Linux, `export AUTOGRAPH_VERBOSITY=10`) and attach the full output.\n",
      "Cause: unsupported operand type(s) for -: 'NoneType' and 'int'\n",
      "To silence this warning, decorate the function with @tf.autograph.experimental.do_not_convert\n",
      "1515/1533 [============================>.] - ETA: 0s - loss: 0.3534 - mean_absolute_error: 0.3896- ETA: 2s - loss: 0 - ETA: 0s - loss: 0.4022 - mean_absolutWARNING:tensorflow:AutoGraph could not transform <function Model.make_test_function.<locals>.test_function at 0x168d5bdc0> and will run it as-is.\n",
      "Please report this to the TensorFlow team. When filing the bug, set the verbosity to 10 (on Linux, `export AUTOGRAPH_VERBOSITY=10`) and attach the full output.\n",
      "Cause: unsupported operand type(s) for -: 'NoneType' and 'int'\n",
      "To silence this warning, decorate the function with @tf.autograph.experimental.do_not_convert\n",
      "WARNING: AutoGraph could not transform <function Model.make_test_function.<locals>.test_function at 0x168d5bdc0> and will run it as-is.\n",
      "Please report this to the TensorFlow team. When filing the bug, set the verbosity to 10 (on Linux, `export AUTOGRAPH_VERBOSITY=10`) and attach the full output.\n",
      "Cause: unsupported operand type(s) for -: 'NoneType' and 'int'\n",
      "To silence this warning, decorate the function with @tf.autograph.experimental.do_not_convert\n",
      "1533/1533 [==============================] - 4s 2ms/step - loss: 0.3508 - mean_absolute_error: 0.3874 - val_loss: 0.0117 - val_mean_absolute_error: 0.0751\n",
      "Epoch 2/30\n",
      "1533/1533 [==============================] - 3s 2ms/step - loss: 0.0112 - mean_absolute_error: 0.0724 - val_loss: 0.0075 - val_mean_absolute_error: 0.0600\n",
      "Epoch 3/30\n",
      "1533/1533 [==============================] - 3s 2ms/step - loss: 0.0096 - mean_absolute_error: 0.0609 - val_loss: 0.0067 - val_mean_absolute_error: 0.0555\n",
      "Epoch 4/30\n",
      "1533/1533 [==============================] - 3s 2ms/step - loss: 0.0076 - mean_absolute_error: 0.0578 - val_loss: 0.0069 - val_mean_absolute_error: 0.0563\n",
      "Epoch 5/30\n",
      "1533/1533 [==============================] - 3s 2ms/step - loss: 0.0069 - mean_absolute_error: 0.0559 - val_loss: 0.0062 - val_mean_absolute_error: 0.0526\n",
      "Epoch 6/30\n",
      "1533/1533 [==============================] - 3s 2ms/step - loss: 0.0074 - mean_absolute_error: 0.0554 - val_loss: 0.0065 - val_mean_absolute_error: 0.0547\n",
      "Epoch 7/30\n",
      "1533/1533 [==============================] - 3s 2ms/step - loss: 0.0069 - mean_absolute_error: 0.0554 - val_loss: 0.0062 - val_mean_absolute_error: 0.0527\n",
      "Epoch 8/30\n",
      "1533/1533 [==============================] - 3s 2ms/step - loss: 0.0067 - mean_absolute_error: 0.0543 - val_loss: 0.0065 - val_mean_absolute_error: 0.05411s - loss: 0.0065 - mean_\n",
      "Epoch 9/30\n",
      "1533/1533 [==============================] - 3s 2ms/step - loss: 0.0068 - mean_absolute_error: 0.0545 - val_loss: 0.0064 - val_mean_absolute_error: 0.0549\n",
      "Epoch 10/30\n",
      "1533/1533 [==============================] - 3s 2ms/step - loss: 0.0066 - mean_absolute_error: 0.0542 - val_loss: 0.0065 - val_mean_absolute_error: 0.0560\n",
      "Epoch 11/30\n",
      "1533/1533 [==============================] - 3s 2ms/step - loss: 0.0066 - mean_absolute_error: 0.0542 - val_loss: 0.0061 - val_mean_absolute_error: 0.0517\n",
      "Epoch 12/30\n",
      "1533/1533 [==============================] - 3s 2ms/step - loss: 0.0072 - mean_absolute_error: 0.0544 - val_loss: 0.0061 - val_mean_absolute_error: 0.0516\n",
      "Epoch 13/30\n",
      "1533/1533 [==============================] - 4s 2ms/step - loss: 0.0069 - mean_absolute_error: 0.0538 - val_loss: 0.0060 - val_mean_absolute_error: 0.0517\n",
      "Epoch 14/30\n",
      "1533/1533 [==============================] - 3s 2ms/step - loss: 0.0067 - mean_absolute_error: 0.0536 - val_loss: 0.0061 - val_mean_absolute_error: 0.0521\n",
      "Epoch 15/30\n",
      "1533/1533 [==============================] - 3s 2ms/step - loss: 0.0065 - mean_absolute_error: 0.0532 - val_loss: 0.0060 - val_mean_absolute_error: 0.0516\n",
      "Epoch 16/30\n",
      "1533/1533 [==============================] - 3s 2ms/step - loss: 0.0067 - mean_absolute_error: 0.0530 - val_loss: 0.0060 - val_mean_absolute_error: 0.0516\n",
      "Epoch 17/30\n",
      "1533/1533 [==============================] - 3s 2ms/step - loss: 0.0065 - mean_absolute_error: 0.0535 - val_loss: 0.0059 - val_mean_absolute_error: 0.0511\n",
      "Epoch 18/30\n",
      "1533/1533 [==============================] - 3s 2ms/step - loss: 0.0062 - mean_absolute_error: 0.0529 - val_loss: 0.0061 - val_mean_absolute_error: 0.0528\n",
      "Epoch 19/30\n",
      "1533/1533 [==============================] - 3s 2ms/step - loss: 0.0064 - mean_absolute_error: 0.0527 - val_loss: 0.0059 - val_mean_absolute_error: 0.0512\n",
      "Epoch 20/30\n",
      "1533/1533 [==============================] - 3s 2ms/step - loss: 0.0062 - mean_absolute_error: 0.0527 - val_loss: 0.0059 - val_mean_absolute_error: 0.0506\n",
      "Epoch 21/30\n",
      "1533/1533 [==============================] - 3s 2ms/step - loss: 0.0062 - mean_absolute_error: 0.0522 - val_loss: 0.0058 - val_mean_absolute_error: 0.0502\n",
      "Epoch 22/30\n",
      "1533/1533 [==============================] - 3s 2ms/step - loss: 0.0063 - mean_absolute_error: 0.0525 - val_loss: 0.0059 - val_mean_absolute_error: 0.0514\n",
      "Epoch 23/30\n",
      "1533/1533 [==============================] - 3s 2ms/step - loss: 0.0064 - mean_absolute_error: 0.0524 - val_loss: 0.0061 - val_mean_absolute_error: 0.0528\n",
      "Epoch 24/30\n",
      "1533/1533 [==============================] - 4s 3ms/step - loss: 0.0066 - mean_absolute_error: 0.0524 - val_loss: 0.0059 - val_mean_absolute_error: 0.0516\n",
      "Epoch 25/30\n",
      "1533/1533 [==============================] - 3s 2ms/step - loss: 0.0062 - mean_absolute_error: 0.0522 - val_loss: 0.0062 - val_mean_absolute_error: 0.0535\n",
      "Epoch 26/30\n",
      "1533/1533 [==============================] - 3s 2ms/step - loss: 0.0060 - mean_absolute_error: 0.0518 - val_loss: 0.0061 - val_mean_absolute_error: 0.05210.0059 - me\n",
      "Epoch 27/30\n",
      "1533/1533 [==============================] - 3s 2ms/step - loss: 0.0063 - mean_absolute_error: 0.0520 - val_loss: 0.0057 - val_mean_absolute_error: 0.0505\n",
      "Epoch 28/30\n",
      "1533/1533 [==============================] - 3s 2ms/step - loss: 0.0066 - mean_absolute_error: 0.0518 - val_loss: 0.0056 - val_mean_absolute_error: 0.0496\n",
      "Epoch 29/30\n",
      "1533/1533 [==============================] - 3s 2ms/step - loss: 0.0059 - mean_absolute_error: 0.0515 - val_loss: 0.0062 - val_mean_absolute_error: 0.0541\n",
      "Epoch 30/30\n",
      "1533/1533 [==============================] - 3s 2ms/step - loss: 0.0061 - mean_absolute_error: 0.0515 - val_loss: 0.0056 - val_mean_absolute_error: 0.0500\n",
      "WARNING:tensorflow:AutoGraph could not transform <function Model.make_predict_function.<locals>.predict_function at 0x168eb3af0> and will run it as-is.\n",
      "Please report this to the TensorFlow team. When filing the bug, set the verbosity to 10 (on Linux, `export AUTOGRAPH_VERBOSITY=10`) and attach the full output.\n",
      "Cause: unsupported operand type(s) for -: 'NoneType' and 'int'\n",
      "To silence this warning, decorate the function with @tf.autograph.experimental.do_not_convert\n",
      "WARNING: AutoGraph could not transform <function Model.make_predict_function.<locals>.predict_function at 0x168eb3af0> and will run it as-is.\n",
      "Please report this to the TensorFlow team. When filing the bug, set the verbosity to 10 (on Linux, `export AUTOGRAPH_VERBOSITY=10`) and attach the full output.\n",
      "Cause: unsupported operand type(s) for -: 'NoneType' and 'int'\n",
      "To silence this warning, decorate the function with @tf.autograph.experimental.do_not_convert\n",
      "Model on time step 2 is being trained!\n",
      "Epoch 1/30\n",
      "WARNING:tensorflow:AutoGraph could not transform <function Model.make_train_function.<locals>.train_function at 0x168f790d0> and will run it as-is.\n",
      "Please report this to the TensorFlow team. When filing the bug, set the verbosity to 10 (on Linux, `export AUTOGRAPH_VERBOSITY=10`) and attach the full output.\n",
      "Cause: unsupported operand type(s) for -: 'NoneType' and 'int'\n",
      "To silence this warning, decorate the function with @tf.autograph.experimental.do_not_convert\n"
     ]
    },
    {
     "name": "stdout",
     "output_type": "stream",
     "text": [
      "WARNING: AutoGraph could not transform <function Model.make_train_function.<locals>.train_function at 0x168f790d0> and will run it as-is.\n",
      "Please report this to the TensorFlow team. When filing the bug, set the verbosity to 10 (on Linux, `export AUTOGRAPH_VERBOSITY=10`) and attach the full output.\n",
      "Cause: unsupported operand type(s) for -: 'NoneType' and 'int'\n",
      "To silence this warning, decorate the function with @tf.autograph.experimental.do_not_convert\n",
      "1526/1533 [============================>.] - ETA: 0s - loss: 0.3559 - mean_absolute_error: 0.4000- ETA: 1s - loss: 0.4611 - mean_abWARNING:tensorflow:AutoGraph could not transform <function Model.make_test_function.<locals>.test_function at 0x29f91db80> and will run it as-is.\n",
      "Please report this to the TensorFlow team. When filing the bug, set the verbosity to 10 (on Linux, `export AUTOGRAPH_VERBOSITY=10`) and attach the full output.\n",
      "Cause: unsupported operand type(s) for -: 'NoneType' and 'int'\n",
      "To silence this warning, decorate the function with @tf.autograph.experimental.do_not_convert\n",
      "WARNING: AutoGraph could not transform <function Model.make_test_function.<locals>.test_function at 0x29f91db80> and will run it as-is.\n",
      "Please report this to the TensorFlow team. When filing the bug, set the verbosity to 10 (on Linux, `export AUTOGRAPH_VERBOSITY=10`) and attach the full output.\n",
      "Cause: unsupported operand type(s) for -: 'NoneType' and 'int'\n",
      "To silence this warning, decorate the function with @tf.autograph.experimental.do_not_convert\n",
      "1533/1533 [==============================] - 3s 2ms/step - loss: 0.3548 - mean_absolute_error: 0.3992 - val_loss: 0.0311 - val_mean_absolute_error: 0.1261\n",
      "Epoch 2/30\n",
      "1533/1533 [==============================] - 3s 2ms/step - loss: 0.0302 - mean_absolute_error: 0.1246 - val_loss: 0.0241 - val_mean_absolute_error: 0.1115loss: 0.0318 - me\n",
      "Epoch 3/30\n",
      "1533/1533 [==============================] - 3s 2ms/step - loss: 0.0238 - mean_absolute_error: 0.1096 - val_loss: 0.0222 - val_mean_absolute_error: 0.1085\n",
      "Epoch 4/30\n",
      "1533/1533 [==============================] - 3s 2ms/step - loss: 0.0222 - mean_absolute_error: 0.1048 - val_loss: 0.0205 - val_mean_absolute_error: 0.1030\n",
      "Epoch 5/30\n",
      "1533/1533 [==============================] - 3s 2ms/step - loss: 0.0212 - mean_absolute_error: 0.1033 - val_loss: 0.0200 - val_mean_absolute_error: 0.0991\n",
      "Epoch 6/30\n",
      "1533/1533 [==============================] - 3s 2ms/step - loss: 0.0206 - mean_absolute_error: 0.1014 - val_loss: 0.0194 - val_mean_absolute_error: 0.0979\n",
      "Epoch 7/30\n",
      "1533/1533 [==============================] - 3s 2ms/step - loss: 0.0204 - mean_absolute_error: 0.1007 - val_loss: 0.0194 - val_mean_absolute_error: 0.0975\n",
      "Epoch 8/30\n",
      "1533/1533 [==============================] - 3s 2ms/step - loss: 0.0203 - mean_absolute_error: 0.1000 - val_loss: 0.0197 - val_mean_absolute_error: 0.1014\n",
      "Epoch 9/30\n",
      "1533/1533 [==============================] - 3s 2ms/step - loss: 0.0199 - mean_absolute_error: 0.0991 - val_loss: 0.0202 - val_mean_absolute_error: 0.1047\n",
      "Epoch 10/30\n",
      "1533/1533 [==============================] - 3s 2ms/step - loss: 0.0200 - mean_absolute_error: 0.0982 - val_loss: 0.0201 - val_mean_absolute_error: 0.1027\n",
      "Epoch 11/30\n",
      "1533/1533 [==============================] - 3s 2ms/step - loss: 0.0197 - mean_absolute_error: 0.0985 - val_loss: 0.0191 - val_mean_absolute_error: 0.0993\n",
      "Epoch 12/30\n",
      "1533/1533 [==============================] - 3s 2ms/step - loss: 0.0191 - mean_absolute_error: 0.0974 - val_loss: 0.0188 - val_mean_absolute_error: 0.0956\n",
      "Epoch 13/30\n",
      "1533/1533 [==============================] - 3s 2ms/step - loss: 0.0198 - mean_absolute_error: 0.0981 - val_loss: 0.0186 - val_mean_absolute_error: 0.0967\n",
      "Epoch 14/30\n",
      "1533/1533 [==============================] - 3s 2ms/step - loss: 0.0191 - mean_absolute_error: 0.0971 - val_loss: 0.0187 - val_mean_absolute_error: 0.0963\n",
      "Epoch 15/30\n",
      "1533/1533 [==============================] - 3s 2ms/step - loss: 0.0193 - mean_absolute_error: 0.0968 - val_loss: 0.0178 - val_mean_absolute_error: 0.0934\n",
      "Epoch 16/30\n",
      "1533/1533 [==============================] - 3s 2ms/step - loss: 0.0187 - mean_absolute_error: 0.0951 - val_loss: 0.0183 - val_mean_absolute_error: 0.0943\n",
      "Epoch 17/30\n",
      "1533/1533 [==============================] - 3s 2ms/step - loss: 0.0188 - mean_absolute_error: 0.0954 - val_loss: 0.0177 - val_mean_absolute_error: 0.0937\n",
      "Epoch 18/30\n",
      "1533/1533 [==============================] - 3s 2ms/step - loss: 0.0183 - mean_absolute_error: 0.0940 - val_loss: 0.0181 - val_mean_absolute_error: 0.0946\n",
      "Epoch 19/30\n",
      "1533/1533 [==============================] - 3s 2ms/step - loss: 0.0186 - mean_absolute_error: 0.0945 - val_loss: 0.0187 - val_mean_absolute_error: 0.0998\n",
      "Epoch 20/30\n",
      "1533/1533 [==============================] - 3s 2ms/step - loss: 0.0187 - mean_absolute_error: 0.0937 - val_loss: 0.0183 - val_mean_absolute_error: 0.0941\n",
      "Epoch 21/30\n",
      "1533/1533 [==============================] - 3s 2ms/step - loss: 0.0181 - mean_absolute_error: 0.0937 - val_loss: 0.0174 - val_mean_absolute_error: 0.0923\n",
      "Epoch 22/30\n",
      "1533/1533 [==============================] - 3s 2ms/step - loss: 0.0189 - mean_absolute_error: 0.0941 - val_loss: 0.0176 - val_mean_absolute_error: 0.0940\n",
      "Epoch 23/30\n",
      "1533/1533 [==============================] - 3s 2ms/step - loss: 0.0188 - mean_absolute_error: 0.0934 - val_loss: 0.0183 - val_mean_absolute_error: 0.0945\n",
      "Epoch 24/30\n",
      "1533/1533 [==============================] - 3s 2ms/step - loss: 0.0185 - mean_absolute_error: 0.0934 - val_loss: 0.0184 - val_mean_absolute_error: 0.0980\n",
      "Epoch 25/30\n",
      "1533/1533 [==============================] - 3s 2ms/step - loss: 0.0180 - mean_absolute_error: 0.0930 - val_loss: 0.0175 - val_mean_absolute_error: 0.0940\n",
      "Epoch 26/30\n",
      "1533/1533 [==============================] - 3s 2ms/step - loss: 0.0180 - mean_absolute_error: 0.0928 - val_loss: 0.0184 - val_mean_absolute_error: 0.0945\n",
      "Epoch 27/30\n",
      "1533/1533 [==============================] - 3s 2ms/step - loss: 0.0180 - mean_absolute_error: 0.0924 - val_loss: 0.0181 - val_mean_absolute_error: 0.0961\n",
      "Epoch 28/30\n",
      "1533/1533 [==============================] - 4s 2ms/step - loss: 0.0184 - mean_absolute_error: 0.0923 - val_loss: 0.0176 - val_mean_absolute_error: 0.0913\n",
      "Epoch 29/30\n",
      "1533/1533 [==============================] - 3s 2ms/step - loss: 0.0178 - mean_absolute_error: 0.0918 - val_loss: 0.0170 - val_mean_absolute_error: 0.0917\n",
      "Epoch 30/30\n",
      "1533/1533 [==============================] - 3s 2ms/step - loss: 0.0178 - mean_absolute_error: 0.0921 - val_loss: 0.0168 - val_mean_absolute_error: 0.0901\n",
      "WARNING:tensorflow:AutoGraph could not transform <function Model.make_predict_function.<locals>.predict_function at 0x31f52b700> and will run it as-is.\n",
      "Please report this to the TensorFlow team. When filing the bug, set the verbosity to 10 (on Linux, `export AUTOGRAPH_VERBOSITY=10`) and attach the full output.\n",
      "Cause: unsupported operand type(s) for -: 'NoneType' and 'int'\n",
      "To silence this warning, decorate the function with @tf.autograph.experimental.do_not_convert\n",
      "WARNING: AutoGraph could not transform <function Model.make_predict_function.<locals>.predict_function at 0x31f52b700> and will run it as-is.\n",
      "Please report this to the TensorFlow team. When filing the bug, set the verbosity to 10 (on Linux, `export AUTOGRAPH_VERBOSITY=10`) and attach the full output.\n",
      "Cause: unsupported operand type(s) for -: 'NoneType' and 'int'\n",
      "To silence this warning, decorate the function with @tf.autograph.experimental.do_not_convert\n",
      "Model on time step 3 is being trained!\n",
      "Epoch 1/30\n",
      "WARNING:tensorflow:AutoGraph could not transform <function Model.make_train_function.<locals>.train_function at 0x29627f9d0> and will run it as-is.\n",
      "Please report this to the TensorFlow team. When filing the bug, set the verbosity to 10 (on Linux, `export AUTOGRAPH_VERBOSITY=10`) and attach the full output.\n",
      "Cause: unsupported operand type(s) for -: 'NoneType' and 'int'\n",
      "To silence this warning, decorate the function with @tf.autograph.experimental.do_not_convert\n",
      "WARNING: AutoGraph could not transform <function Model.make_train_function.<locals>.train_function at 0x29627f9d0> and will run it as-is.\n",
      "Please report this to the TensorFlow team. When filing the bug, set the verbosity to 10 (on Linux, `export AUTOGRAPH_VERBOSITY=10`) and attach the full output.\n",
      "Cause: unsupported operand type(s) for -: 'NoneType' and 'int'\n",
      "To silence this warning, decorate the function with @tf.autograph.experimental.do_not_convert\n"
     ]
    },
    {
     "name": "stdout",
     "output_type": "stream",
     "text": [
      "1509/1533 [============================>.] - ETA: 0s - loss: 0.3837 - mean_absolute_error: 0.4289- ETA: 0s - loss: 0.4316 - mean_absolute_errWARNING:tensorflow:AutoGraph could not transform <function Model.make_test_function.<locals>.test_function at 0x34a3d71f0> and will run it as-is.\n",
      "Please report this to the TensorFlow team. When filing the bug, set the verbosity to 10 (on Linux, `export AUTOGRAPH_VERBOSITY=10`) and attach the full output.\n",
      "Cause: unsupported operand type(s) for -: 'NoneType' and 'int'\n",
      "To silence this warning, decorate the function with @tf.autograph.experimental.do_not_convert\n",
      "WARNING: AutoGraph could not transform <function Model.make_test_function.<locals>.test_function at 0x34a3d71f0> and will run it as-is.\n",
      "Please report this to the TensorFlow team. When filing the bug, set the verbosity to 10 (on Linux, `export AUTOGRAPH_VERBOSITY=10`) and attach the full output.\n",
      "Cause: unsupported operand type(s) for -: 'NoneType' and 'int'\n",
      "To silence this warning, decorate the function with @tf.autograph.experimental.do_not_convert\n",
      "1533/1533 [==============================] - 3s 2ms/step - loss: 0.3803 - mean_absolute_error: 0.4264 - val_loss: 0.0441 - val_mean_absolute_error: 0.1569\n",
      "Epoch 2/30\n",
      "1533/1533 [==============================] - 3s 2ms/step - loss: 0.0399 - mean_absolute_error: 0.1467 - val_loss: 0.0325 - val_mean_absolute_error: 0.1300\n",
      "Epoch 3/30\n",
      "1533/1533 [==============================] - 3s 2ms/step - loss: 0.0311 - mean_absolute_error: 0.1291 - val_loss: 0.0308 - val_mean_absolute_error: 0.1274\n",
      "Epoch 4/30\n",
      "1533/1533 [==============================] - 3s 2ms/step - loss: 0.0291 - mean_absolute_error: 0.1234 - val_loss: 0.0270 - val_mean_absolute_error: 0.1205\n",
      "Epoch 5/30\n",
      "1533/1533 [==============================] - 3s 2ms/step - loss: 0.0268 - mean_absolute_error: 0.1186 - val_loss: 0.0265 - val_mean_absolute_error: 0.1180\n",
      "Epoch 6/30\n",
      "1533/1533 [==============================] - 3s 2ms/step - loss: 0.0257 - mean_absolute_error: 0.1159 - val_loss: 0.0255 - val_mean_absolute_error: 0.1160\n",
      "Epoch 7/30\n",
      "1533/1533 [==============================] - 4s 2ms/step - loss: 0.0264 - mean_absolute_error: 0.1151 - val_loss: 0.0255 - val_mean_absolute_error: 0.1169\n",
      "Epoch 8/30\n",
      "1533/1533 [==============================] - 3s 2ms/step - loss: 0.0247 - mean_absolute_error: 0.1130 - val_loss: 0.0245 - val_mean_absolute_error: 0.1132\n",
      "Epoch 9/30\n",
      "1533/1533 [==============================] - 3s 2ms/step - loss: 0.0258 - mean_absolute_error: 0.1129 - val_loss: 0.0246 - val_mean_absolute_error: 0.1137\n",
      "Epoch 10/30\n",
      "1533/1533 [==============================] - 3s 2ms/step - loss: 0.0244 - mean_absolute_error: 0.1119 - val_loss: 0.0250 - val_mean_absolute_error: 0.1157\n",
      "Epoch 11/30\n",
      "1533/1533 [==============================] - 3s 2ms/step - loss: 0.0245 - mean_absolute_error: 0.1114 - val_loss: 0.0242 - val_mean_absolute_error: 0.1121\n",
      "Epoch 12/30\n",
      "1533/1533 [==============================] - 3s 2ms/step - loss: 0.0240 - mean_absolute_error: 0.1110 - val_loss: 0.0241 - val_mean_absolute_error: 0.1118\n",
      "Epoch 13/30\n",
      "1533/1533 [==============================] - 3s 2ms/step - loss: 0.0239 - mean_absolute_error: 0.1105 - val_loss: 0.0239 - val_mean_absolute_error: 0.1118\n",
      "Epoch 14/30\n",
      "1533/1533 [==============================] - 3s 2ms/step - loss: 0.0236 - mean_absolute_error: 0.1098 - val_loss: 0.0238 - val_mean_absolute_error: 0.1109\n",
      "Epoch 15/30\n",
      "1533/1533 [==============================] - 3s 2ms/step - loss: 0.0237 - mean_absolute_error: 0.1101 - val_loss: 0.0239 - val_mean_absolute_error: 0.1116\n",
      "Epoch 16/30\n",
      "1533/1533 [==============================] - 4s 2ms/step - loss: 0.0238 - mean_absolute_error: 0.1101 - val_loss: 0.0237 - val_mean_absolute_error: 0.1118\n",
      "Epoch 17/30\n",
      "1533/1533 [==============================] - 3s 2ms/step - loss: 0.0234 - mean_absolute_error: 0.1095 - val_loss: 0.0241 - val_mean_absolute_error: 0.1116\n",
      "Epoch 18/30\n",
      "1533/1533 [==============================] - 3s 2ms/step - loss: 0.0242 - mean_absolute_error: 0.1100 - val_loss: 0.0230 - val_mean_absolute_error: 0.1091\n",
      "Epoch 19/30\n",
      "1533/1533 [==============================] - 3s 2ms/step - loss: 0.0235 - mean_absolute_error: 0.1089 - val_loss: 0.0240 - val_mean_absolute_error: 0.1126\n",
      "Epoch 20/30\n",
      "1533/1533 [==============================] - 3s 2ms/step - loss: 0.0231 - mean_absolute_error: 0.1088 - val_loss: 0.0238 - val_mean_absolute_error: 0.1114\n",
      "Epoch 21/30\n",
      "1533/1533 [==============================] - 3s 2ms/step - loss: 0.0231 - mean_absolute_error: 0.1087 - val_loss: 0.0230 - val_mean_absolute_error: 0.1098\n",
      "Epoch 22/30\n",
      "1533/1533 [==============================] - 3s 2ms/step - loss: 0.0232 - mean_absolute_error: 0.1091 - val_loss: 0.0232 - val_mean_absolute_error: 0.1096\n",
      "Epoch 23/30\n",
      "1533/1533 [==============================] - 3s 2ms/step - loss: 0.0232 - mean_absolute_error: 0.1088 - val_loss: 0.0229 - val_mean_absolute_error: 0.1088\n",
      "Epoch 24/30\n",
      "1533/1533 [==============================] - 3s 2ms/step - loss: 0.0230 - mean_absolute_error: 0.1082 - val_loss: 0.0234 - val_mean_absolute_error: 0.1106\n",
      "Epoch 25/30\n",
      "1533/1533 [==============================] - 3s 2ms/step - loss: 0.0229 - mean_absolute_error: 0.1077 - val_loss: 0.0234 - val_mean_absolute_error: 0.1114\n",
      "Epoch 26/30\n",
      "1533/1533 [==============================] - 3s 2ms/step - loss: 0.0229 - mean_absolute_error: 0.1082 - val_loss: 0.0227 - val_mean_absolute_error: 0.1088\n",
      "Epoch 27/30\n",
      "1533/1533 [==============================] - 3s 2ms/step - loss: 0.0222 - mean_absolute_error: 0.1069 - val_loss: 0.0229 - val_mean_absolute_error: 0.1095\n",
      "Epoch 28/30\n",
      "1533/1533 [==============================] - 3s 2ms/step - loss: 0.0226 - mean_absolute_error: 0.1074 - val_loss: 0.0231 - val_mean_absolute_error: 0.1089\n",
      "Epoch 29/30\n",
      "1533/1533 [==============================] - 3s 2ms/step - loss: 0.0224 - mean_absolute_error: 0.1071 - val_loss: 0.0227 - val_mean_absolute_error: 0.1081\n",
      "Epoch 30/30\n",
      "1533/1533 [==============================] - 3s 2ms/step - loss: 0.0228 - mean_absolute_error: 0.1072 - val_loss: 0.0228 - val_mean_absolute_error: 0.1082\n",
      "WARNING:tensorflow:AutoGraph could not transform <function Model.make_predict_function.<locals>.predict_function at 0x31a70eee0> and will run it as-is.\n",
      "Please report this to the TensorFlow team. When filing the bug, set the verbosity to 10 (on Linux, `export AUTOGRAPH_VERBOSITY=10`) and attach the full output.\n",
      "Cause: unsupported operand type(s) for -: 'NoneType' and 'int'\n",
      "To silence this warning, decorate the function with @tf.autograph.experimental.do_not_convert\n",
      "WARNING: AutoGraph could not transform <function Model.make_predict_function.<locals>.predict_function at 0x31a70eee0> and will run it as-is.\n",
      "Please report this to the TensorFlow team. When filing the bug, set the verbosity to 10 (on Linux, `export AUTOGRAPH_VERBOSITY=10`) and attach the full output.\n",
      "Cause: unsupported operand type(s) for -: 'NoneType' and 'int'\n",
      "To silence this warning, decorate the function with @tf.autograph.experimental.do_not_convert\n",
      "Model on time step 4 is being trained!\n",
      "Epoch 1/30\n",
      "WARNING:tensorflow:AutoGraph could not transform <function Model.make_train_function.<locals>.train_function at 0x29627f280> and will run it as-is.\n",
      "Please report this to the TensorFlow team. When filing the bug, set the verbosity to 10 (on Linux, `export AUTOGRAPH_VERBOSITY=10`) and attach the full output.\n",
      "Cause: unsupported operand type(s) for -: 'NoneType' and 'int'\n",
      "To silence this warning, decorate the function with @tf.autograph.experimental.do_not_convert\n",
      "WARNING: AutoGraph could not transform <function Model.make_train_function.<locals>.train_function at 0x29627f280> and will run it as-is.\n",
      "Please report this to the TensorFlow team. When filing the bug, set the verbosity to 10 (on Linux, `export AUTOGRAPH_VERBOSITY=10`) and attach the full output.\n",
      "Cause: unsupported operand type(s) for -: 'NoneType' and 'int'\n",
      "To silence this warning, decorate the function with @tf.autograph.experimental.do_not_convert\n",
      "1508/1533 [============================>.] - ETA: 0s - loss: 0.4106 - mean_absolute_error: 0.4536WARNING:tensorflow:AutoGraph could not transform <function Model.make_test_function.<locals>.test_function at 0x17ca58310> and will run it as-is.\n",
      "Please report this to the TensorFlow team. When filing the bug, set the verbosity to 10 (on Linux, `export AUTOGRAPH_VERBOSITY=10`) and attach the full output.\n",
      "Cause: unsupported operand type(s) for -: 'NoneType' and 'int'\n",
      "To silence this warning, decorate the function with @tf.autograph.experimental.do_not_convert\n"
     ]
    },
    {
     "name": "stdout",
     "output_type": "stream",
     "text": [
      "WARNING: AutoGraph could not transform <function Model.make_test_function.<locals>.test_function at 0x17ca58310> and will run it as-is.\n",
      "Please report this to the TensorFlow team. When filing the bug, set the verbosity to 10 (on Linux, `export AUTOGRAPH_VERBOSITY=10`) and attach the full output.\n",
      "Cause: unsupported operand type(s) for -: 'NoneType' and 'int'\n",
      "To silence this warning, decorate the function with @tf.autograph.experimental.do_not_convert\n",
      "1533/1533 [==============================] - 3s 2ms/step - loss: 0.4070 - mean_absolute_error: 0.4511 - val_loss: 0.0681 - val_mean_absolute_error: 0.1992\n",
      "Epoch 2/30\n",
      "1533/1533 [==============================] - 3s 2ms/step - loss: 0.0611 - mean_absolute_error: 0.1841 - val_loss: 0.0504 - val_mean_absolute_error: 0.1670\n",
      "Epoch 3/30\n",
      "1533/1533 [==============================] - 3s 2ms/step - loss: 0.0481 - mean_absolute_error: 0.1625 - val_loss: 0.0464 - val_mean_absolute_error: 0.1608\n",
      "Epoch 4/30\n",
      "1533/1533 [==============================] - 3s 2ms/step - loss: 0.0432 - mean_absolute_error: 0.1532 - val_loss: 0.0420 - val_mean_absolute_error: 0.1506\n",
      "Epoch 5/30\n",
      "1533/1533 [==============================] - 3s 2ms/step - loss: 0.0404 - mean_absolute_error: 0.1482 - val_loss: 0.0405 - val_mean_absolute_error: 0.1498\n",
      "Epoch 6/30\n",
      "1533/1533 [==============================] - 3s 2ms/step - loss: 0.0394 - mean_absolute_error: 0.1455 - val_loss: 0.0386 - val_mean_absolute_error: 0.1451\n",
      "Epoch 7/30\n",
      "1533/1533 [==============================] - 3s 2ms/step - loss: 0.0377 - mean_absolute_error: 0.1433 - val_loss: 0.0387 - val_mean_absolute_error: 0.1453\n",
      "Epoch 8/30\n",
      "1533/1533 [==============================] - 3s 2ms/step - loss: 0.0367 - mean_absolute_error: 0.1412 - val_loss: 0.0384 - val_mean_absolute_error: 0.1455\n",
      "Epoch 9/30\n",
      "1533/1533 [==============================] - 3s 2ms/step - loss: 0.0374 - mean_absolute_error: 0.1411 - val_loss: 0.0370 - val_mean_absolute_error: 0.1407\n",
      "Epoch 10/30\n",
      "1533/1533 [==============================] - 3s 2ms/step - loss: 0.0361 - mean_absolute_error: 0.1389 - val_loss: 0.0362 - val_mean_absolute_error: 0.1405\n",
      "Epoch 11/30\n",
      "1533/1533 [==============================] - 3s 2ms/step - loss: 0.0360 - mean_absolute_error: 0.1383 - val_loss: 0.0372 - val_mean_absolute_error: 0.1442\n",
      "Epoch 12/30\n",
      "1533/1533 [==============================] - 3s 2ms/step - loss: 0.0359 - mean_absolute_error: 0.1372 - val_loss: 0.0359 - val_mean_absolute_error: 0.1403\n",
      "Epoch 13/30\n",
      "1533/1533 [==============================] - 3s 2ms/step - loss: 0.0348 - mean_absolute_error: 0.1370 - val_loss: 0.0362 - val_mean_absolute_error: 0.1418\n",
      "Epoch 14/30\n",
      "1533/1533 [==============================] - 3s 2ms/step - loss: 0.0350 - mean_absolute_error: 0.1360 - val_loss: 0.0361 - val_mean_absolute_error: 0.1406\n",
      "Epoch 15/30\n",
      "1533/1533 [==============================] - 3s 2ms/step - loss: 0.0341 - mean_absolute_error: 0.1358 - val_loss: 0.0351 - val_mean_absolute_error: 0.1378\n",
      "Epoch 16/30\n",
      "1533/1533 [==============================] - 3s 2ms/step - loss: 0.0342 - mean_absolute_error: 0.1352 - val_loss: 0.0358 - val_mean_absolute_error: 0.1388\n",
      "Epoch 17/30\n",
      "1533/1533 [==============================] - 3s 2ms/step - loss: 0.0344 - mean_absolute_error: 0.1352 - val_loss: 0.0347 - val_mean_absolute_error: 0.1368\n",
      "Epoch 18/30\n",
      "1533/1533 [==============================] - 3s 2ms/step - loss: 0.0340 - mean_absolute_error: 0.1341 - val_loss: 0.0351 - val_mean_absolute_error: 0.1373\n",
      "Epoch 19/30\n",
      "1533/1533 [==============================] - 3s 2ms/step - loss: 0.0337 - mean_absolute_error: 0.1336 - val_loss: 0.0353 - val_mean_absolute_error: 0.1391\n",
      "Epoch 20/30\n",
      "1533/1533 [==============================] - 3s 2ms/step - loss: 0.0343 - mean_absolute_error: 0.1334 - val_loss: 0.0349 - val_mean_absolute_error: 0.1381\n",
      "Epoch 21/30\n",
      "1533/1533 [==============================] - 4s 3ms/step - loss: 0.0338 - mean_absolute_error: 0.1334 - val_loss: 0.0341 - val_mean_absolute_error: 0.1359\n",
      "Epoch 22/30\n",
      "1533/1533 [==============================] - 4s 2ms/step - loss: 0.0347 - mean_absolute_error: 0.1339 - val_loss: 0.0347 - val_mean_absolute_error: 0.1370\n",
      "Epoch 23/30\n",
      "1533/1533 [==============================] - 3s 2ms/step - loss: 0.0340 - mean_absolute_error: 0.1333 - val_loss: 0.0346 - val_mean_absolute_error: 0.1371\n",
      "Epoch 24/30\n",
      "1533/1533 [==============================] - 3s 2ms/step - loss: 0.0339 - mean_absolute_error: 0.1334 - val_loss: 0.0356 - val_mean_absolute_error: 0.1392\n",
      "Epoch 25/30\n",
      "1533/1533 [==============================] - 3s 2ms/step - loss: 0.0330 - mean_absolute_error: 0.1330 - val_loss: 0.0346 - val_mean_absolute_error: 0.1368\n",
      "Epoch 26/30\n",
      "1533/1533 [==============================] - 3s 2ms/step - loss: 0.0331 - mean_absolute_error: 0.1329 - val_loss: 0.0347 - val_mean_absolute_error: 0.1372\n",
      "Epoch 27/30\n",
      "1533/1533 [==============================] - 3s 2ms/step - loss: 0.0331 - mean_absolute_error: 0.1331 - val_loss: 0.0347 - val_mean_absolute_error: 0.1382\n",
      "Epoch 28/30\n",
      "1533/1533 [==============================] - 3s 2ms/step - loss: 0.0329 - mean_absolute_error: 0.1321 - val_loss: 0.0342 - val_mean_absolute_error: 0.1364\n",
      "Epoch 29/30\n",
      "1533/1533 [==============================] - 3s 2ms/step - loss: 0.0325 - mean_absolute_error: 0.1313 - val_loss: 0.0343 - val_mean_absolute_error: 0.1363\n",
      "Epoch 30/30\n",
      "1533/1533 [==============================] - 3s 2ms/step - loss: 0.0327 - mean_absolute_error: 0.1314 - val_loss: 0.0348 - val_mean_absolute_error: 0.1379\n",
      "WARNING:tensorflow:AutoGraph could not transform <function Model.make_predict_function.<locals>.predict_function at 0x31ce31430> and will run it as-is.\n",
      "Please report this to the TensorFlow team. When filing the bug, set the verbosity to 10 (on Linux, `export AUTOGRAPH_VERBOSITY=10`) and attach the full output.\n",
      "Cause: unsupported operand type(s) for -: 'NoneType' and 'int'\n",
      "To silence this warning, decorate the function with @tf.autograph.experimental.do_not_convert\n",
      "WARNING: AutoGraph could not transform <function Model.make_predict_function.<locals>.predict_function at 0x31ce31430> and will run it as-is.\n",
      "Please report this to the TensorFlow team. When filing the bug, set the verbosity to 10 (on Linux, `export AUTOGRAPH_VERBOSITY=10`) and attach the full output.\n",
      "Cause: unsupported operand type(s) for -: 'NoneType' and 'int'\n",
      "To silence this warning, decorate the function with @tf.autograph.experimental.do_not_convert\n",
      "Model on time step 5 is being trained!\n",
      "Epoch 1/30\n",
      "WARNING:tensorflow:AutoGraph could not transform <function Model.make_train_function.<locals>.train_function at 0x2d1abb5e0> and will run it as-is.\n",
      "Please report this to the TensorFlow team. When filing the bug, set the verbosity to 10 (on Linux, `export AUTOGRAPH_VERBOSITY=10`) and attach the full output.\n",
      "Cause: unsupported operand type(s) for -: 'NoneType' and 'int'\n",
      "To silence this warning, decorate the function with @tf.autograph.experimental.do_not_convert\n",
      "WARNING: AutoGraph could not transform <function Model.make_train_function.<locals>.train_function at 0x2d1abb5e0> and will run it as-is.\n",
      "Please report this to the TensorFlow team. When filing the bug, set the verbosity to 10 (on Linux, `export AUTOGRAPH_VERBOSITY=10`) and attach the full output.\n",
      "Cause: unsupported operand type(s) for -: 'NoneType' and 'int'\n",
      "To silence this warning, decorate the function with @tf.autograph.experimental.do_not_convert\n",
      "1517/1533 [============================>.] - ETA: 0s - loss: 0.3828 - mean_absolute_error: 0.4412WARNING:tensorflow:AutoGraph could not transform <function Model.make_test_function.<locals>.test_function at 0x31c9e9790> and will run it as-is.\n",
      "Please report this to the TensorFlow team. When filing the bug, set the verbosity to 10 (on Linux, `export AUTOGRAPH_VERBOSITY=10`) and attach the full output.\n",
      "Cause: unsupported operand type(s) for -: 'NoneType' and 'int'\n",
      "To silence this warning, decorate the function with @tf.autograph.experimental.do_not_convert\n",
      "WARNING: AutoGraph could not transform <function Model.make_test_function.<locals>.test_function at 0x31c9e9790> and will run it as-is.\n",
      "Please report this to the TensorFlow team. When filing the bug, set the verbosity to 10 (on Linux, `export AUTOGRAPH_VERBOSITY=10`) and attach the full output.\n",
      "Cause: unsupported operand type(s) for -: 'NoneType' and 'int'\n",
      "To silence this warning, decorate the function with @tf.autograph.experimental.do_not_convert\n"
     ]
    },
    {
     "name": "stdout",
     "output_type": "stream",
     "text": [
      "1533/1533 [==============================] - 3s 2ms/step - loss: 0.3808 - mean_absolute_error: 0.4398 - val_loss: 0.0813 - val_mean_absolute_error: 0.2169\n",
      "Epoch 2/30\n",
      "1533/1533 [==============================] - 3s 2ms/step - loss: 0.0759 - mean_absolute_error: 0.2090 - val_loss: 0.0600 - val_mean_absolute_error: 0.1839\n",
      "Epoch 3/30\n",
      "1533/1533 [==============================] - 3s 2ms/step - loss: 0.0572 - mean_absolute_error: 0.1793 - val_loss: 0.0541 - val_mean_absolute_error: 0.1737\n",
      "Epoch 4/30\n",
      "1533/1533 [==============================] - 3s 2ms/step - loss: 0.0519 - mean_absolute_error: 0.1708 - val_loss: 0.0518 - val_mean_absolute_error: 0.1701\n",
      "Epoch 5/30\n",
      "1533/1533 [==============================] - 3s 2ms/step - loss: 0.0501 - mean_absolute_error: 0.1667 - val_loss: 0.0509 - val_mean_absolute_error: 0.1690\n",
      "Epoch 6/30\n",
      "1533/1533 [==============================] - 3s 2ms/step - loss: 0.0487 - mean_absolute_error: 0.1642 - val_loss: 0.0529 - val_mean_absolute_error: 0.1721\n",
      "Epoch 7/30\n",
      "1533/1533 [==============================] - 3s 2ms/step - loss: 0.0476 - mean_absolute_error: 0.1621 - val_loss: 0.0487 - val_mean_absolute_error: 0.1644\n",
      "Epoch 8/30\n",
      "1533/1533 [==============================] - 3s 2ms/step - loss: 0.0471 - mean_absolute_error: 0.1605 - val_loss: 0.0493 - val_mean_absolute_error: 0.1659\n",
      "Epoch 9/30\n",
      "1533/1533 [==============================] - 3s 2ms/step - loss: 0.0466 - mean_absolute_error: 0.1598 - val_loss: 0.0489 - val_mean_absolute_error: 0.1653\n",
      "Epoch 10/30\n",
      "1533/1533 [==============================] - 3s 2ms/step - loss: 0.0464 - mean_absolute_error: 0.1597 - val_loss: 0.0478 - val_mean_absolute_error: 0.1625\n",
      "Epoch 11/30\n",
      "1533/1533 [==============================] - 3s 2ms/step - loss: 0.0463 - mean_absolute_error: 0.1589 - val_loss: 0.0502 - val_mean_absolute_error: 0.1678\n",
      "Epoch 12/30\n",
      "1533/1533 [==============================] - 3s 2ms/step - loss: 0.0460 - mean_absolute_error: 0.1587 - val_loss: 0.0466 - val_mean_absolute_error: 0.1604\n",
      "Epoch 13/30\n",
      "1533/1533 [==============================] - 3s 2ms/step - loss: 0.0451 - mean_absolute_error: 0.1573 - val_loss: 0.0481 - val_mean_absolute_error: 0.1627\n",
      "Epoch 14/30\n",
      "1533/1533 [==============================] - 3s 2ms/step - loss: 0.0453 - mean_absolute_error: 0.1574 - val_loss: 0.0469 - val_mean_absolute_error: 0.1607 loss: 0.0456 - mean_\n",
      "Epoch 15/30\n",
      "1533/1533 [==============================] - 3s 2ms/step - loss: 0.0448 - mean_absolute_error: 0.1564 - val_loss: 0.0466 - val_mean_absolute_error: 0.1609\n",
      "Epoch 16/30\n",
      "1533/1533 [==============================] - 3s 2ms/step - loss: 0.0446 - mean_absolute_error: 0.1565 - val_loss: 0.0466 - val_mean_absolute_error: 0.1605\n",
      "Epoch 17/30\n",
      "1533/1533 [==============================] - 3s 2ms/step - loss: 0.0444 - mean_absolute_error: 0.1560 - val_loss: 0.0466 - val_mean_absolute_error: 0.1604\n",
      "Epoch 18/30\n",
      "1533/1533 [==============================] - 3s 2ms/step - loss: 0.0444 - mean_absolute_error: 0.1560 - val_loss: 0.0467 - val_mean_absolute_error: 0.1611\n",
      "Epoch 19/30\n",
      "1533/1533 [==============================] - 3s 2ms/step - loss: 0.0439 - mean_absolute_error: 0.1550 - val_loss: 0.0463 - val_mean_absolute_error: 0.1604\n",
      "Epoch 20/30\n",
      "1533/1533 [==============================] - 3s 2ms/step - loss: 0.0445 - mean_absolute_error: 0.1556 - val_loss: 0.0460 - val_mean_absolute_error: 0.1590\n",
      "Epoch 21/30\n",
      "1533/1533 [==============================] - 3s 2ms/step - loss: 0.0437 - mean_absolute_error: 0.1543 - val_loss: 0.0464 - val_mean_absolute_error: 0.1602\n",
      "Epoch 22/30\n",
      "1533/1533 [==============================] - 3s 2ms/step - loss: 0.0440 - mean_absolute_error: 0.1551 - val_loss: 0.0480 - val_mean_absolute_error: 0.1624\n",
      "Epoch 23/30\n",
      "1533/1533 [==============================] - 3s 2ms/step - loss: 0.0435 - mean_absolute_error: 0.1547 - val_loss: 0.0464 - val_mean_absolute_error: 0.1609\n",
      "Epoch 24/30\n",
      "1533/1533 [==============================] - 3s 2ms/step - loss: 0.0435 - mean_absolute_error: 0.1540 - val_loss: 0.0457 - val_mean_absolute_error: 0.1588\n",
      "Epoch 25/30\n",
      "1533/1533 [==============================] - 3s 2ms/step - loss: 0.0437 - mean_absolute_error: 0.1541 - val_loss: 0.0457 - val_mean_absolute_error: 0.1595\n",
      "Epoch 26/30\n",
      "1533/1533 [==============================] - 3s 2ms/step - loss: 0.0432 - mean_absolute_error: 0.1535 - val_loss: 0.0473 - val_mean_absolute_error: 0.1613\n",
      "Epoch 27/30\n",
      "1533/1533 [==============================] - 3s 2ms/step - loss: 0.0433 - mean_absolute_error: 0.1540 - val_loss: 0.0458 - val_mean_absolute_error: 0.1594\n",
      "Epoch 28/30\n",
      "1533/1533 [==============================] - 3s 2ms/step - loss: 0.0433 - mean_absolute_error: 0.1539 - val_loss: 0.0452 - val_mean_absolute_error: 0.1581\n",
      "Epoch 29/30\n",
      "1533/1533 [==============================] - 4s 2ms/step - loss: 0.0430 - mean_absolute_error: 0.1532 - val_loss: 0.0452 - val_mean_absolute_error: 0.1581\n",
      "Epoch 30/30\n",
      "1533/1533 [==============================] - 4s 2ms/step - loss: 0.0428 - mean_absolute_error: 0.1524 - val_loss: 0.0451 - val_mean_absolute_error: 0.1583\n",
      "WARNING:tensorflow:AutoGraph could not transform <function Model.make_predict_function.<locals>.predict_function at 0x2fab06940> and will run it as-is.\n",
      "Please report this to the TensorFlow team. When filing the bug, set the verbosity to 10 (on Linux, `export AUTOGRAPH_VERBOSITY=10`) and attach the full output.\n",
      "Cause: unsupported operand type(s) for -: 'NoneType' and 'int'\n",
      "To silence this warning, decorate the function with @tf.autograph.experimental.do_not_convert\n",
      "WARNING: AutoGraph could not transform <function Model.make_predict_function.<locals>.predict_function at 0x2fab06940> and will run it as-is.\n",
      "Please report this to the TensorFlow team. When filing the bug, set the verbosity to 10 (on Linux, `export AUTOGRAPH_VERBOSITY=10`) and attach the full output.\n",
      "Cause: unsupported operand type(s) for -: 'NoneType' and 'int'\n",
      "To silence this warning, decorate the function with @tf.autograph.experimental.do_not_convert\n",
      "Model on time step 6 is being trained!\n",
      "Epoch 1/30\n",
      "WARNING:tensorflow:AutoGraph could not transform <function Model.make_train_function.<locals>.train_function at 0x31ce31af0> and will run it as-is.\n",
      "Please report this to the TensorFlow team. When filing the bug, set the verbosity to 10 (on Linux, `export AUTOGRAPH_VERBOSITY=10`) and attach the full output.\n",
      "Cause: unsupported operand type(s) for -: 'NoneType' and 'int'\n",
      "To silence this warning, decorate the function with @tf.autograph.experimental.do_not_convert\n",
      "WARNING: AutoGraph could not transform <function Model.make_train_function.<locals>.train_function at 0x31ce31af0> and will run it as-is.\n",
      "Please report this to the TensorFlow team. When filing the bug, set the verbosity to 10 (on Linux, `export AUTOGRAPH_VERBOSITY=10`) and attach the full output.\n",
      "Cause: unsupported operand type(s) for -: 'NoneType' and 'int'\n",
      "To silence this warning, decorate the function with @tf.autograph.experimental.do_not_convert\n",
      "1510/1533 [============================>.] - ETA: 0s - loss: 0.4076 - mean_absolute_error: 0.4618- ETA: 1s - loss: 0.4833 - mean_absWARNING:tensorflow:AutoGraph could not transform <function Model.make_test_function.<locals>.test_function at 0x35e3a43a0> and will run it as-is.\n",
      "Please report this to the TensorFlow team. When filing the bug, set the verbosity to 10 (on Linux, `export AUTOGRAPH_VERBOSITY=10`) and attach the full output.\n",
      "Cause: unsupported operand type(s) for -: 'NoneType' and 'int'\n",
      "To silence this warning, decorate the function with @tf.autograph.experimental.do_not_convert\n",
      "WARNING: AutoGraph could not transform <function Model.make_test_function.<locals>.test_function at 0x35e3a43a0> and will run it as-is.\n",
      "Please report this to the TensorFlow team. When filing the bug, set the verbosity to 10 (on Linux, `export AUTOGRAPH_VERBOSITY=10`) and attach the full output.\n",
      "Cause: unsupported operand type(s) for -: 'NoneType' and 'int'\n",
      "To silence this warning, decorate the function with @tf.autograph.experimental.do_not_convert\n",
      "1533/1533 [==============================] - 4s 2ms/step - loss: 0.4047 - mean_absolute_error: 0.4598 - val_loss: 0.1007 - val_mean_absolute_error: 0.2449\n",
      "Epoch 2/30\n"
     ]
    },
    {
     "name": "stdout",
     "output_type": "stream",
     "text": [
      "1533/1533 [==============================] - 3s 2ms/step - loss: 0.0922 - mean_absolute_error: 0.2335 - val_loss: 0.0772 - val_mean_absolute_error: 0.2147.0959 - m\n",
      "Epoch 3/30\n",
      " 527/1533 [=========>....................] - ETA: 1s - loss: 0.0718 - mean_absolute_error: 0.2048"
     ]
    }
   ],
   "source": [
    "models = [LinearRegression(), nn.conv_flex_model, nn.LSTM_model_vec_out, nn.LSTM_model_encoder_decoder]\n",
    "models_n = ['Lr', 'Conv_flex','LSTM_model','LSTM_en_de']\n",
    "\n",
    "\n",
    "fig, axes = plt.subplots(1, len(models), sharex=True, figsize=(10, 5))\n",
    "axes = axes.ravel()\n",
    "\n",
    "for i in range(len(models)):  \n",
    "    \n",
    "    print(\"steps:\",i)\n",
    "    \n",
    "    if models_n[i] == 'Lr':\n",
    "        module = cm\n",
    "    else:\n",
    "        module = nn        \n",
    "\n",
    "    direct = module.Direct_Forecast(\n",
    "     output_time_step=15,\n",
    "    input_width=30,  \n",
    "    feature_columns= ['p (mbar)', 'T (degC)', 'Tpot (K)', 'Tdew (degC)'],\n",
    "    label_columns=['p (mbar)', 'T (degC)', 'Tpot (K)', 'Tdew (degC)']\n",
    "        )\n",
    "    direct.datasets(train_set=train_df, valid_set=val_df, test_set=test_df)\n",
    "    direct.model_fit(models[i])\n",
    "    IPython.display.clear_output()\n",
    "        \n",
    "    preds, labels = direct.direct_predictions(data=\"test\")   \n",
    "    \n",
    "    score = np.around(mean_absolute_error(preds.flatten(),labels.flatten()), decimals=2) \n",
    "\n",
    "    direct.plot_forecast_direct(data=\"test\", plot_col=\"p (mbar)\", ax=axes[i])\n",
    "    axes[i].set_title((models_n[i], \"MAE\"+ str(score)))\n",
    "\n",
    "plt.tight_layout()"
   ]
  },
  {
   "cell_type": "code",
   "execution_count": null,
   "metadata": {},
   "outputs": [],
   "source": []
  },
  {
   "cell_type": "code",
   "execution_count": null,
   "metadata": {},
   "outputs": [],
   "source": []
  }
 ],
 "metadata": {
  "kernelspec": {
   "display_name": "Python [conda env:M1ml2]",
   "language": "python",
   "name": "conda-env-M1ml2-py"
  },
  "language_info": {
   "codemirror_mode": {
    "name": "ipython",
    "version": 3
   },
   "file_extension": ".py",
   "mimetype": "text/x-python",
   "name": "python",
   "nbconvert_exporter": "python",
   "pygments_lexer": "ipython3",
   "version": "3.8.12"
  }
 },
 "nbformat": 4,
 "nbformat_minor": 4
}
