{
 "cells": [
  {
   "cell_type": "code",
   "execution_count": 12,
   "metadata": {},
   "outputs": [],
   "source": [
    "import os\n",
    "import datetime\n",
    "import sys\n",
    "\n",
    "sys.path.append(\"..\")\n",
    "\n",
    "\n",
    "import matplotlib as mpl\n",
    "import matplotlib.pyplot as plt\n",
    "import numpy as np\n",
    "import pandas as pd\n",
    "\n",
    "from data.create_datasets import WindowGenerator\n",
    "\n",
    "mpl.rcParams['figure.figsize'] = (15, 10)\n",
    "mpl.rcParams['axes.grid'] = False"
   ]
  },
  {
   "cell_type": "code",
   "execution_count": 6,
   "metadata": {},
   "outputs": [],
   "source": [
    "df = pd.read_csv('../datasets/df_feat_enged')"
   ]
  },
  {
   "cell_type": "code",
   "execution_count": 182,
   "metadata": {},
   "outputs": [],
   "source": [
    "# split data\n",
    "n = len(df)\n",
    "train_df = df[0:int(n*0.9)]\n",
    "test_df = df[int(n*0.9):]"
   ]
  },
  {
   "cell_type": "code",
   "execution_count": 183,
   "metadata": {},
   "outputs": [],
   "source": [
    "# Normalize data\n",
    "train_mean = train_df.mean()\n",
    "train_std = train_df.std()\n",
    "\n",
    "train_df = (train_df - train_mean) / train_std\n",
    "test_df = (test_df - train_mean) / train_std"
   ]
  },
  {
   "cell_type": "code",
   "execution_count": 184,
   "metadata": {},
   "outputs": [
    {
     "data": {
      "text/html": [
       "<div>\n",
       "<style scoped>\n",
       "    .dataframe tbody tr th:only-of-type {\n",
       "        vertical-align: middle;\n",
       "    }\n",
       "\n",
       "    .dataframe tbody tr th {\n",
       "        vertical-align: top;\n",
       "    }\n",
       "\n",
       "    .dataframe thead th {\n",
       "        text-align: right;\n",
       "    }\n",
       "</style>\n",
       "<table border=\"1\" class=\"dataframe\">\n",
       "  <thead>\n",
       "    <tr style=\"text-align: right;\">\n",
       "      <th></th>\n",
       "      <th>p (mbar)</th>\n",
       "      <th>T (degC)</th>\n",
       "      <th>Tpot (K)</th>\n",
       "      <th>Tdew (degC)</th>\n",
       "      <th>rh (%)</th>\n",
       "      <th>VPmax (mbar)</th>\n",
       "      <th>VPact (mbar)</th>\n",
       "      <th>VPdef (mbar)</th>\n",
       "      <th>sh (g/kg)</th>\n",
       "      <th>H2OC (mmol/mol)</th>\n",
       "      <th>rho (g/m**3)</th>\n",
       "      <th>Wx</th>\n",
       "      <th>Wy</th>\n",
       "      <th>max Wx</th>\n",
       "      <th>max Wy</th>\n",
       "      <th>Day sin</th>\n",
       "      <th>Day cos</th>\n",
       "      <th>Year sin</th>\n",
       "      <th>Year cos</th>\n",
       "    </tr>\n",
       "  </thead>\n",
       "  <tbody>\n",
       "    <tr>\n",
       "      <th>0</th>\n",
       "      <td>0.895312</td>\n",
       "      <td>-2.041187</td>\n",
       "      <td>-2.098064</td>\n",
       "      <td>-1.993393</td>\n",
       "      <td>1.109555</td>\n",
       "      <td>-1.308313</td>\n",
       "      <td>-1.500978</td>\n",
       "      <td>-0.780463</td>\n",
       "      <td>-1.502881</td>\n",
       "      <td>-1.505733</td>\n",
       "      <td>2.273012</td>\n",
       "      <td>0.216224</td>\n",
       "      <td>0.238134</td>\n",
       "      <td>0.134965</td>\n",
       "      <td>0.233763</td>\n",
       "      <td>-0.000086</td>\n",
       "      <td>1.414463</td>\n",
       "      <td>-0.008544</td>\n",
       "      <td>1.381134</td>\n",
       "    </tr>\n",
       "    <tr>\n",
       "      <th>1</th>\n",
       "      <td>0.909606</td>\n",
       "      <td>-2.139495</td>\n",
       "      <td>-2.196721</td>\n",
       "      <td>-2.139408</td>\n",
       "      <td>1.036490</td>\n",
       "      <td>-1.335730</td>\n",
       "      <td>-1.558487</td>\n",
       "      <td>-0.776308</td>\n",
       "      <td>-1.559503</td>\n",
       "      <td>-1.562546</td>\n",
       "      <td>2.382824</td>\n",
       "      <td>0.195836</td>\n",
       "      <td>0.239078</td>\n",
       "      <td>0.133287</td>\n",
       "      <td>0.243661</td>\n",
       "      <td>0.365955</td>\n",
       "      <td>1.366278</td>\n",
       "      <td>-0.007527</td>\n",
       "      <td>1.381125</td>\n",
       "    </tr>\n",
       "    <tr>\n",
       "      <th>2</th>\n",
       "      <td>0.935811</td>\n",
       "      <td>-2.131204</td>\n",
       "      <td>-2.190848</td>\n",
       "      <td>-2.123184</td>\n",
       "      <td>1.054756</td>\n",
       "      <td>-1.334424</td>\n",
       "      <td>-1.551299</td>\n",
       "      <td>-0.778386</td>\n",
       "      <td>-1.551954</td>\n",
       "      <td>-1.555444</td>\n",
       "      <td>2.381073</td>\n",
       "      <td>0.230773</td>\n",
       "      <td>0.293458</td>\n",
       "      <td>0.135042</td>\n",
       "      <td>0.340200</td>\n",
       "      <td>0.707052</td>\n",
       "      <td>1.225006</td>\n",
       "      <td>-0.006509</td>\n",
       "      <td>1.381114</td>\n",
       "    </tr>\n",
       "    <tr>\n",
       "      <th>3</th>\n",
       "      <td>0.953678</td>\n",
       "      <td>-2.159630</td>\n",
       "      <td>-2.220210</td>\n",
       "      <td>-2.176280</td>\n",
       "      <td>0.999957</td>\n",
       "      <td>-1.342257</td>\n",
       "      <td>-1.570468</td>\n",
       "      <td>-0.772154</td>\n",
       "      <td>-1.570828</td>\n",
       "      <td>-1.576749</td>\n",
       "      <td>2.416843</td>\n",
       "      <td>0.293030</td>\n",
       "      <td>0.212137</td>\n",
       "      <td>0.270407</td>\n",
       "      <td>0.160815</td>\n",
       "      <td>0.999958</td>\n",
       "      <td>1.000275</td>\n",
       "      <td>-0.005492</td>\n",
       "      <td>1.381103</td>\n",
       "    </tr>\n",
       "    <tr>\n",
       "      <th>4</th>\n",
       "      <td>1.009661</td>\n",
       "      <td>-2.228327</td>\n",
       "      <td>-2.293028</td>\n",
       "      <td>-2.269198</td>\n",
       "      <td>0.975603</td>\n",
       "      <td>-1.359229</td>\n",
       "      <td>-1.604015</td>\n",
       "      <td>-0.772154</td>\n",
       "      <td>-1.604802</td>\n",
       "      <td>-1.609890</td>\n",
       "      <td>2.506394</td>\n",
       "      <td>0.135214</td>\n",
       "      <td>0.368306</td>\n",
       "      <td>0.072614</td>\n",
       "      <td>0.418385</td>\n",
       "      <td>1.224713</td>\n",
       "      <td>0.707399</td>\n",
       "      <td>-0.004474</td>\n",
       "      <td>1.381091</td>\n",
       "    </tr>\n",
       "  </tbody>\n",
       "</table>\n",
       "</div>"
      ],
      "text/plain": [
       "   p (mbar)  T (degC)  Tpot (K)  Tdew (degC)    rh (%)  VPmax (mbar)  \\\n",
       "0  0.895312 -2.041187 -2.098064    -1.993393  1.109555     -1.308313   \n",
       "1  0.909606 -2.139495 -2.196721    -2.139408  1.036490     -1.335730   \n",
       "2  0.935811 -2.131204 -2.190848    -2.123184  1.054756     -1.334424   \n",
       "3  0.953678 -2.159630 -2.220210    -2.176280  0.999957     -1.342257   \n",
       "4  1.009661 -2.228327 -2.293028    -2.269198  0.975603     -1.359229   \n",
       "\n",
       "   VPact (mbar)  VPdef (mbar)  sh (g/kg)  H2OC (mmol/mol)  rho (g/m**3)  \\\n",
       "0     -1.500978     -0.780463  -1.502881        -1.505733      2.273012   \n",
       "1     -1.558487     -0.776308  -1.559503        -1.562546      2.382824   \n",
       "2     -1.551299     -0.778386  -1.551954        -1.555444      2.381073   \n",
       "3     -1.570468     -0.772154  -1.570828        -1.576749      2.416843   \n",
       "4     -1.604015     -0.772154  -1.604802        -1.609890      2.506394   \n",
       "\n",
       "         Wx        Wy    max Wx    max Wy   Day sin   Day cos  Year sin  \\\n",
       "0  0.216224  0.238134  0.134965  0.233763 -0.000086  1.414463 -0.008544   \n",
       "1  0.195836  0.239078  0.133287  0.243661  0.365955  1.366278 -0.007527   \n",
       "2  0.230773  0.293458  0.135042  0.340200  0.707052  1.225006 -0.006509   \n",
       "3  0.293030  0.212137  0.270407  0.160815  0.999958  1.000275 -0.005492   \n",
       "4  0.135214  0.368306  0.072614  0.418385  1.224713  0.707399 -0.004474   \n",
       "\n",
       "   Year cos  \n",
       "0  1.381134  \n",
       "1  1.381125  \n",
       "2  1.381114  \n",
       "3  1.381103  \n",
       "4  1.381091  "
      ]
     },
     "execution_count": 184,
     "metadata": {},
     "output_type": "execute_result"
    }
   ],
   "source": [
    "train_df.head()"
   ]
  },
  {
   "cell_type": "code",
   "execution_count": 190,
   "metadata": {},
   "outputs": [],
   "source": [
    "window = WindowGenerator(\n",
    "    label_width=15,\n",
    "    input_width=24,\n",
    "    feature_columns=[\"p (mbar)\", \"T (degC)\", \"VPdef (mbar)\"],\n",
    "    label_columns=[\"p (mbar)\", \"T (degC)\", \"VPdef (mbar)\"],\n",
    "    shift=15,\n",
    ")"
   ]
  },
  {
   "cell_type": "code",
   "execution_count": 191,
   "metadata": {},
   "outputs": [],
   "source": [
    "inputs_train, labels_train = window.create_dataset(train_df)\n",
    "inputs_test, labels_test = window.create_dataset(test_df)"
   ]
  },
  {
   "cell_type": "code",
   "execution_count": 192,
   "metadata": {},
   "outputs": [],
   "source": [
    "from sklearn.linear_model import LinearRegression\n",
    "from sklearn import datasets, ensemble\n",
    "from sklearn.model_selection import RandomizedSearchCV, GridSearchCV\n",
    "from sklearn.metrics import mean_absolute_error, mean_squared_error\n",
    "from sklearn.neighbors import KNeighborsRegressor"
   ]
  },
  {
   "cell_type": "code",
   "execution_count": 195,
   "metadata": {},
   "outputs": [],
   "source": [
    "## Reshaping datasets:\n",
    "\n",
    "train_dim1 = inputs_train.shape[0]\n",
    "test_dim1 = inputs_test.shape[0]"
   ]
  },
  {
   "cell_type": "code",
   "execution_count": 196,
   "metadata": {},
   "outputs": [],
   "source": [
    "inputs_train, labels_train = np.reshape(inputs_train, (train_dim1, -1)), np.reshape(labels_train, (train_dim1, -1))\n",
    "inputs_test, labels_test = np.reshape(inputs_test, (test_dim1, -1)), np.reshape(labels_test, (test_dim1, -1))"
   ]
  },
  {
   "cell_type": "code",
   "execution_count": 201,
   "metadata": {},
   "outputs": [],
   "source": [
    "estimators = [100, 300, 500]\n",
    "depth = [1, 2, 3]\n",
    "\n",
    "params_rf = {\n",
    "    \"n_estimators\": estimators,\n",
    "    \"max_depth\": depth,   \n",
    "}\n",
    "nn = [3, 5, 7]\n",
    "params_kn = {'n_neighbors' : nn }"
   ]
  },
  {
   "cell_type": "code",
   "execution_count": 202,
   "metadata": {},
   "outputs": [],
   "source": [
    "models = [LinearRegression, KNeighborsRegressor, \n",
    "          ensemble.ExtraTreesRegressor]\n",
    "params = [None, params_kn, params_rf]"
   ]
  },
  {
   "cell_type": "code",
   "execution_count": 204,
   "metadata": {},
   "outputs": [
    {
     "name": "stdout",
     "output_type": "stream",
     "text": [
      "None <class 'sklearn.linear_model._base.LinearRegression'>\n",
      "{'n_neighbors': [3, 5, 7]} <class 'sklearn.neighbors._regression.KNeighborsRegressor'>\n",
      "{'n_estimators': [100, 300, 500], 'max_depth': [1, 2, 3]} <class 'sklearn.ensemble._forest.ExtraTreesRegressor'>\n"
     ]
    }
   ],
   "source": [
    "scores = {}\n",
    "clfs = {}\n",
    "for param, model in zip(params, models):\n",
    "\n",
    "    model = model()\n",
    "    if param is None:\n",
    "        clf = model \n",
    "    else: \n",
    "        clf = GridSearchCV(model, param,cv=5,\n",
    "                          scoring=\"neg_mean_squared_error\")\n",
    "        \n",
    "    clf.fit(inputs_train, labels_train)\n",
    "    \n",
    "    clfs[str(model)] = clf    \n",
    "    scores[str(model)] = mean_squared_error(\n",
    "    labels_test.flatten(), clf.predict(inputs_test).flatten()), \n",
    "    mean_absolute_error(\n",
    "    labels_test.flatten(), clf.predict(inputs_test).flatten())\n",
    "    \n",
    "\n"
   ]
  },
  {
   "cell_type": "code",
   "execution_count": 217,
   "metadata": {},
   "outputs": [
    {
     "data": {
      "text/plain": [
       "ExtraTreesRegressor(max_depth=3, n_estimators=500)"
      ]
     },
     "execution_count": 217,
     "metadata": {},
     "output_type": "execute_result"
    }
   ],
   "source": [
    "clfs['ExtraTreesRegressor()'].best_estimator_"
   ]
  },
  {
   "cell_type": "code",
   "execution_count": null,
   "metadata": {},
   "outputs": [],
   "source": []
  }
 ],
 "metadata": {
  "kernelspec": {
   "display_name": "Python [conda env:M1ml2]",
   "language": "python",
   "name": "conda-env-M1ml2-py"
  },
  "language_info": {
   "codemirror_mode": {
    "name": "ipython",
    "version": 3
   },
   "file_extension": ".py",
   "mimetype": "text/x-python",
   "name": "python",
   "nbconvert_exporter": "python",
   "pygments_lexer": "ipython3",
   "version": "3.8.12"
  }
 },
 "nbformat": 4,
 "nbformat_minor": 2
}
