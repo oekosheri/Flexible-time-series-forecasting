{
 "cells": [
  {
   "cell_type": "code",
   "execution_count": 1,
   "metadata": {},
   "outputs": [],
   "source": [
    "import os\n",
    "os.environ['KMP_DUPLICATE_LIB_OK']='True'\n",
    "\n",
    "\n",
    "import sys\n",
    "\n",
    "sys.path.append(\"..\")"
   ]
  },
  {
   "cell_type": "code",
   "execution_count": null,
   "metadata": {},
   "outputs": [],
   "source": []
  },
  {
   "cell_type": "code",
   "execution_count": 2,
   "metadata": {},
   "outputs": [],
   "source": [
    "import IPython\n",
    "import IPython.display\n",
    "import matplotlib as mpl\n",
    "import matplotlib.pyplot as plt\n",
    "import numpy as np\n",
    "import pandas as pd\n",
    "import tensorflow as tf\n",
    "\n",
    "# tf.autograph.set_verbosity(0)\n",
    "from sklearn.metrics import mean_absolute_error, mean_squared_error"
   ]
  },
  {
   "cell_type": "code",
   "execution_count": 3,
   "metadata": {},
   "outputs": [],
   "source": [
    "import models.models_nn as nn\n",
    "import models.models_classic_ml as cm\n",
    "from data.create_datasets import WindowGenerator"
   ]
  },
  {
   "cell_type": "code",
   "execution_count": 4,
   "metadata": {},
   "outputs": [],
   "source": [
    "df = pd.read_csv(\"../datasets/df_feat_enged\")\n",
    "data_name = 'df_feat_enged'"
   ]
  },
  {
   "cell_type": "code",
   "execution_count": 5,
   "metadata": {},
   "outputs": [],
   "source": [
    "# df.set_index('timestamp', inplace=True) "
   ]
  },
  {
   "cell_type": "code",
   "execution_count": 6,
   "metadata": {},
   "outputs": [
    {
     "data": {
      "text/html": [
       "<div>\n",
       "<style scoped>\n",
       "    .dataframe tbody tr th:only-of-type {\n",
       "        vertical-align: middle;\n",
       "    }\n",
       "\n",
       "    .dataframe tbody tr th {\n",
       "        vertical-align: top;\n",
       "    }\n",
       "\n",
       "    .dataframe thead th {\n",
       "        text-align: right;\n",
       "    }\n",
       "</style>\n",
       "<table border=\"1\" class=\"dataframe\">\n",
       "  <thead>\n",
       "    <tr style=\"text-align: right;\">\n",
       "      <th></th>\n",
       "      <th>p (mbar)</th>\n",
       "      <th>T (degC)</th>\n",
       "      <th>Tpot (K)</th>\n",
       "      <th>Tdew (degC)</th>\n",
       "      <th>rh (%)</th>\n",
       "      <th>VPmax (mbar)</th>\n",
       "      <th>VPact (mbar)</th>\n",
       "      <th>VPdef (mbar)</th>\n",
       "      <th>sh (g/kg)</th>\n",
       "      <th>H2OC (mmol/mol)</th>\n",
       "      <th>rho (g/m**3)</th>\n",
       "      <th>Wx</th>\n",
       "      <th>Wy</th>\n",
       "      <th>max Wx</th>\n",
       "      <th>max Wy</th>\n",
       "      <th>Day sin</th>\n",
       "      <th>Day cos</th>\n",
       "      <th>Year sin</th>\n",
       "      <th>Year cos</th>\n",
       "    </tr>\n",
       "  </thead>\n",
       "  <tbody>\n",
       "    <tr>\n",
       "      <th>0</th>\n",
       "      <td>996.50</td>\n",
       "      <td>-8.05</td>\n",
       "      <td>265.38</td>\n",
       "      <td>-8.78</td>\n",
       "      <td>94.4</td>\n",
       "      <td>3.33</td>\n",
       "      <td>3.14</td>\n",
       "      <td>0.19</td>\n",
       "      <td>1.96</td>\n",
       "      <td>3.15</td>\n",
       "      <td>1307.86</td>\n",
       "      <td>-0.204862</td>\n",
       "      <td>-0.046168</td>\n",
       "      <td>-0.614587</td>\n",
       "      <td>-0.138503</td>\n",
       "      <td>-1.776611e-12</td>\n",
       "      <td>1.000000</td>\n",
       "      <td>0.009332</td>\n",
       "      <td>0.999956</td>\n",
       "    </tr>\n",
       "    <tr>\n",
       "      <th>1</th>\n",
       "      <td>996.62</td>\n",
       "      <td>-8.88</td>\n",
       "      <td>264.54</td>\n",
       "      <td>-9.77</td>\n",
       "      <td>93.2</td>\n",
       "      <td>3.12</td>\n",
       "      <td>2.90</td>\n",
       "      <td>0.21</td>\n",
       "      <td>1.81</td>\n",
       "      <td>2.91</td>\n",
       "      <td>1312.25</td>\n",
       "      <td>-0.245971</td>\n",
       "      <td>-0.044701</td>\n",
       "      <td>-0.619848</td>\n",
       "      <td>-0.112645</td>\n",
       "      <td>2.588190e-01</td>\n",
       "      <td>0.965926</td>\n",
       "      <td>0.010049</td>\n",
       "      <td>0.999950</td>\n",
       "    </tr>\n",
       "    <tr>\n",
       "      <th>2</th>\n",
       "      <td>996.84</td>\n",
       "      <td>-8.81</td>\n",
       "      <td>264.59</td>\n",
       "      <td>-9.66</td>\n",
       "      <td>93.5</td>\n",
       "      <td>3.13</td>\n",
       "      <td>2.93</td>\n",
       "      <td>0.20</td>\n",
       "      <td>1.83</td>\n",
       "      <td>2.94</td>\n",
       "      <td>1312.18</td>\n",
       "      <td>-0.175527</td>\n",
       "      <td>0.039879</td>\n",
       "      <td>-0.614344</td>\n",
       "      <td>0.139576</td>\n",
       "      <td>5.000000e-01</td>\n",
       "      <td>0.866025</td>\n",
       "      <td>0.010766</td>\n",
       "      <td>0.999942</td>\n",
       "    </tr>\n",
       "    <tr>\n",
       "      <th>3</th>\n",
       "      <td>996.99</td>\n",
       "      <td>-9.05</td>\n",
       "      <td>264.34</td>\n",
       "      <td>-10.02</td>\n",
       "      <td>92.6</td>\n",
       "      <td>3.07</td>\n",
       "      <td>2.85</td>\n",
       "      <td>0.23</td>\n",
       "      <td>1.78</td>\n",
       "      <td>2.85</td>\n",
       "      <td>1313.61</td>\n",
       "      <td>-0.050000</td>\n",
       "      <td>-0.086603</td>\n",
       "      <td>-0.190000</td>\n",
       "      <td>-0.329090</td>\n",
       "      <td>7.071068e-01</td>\n",
       "      <td>0.707107</td>\n",
       "      <td>0.011483</td>\n",
       "      <td>0.999934</td>\n",
       "    </tr>\n",
       "    <tr>\n",
       "      <th>4</th>\n",
       "      <td>997.46</td>\n",
       "      <td>-9.63</td>\n",
       "      <td>263.72</td>\n",
       "      <td>-10.65</td>\n",
       "      <td>92.2</td>\n",
       "      <td>2.94</td>\n",
       "      <td>2.71</td>\n",
       "      <td>0.23</td>\n",
       "      <td>1.69</td>\n",
       "      <td>2.71</td>\n",
       "      <td>1317.19</td>\n",
       "      <td>-0.368202</td>\n",
       "      <td>0.156292</td>\n",
       "      <td>-0.810044</td>\n",
       "      <td>0.343843</td>\n",
       "      <td>8.660254e-01</td>\n",
       "      <td>0.500000</td>\n",
       "      <td>0.012199</td>\n",
       "      <td>0.999926</td>\n",
       "    </tr>\n",
       "  </tbody>\n",
       "</table>\n",
       "</div>"
      ],
      "text/plain": [
       "   p (mbar)  T (degC)  Tpot (K)  Tdew (degC)  rh (%)  VPmax (mbar)  \\\n",
       "0    996.50     -8.05    265.38        -8.78    94.4          3.33   \n",
       "1    996.62     -8.88    264.54        -9.77    93.2          3.12   \n",
       "2    996.84     -8.81    264.59        -9.66    93.5          3.13   \n",
       "3    996.99     -9.05    264.34       -10.02    92.6          3.07   \n",
       "4    997.46     -9.63    263.72       -10.65    92.2          2.94   \n",
       "\n",
       "   VPact (mbar)  VPdef (mbar)  sh (g/kg)  H2OC (mmol/mol)  rho (g/m**3)  \\\n",
       "0          3.14          0.19       1.96             3.15       1307.86   \n",
       "1          2.90          0.21       1.81             2.91       1312.25   \n",
       "2          2.93          0.20       1.83             2.94       1312.18   \n",
       "3          2.85          0.23       1.78             2.85       1313.61   \n",
       "4          2.71          0.23       1.69             2.71       1317.19   \n",
       "\n",
       "         Wx        Wy    max Wx    max Wy       Day sin   Day cos  Year sin  \\\n",
       "0 -0.204862 -0.046168 -0.614587 -0.138503 -1.776611e-12  1.000000  0.009332   \n",
       "1 -0.245971 -0.044701 -0.619848 -0.112645  2.588190e-01  0.965926  0.010049   \n",
       "2 -0.175527  0.039879 -0.614344  0.139576  5.000000e-01  0.866025  0.010766   \n",
       "3 -0.050000 -0.086603 -0.190000 -0.329090  7.071068e-01  0.707107  0.011483   \n",
       "4 -0.368202  0.156292 -0.810044  0.343843  8.660254e-01  0.500000  0.012199   \n",
       "\n",
       "   Year cos  \n",
       "0  0.999956  \n",
       "1  0.999950  \n",
       "2  0.999942  \n",
       "3  0.999934  \n",
       "4  0.999926  "
      ]
     },
     "execution_count": 6,
     "metadata": {},
     "output_type": "execute_result"
    }
   ],
   "source": [
    "df.head()"
   ]
  },
  {
   "cell_type": "code",
   "execution_count": 7,
   "metadata": {},
   "outputs": [],
   "source": [
    "# split data\n",
    "n = len(df)\n",
    "train_df = df[0 : int(n * 0.7)]\n",
    "val_df = df[int(n * 0.7) : int(n * 0.9)]\n",
    "test_df = df[int(n * 0.9) :]"
   ]
  },
  {
   "cell_type": "code",
   "execution_count": 8,
   "metadata": {},
   "outputs": [],
   "source": [
    "# Normalize data\n",
    "train_mean = train_df.mean()\n",
    "train_std = train_df.std()\n",
    "\n",
    "train_df = (train_df - train_mean) / train_std\n",
    "val_df = (val_df - train_mean) / train_std\n",
    "test_df = (test_df - train_mean) / train_std"
   ]
  },
  {
   "cell_type": "code",
   "execution_count": 9,
   "metadata": {},
   "outputs": [
    {
     "data": {
      "text/plain": [
       "Index(['p (mbar)', 'T (degC)', 'Tpot (K)', 'Tdew (degC)', 'rh (%)',\n",
       "       'VPmax (mbar)', 'VPact (mbar)', 'VPdef (mbar)', 'sh (g/kg)',\n",
       "       'H2OC (mmol/mol)', 'rho (g/m**3)', 'Wx', 'Wy', 'max Wx', 'max Wy',\n",
       "       'Day sin', 'Day cos', 'Year sin', 'Year cos'],\n",
       "      dtype='object')"
      ]
     },
     "execution_count": 9,
     "metadata": {},
     "output_type": "execute_result"
    }
   ],
   "source": [
    "train_df.columns"
   ]
  },
  {
   "cell_type": "code",
   "execution_count": 22,
   "metadata": {},
   "outputs": [],
   "source": [
    "window = WindowGenerator(\n",
    "    label_width=15,\n",
    "    input_width=20,\n",
    "    feature_columns= ['p (mbar)','T (degC)'],\n",
    "    label_columns=['p (mbar)', 'T (degC)'],\n",
    "    shift=15,\n",
    ")"
   ]
  },
  {
   "cell_type": "code",
   "execution_count": null,
   "metadata": {},
   "outputs": [],
   "source": []
  },
  {
   "cell_type": "code",
   "execution_count": 23,
   "metadata": {},
   "outputs": [],
   "source": [
    "inputs_train, labels_train = window.create_dataset(train_df)\n",
    "inputs_val, labels_val = window.create_dataset(val_df)\n",
    "inputs_test, labels_test = window.create_dataset(test_df)"
   ]
  },
  {
   "cell_type": "markdown",
   "metadata": {},
   "source": [
    "### Classic ML models"
   ]
  },
  {
   "cell_type": "code",
   "execution_count": 12,
   "metadata": {},
   "outputs": [],
   "source": [
    "from sklearn.linear_model import LinearRegression\n",
    "from sklearn import ensemble\n",
    "from sklearn.neighbors import KNeighborsRegressor"
   ]
  },
  {
   "cell_type": "code",
   "execution_count": 13,
   "metadata": {},
   "outputs": [],
   "source": [
    "test_set_metrics = {}\n",
    "\n",
    "models = [LinearRegression(), KNeighborsRegressor(n_neighbors=7), \n",
    "          ensemble.ExtraTreesRegressor(max_depth=3, n_estimators=500)]\n",
    "models_names = ['LRegression','KNNeighbor','ExtraT'] "
   ]
  },
  {
   "cell_type": "code",
   "execution_count": null,
   "metadata": {},
   "outputs": [],
   "source": [
    "for name, model in zip(models_names, models):\n",
    "    \n",
    "    model.fit(cm.in_reshape(inputs_train), cm.in_reshape(labels_train))  \n",
    "    test_set_metrics[name] = (mean_squared_error(\n",
    "    labels_test.flatten(), model.predict(cm.in_reshape(inputs_test)).flatten()), \n",
    "    mean_absolute_error(\n",
    "    labels_test.flatten(), model.predict(cm.in_reshape(inputs_test)).flatten()))"
   ]
  },
  {
   "cell_type": "markdown",
   "metadata": {},
   "source": [
    "### dense"
   ]
  },
  {
   "cell_type": "code",
   "execution_count": 15,
   "metadata": {},
   "outputs": [],
   "source": [
    "tf.keras.backend.clear_session()"
   ]
  },
  {
   "cell_type": "code",
   "execution_count": null,
   "metadata": {},
   "outputs": [],
   "source": [
    "model = nn.dense_model(window, units=10)\n",
    "\n",
    "history = nn.compile_and_fit(\n",
    "    model, X=inputs_train, y=labels_train, val_X=inputs_val, val_y=labels_val\n",
    ")\n",
    "\n",
    "IPython.display.clear_output()"
   ]
  },
  {
   "cell_type": "code",
   "execution_count": null,
   "metadata": {},
   "outputs": [],
   "source": [
    "model_n = \"dense_vec\"\n",
    "n_trainable_params = {}\n",
    "history_set = {}\n",
    "test_set_metrics[\"dense_vec\"] = mean_squared_error(\n",
    "    labels_test.flatten(), model.predict(inputs_test).flatten()\n",
    "), mean_absolute_error(\n",
    "    labels_test.flatten(), model.predict(inputs_test).flatten()\n",
    ")\n",
    "\n",
    "\n",
    "history_set[model_n] = history\n",
    "n_trainable_params[model_n] = np.sum(\n",
    "    [np.prod(v.shape) for v in model.trainable_variables]\n",
    ")"
   ]
  },
  {
   "cell_type": "markdown",
   "metadata": {},
   "source": [
    "### conv"
   ]
  },
  {
   "cell_type": "code",
   "execution_count": 24,
   "metadata": {},
   "outputs": [
    {
     "ename": "ValueError",
     "evalue": "To predict 15 window label width, your input window width should be 17",
     "output_type": "error",
     "traceback": [
      "\u001b[0;31m---------------------------------------------------------------------------\u001b[0m",
      "\u001b[0;31mValueError\u001b[0m                                Traceback (most recent call last)",
      "\u001b[0;32m/var/folders/rj/6k0nsfdn11b6rn20jt0nwllh0000gq/T/ipykernel_15516/3450368308.py\u001b[0m in \u001b[0;36m<module>\u001b[0;34m\u001b[0m\n\u001b[1;32m      1\u001b[0m \u001b[0;31m## testing:\u001b[0m\u001b[0;34m\u001b[0m\u001b[0;34m\u001b[0m\u001b[0;34m\u001b[0m\u001b[0m\n\u001b[0;32m----> 2\u001b[0;31m \u001b[0mmodel\u001b[0m \u001b[0;34m=\u001b[0m \u001b[0mnn\u001b[0m\u001b[0;34m.\u001b[0m\u001b[0mconv_model\u001b[0m\u001b[0;34m(\u001b[0m\u001b[0mwindow\u001b[0m\u001b[0;34m=\u001b[0m\u001b[0mwindow\u001b[0m\u001b[0;34m,\u001b[0m \u001b[0mfilters\u001b[0m\u001b[0;34m=\u001b[0m\u001b[0;36m10\u001b[0m\u001b[0;34m)\u001b[0m\u001b[0;34m\u001b[0m\u001b[0;34m\u001b[0m\u001b[0m\n\u001b[0m",
      "\u001b[0;32m~/Desktop/LSTM-article/the_repo/notebooks/../models/models_nn.py\u001b[0m in \u001b[0;36mconv_model\u001b[0;34m(window, filters, kernel_size, activation)\u001b[0m\n\u001b[1;32m     10\u001b[0m     \u001b[0minput_width\u001b[0m \u001b[0;34m=\u001b[0m \u001b[0mwindow\u001b[0m\u001b[0;34m.\u001b[0m\u001b[0mlabel_width\u001b[0m \u001b[0;34m+\u001b[0m \u001b[0;34m(\u001b[0m\u001b[0mkernel_size\u001b[0m \u001b[0;34m-\u001b[0m \u001b[0;36m1\u001b[0m\u001b[0;34m)\u001b[0m\u001b[0;34m\u001b[0m\u001b[0;34m\u001b[0m\u001b[0m\n\u001b[1;32m     11\u001b[0m     \u001b[0;32mif\u001b[0m \u001b[0minput_width\u001b[0m \u001b[0;34m!=\u001b[0m \u001b[0mwindow\u001b[0m\u001b[0;34m.\u001b[0m\u001b[0minput_width\u001b[0m\u001b[0;34m:\u001b[0m\u001b[0;34m\u001b[0m\u001b[0;34m\u001b[0m\u001b[0m\n\u001b[0;32m---> 12\u001b[0;31m         raise ValueError(\n\u001b[0m\u001b[1;32m     13\u001b[0m             \"To predict {} window label width, your input window width should be {}\".format(\n\u001b[1;32m     14\u001b[0m                 \u001b[0mwindow\u001b[0m\u001b[0;34m.\u001b[0m\u001b[0mlabel_width\u001b[0m\u001b[0;34m,\u001b[0m \u001b[0minput_width\u001b[0m\u001b[0;34m\u001b[0m\u001b[0;34m\u001b[0m\u001b[0m\n",
      "\u001b[0;31mValueError\u001b[0m: To predict 15 window label width, your input window width should be 17"
     ]
    }
   ],
   "source": [
    "## testing: \n",
    "model = nn.conv_model(window=window, filters=10)"
   ]
  },
  {
   "cell_type": "code",
   "execution_count": 17,
   "metadata": {},
   "outputs": [],
   "source": [
    "history = nn.compile_and_fit(\n",
    "    model, X=inputs_train, y=labels_train, val_X=inputs_val, val_y=labels_val\n",
    ")\n",
    "\n",
    "IPython.display.clear_output()\n"
   ]
  },
  {
   "cell_type": "code",
   "execution_count": 21,
   "metadata": {},
   "outputs": [
    {
     "name": "stdout",
     "output_type": "stream",
     "text": [
      "Model: \"sequential\"\n",
      "_________________________________________________________________\n",
      "Layer (type)                 Output Shape              Param #   \n",
      "=================================================================\n",
      "conv1d (Conv1D)              (None, 15, 10)            70        \n",
      "_________________________________________________________________\n",
      "dense (Dense)                (None, 15, 2)             22        \n",
      "=================================================================\n",
      "Total params: 92\n",
      "Trainable params: 92\n",
      "Non-trainable params: 0\n",
      "_________________________________________________________________\n"
     ]
    }
   ],
   "source": [
    "\n"
   ]
  },
  {
   "cell_type": "code",
   "execution_count": null,
   "metadata": {},
   "outputs": [],
   "source": [
    "window.input_width"
   ]
  },
  {
   "cell_type": "code",
   "execution_count": null,
   "metadata": {},
   "outputs": [],
   "source": [
    "model = nn.conv_model(window=window, filters=10)\n",
    "\n",
    "history = nn.compile_and_fit(\n",
    "    model, X=inputs_train, y=labels_train, val_X=inputs_val, val_y=labels_val\n",
    ")\n",
    "\n",
    "IPython.display.clear_output()\n",
    "\n",
    "\n",
    "model_n = \"conv_vec\"\n",
    "\n",
    "test_set_metrics[model_n] = mean_squared_error(\n",
    "    labels_test.flatten(), model.predict(inputs_test).flatten()\n",
    "),mean_absolute_error(\n",
    "    labels_test.flatten(), model.predict(inputs_test).flatten()\n",
    ")\n",
    "history_set[model_n] = history\n",
    "n_trainable_params[model_n] = np.sum(\n",
    "    [np.prod(v.shape) for v in model.trainable_variables]\n",
    ")"
   ]
  },
  {
   "cell_type": "code",
   "execution_count": null,
   "metadata": {},
   "outputs": [],
   "source": [
    "model = nn.conv_model_recursive_train(window=window, filters=10)\n",
    "\n",
    "history = nn.compile_and_fit(\n",
    "    model, X=inputs_train, y=labels_train, val_X=inputs_val, val_y=labels_val\n",
    ")\n",
    "\n",
    "IPython.display.clear_output()\n",
    "\n",
    "model_n = \"conv_autoreg\"\n",
    "\n",
    "test_set_metrics[model_n] = mean_squared_error(\n",
    "    labels_test.flatten(), model.predict(inputs_test).flatten()\n",
    "),mean_absolute_error(\n",
    "    labels_test.flatten(), model.predict(inputs_test).flatten()\n",
    ")\n",
    "history_set[model_n] = history\n",
    "n_trainable_params[model_n] = np.sum(\n",
    "    [np.prod(v.shape) for v in model.trainable_variables]\n",
    ")"
   ]
  },
  {
   "cell_type": "markdown",
   "metadata": {},
   "source": [
    "### LSTM"
   ]
  },
  {
   "cell_type": "code",
   "execution_count": null,
   "metadata": {},
   "outputs": [],
   "source": [
    "model = nn.LSTM_model_vec_out(window=window, units=10)\n",
    "\n",
    "history = nn.compile_and_fit(\n",
    "    model, X=inputs_train, y=labels_train, val_X=inputs_val, val_y=labels_val\n",
    ")\n",
    "\n",
    "IPython.display.clear_output()\n",
    "\n",
    "model_n = \"LSTM_vec\"\n",
    "\n",
    "test_set_metrics[model_n] = mean_squared_error(\n",
    "    labels_test.flatten(), model.predict(inputs_test).flatten()\n",
    "),mean_absolute_error(\n",
    "    labels_test.flatten(), model.predict(inputs_test).flatten()\n",
    ")\n",
    "history_set[model_n] = history\n",
    "n_trainable_params[model_n] = np.sum(\n",
    "    [np.prod(v.shape) for v in model.trainable_variables]\n",
    ")"
   ]
  },
  {
   "cell_type": "code",
   "execution_count": null,
   "metadata": {},
   "outputs": [],
   "source": [
    "model = nn.LSTM_model_encoder_decoder(window=window, encoder_units=10, decoder_units=10)\n",
    "\n",
    "history = nn.compile_and_fit(\n",
    "    model, X=inputs_train, y=labels_train, val_X=inputs_val, val_y=labels_val\n",
    ")\n",
    "\n",
    "IPython.display.clear_output()\n",
    "\n",
    "model_n = \"LSTM_en_de\"\n",
    "\n",
    "test_set_metrics[model_n] = mean_squared_error(\n",
    "    labels_test.flatten(), model.predict(inputs_test).flatten()\n",
    "), mean_absolute_error(\n",
    "    labels_test.flatten(), model.predict(inputs_test).flatten()\n",
    ")\n",
    "history_set[model_n] = history\n",
    "n_trainable_params[model_n] = np.sum(\n",
    "    [np.prod(v.shape) for v in model.trainable_variables]\n",
    ")"
   ]
  },
  {
   "cell_type": "code",
   "execution_count": null,
   "metadata": {},
   "outputs": [],
   "source": [
    "model = nn.LSTM_model_recursive_train(window=window, units=10)\n",
    "\n",
    "history = nn.compile_and_fit(\n",
    "    model, X=inputs_train, y=labels_train, val_X=inputs_val, val_y=labels_val\n",
    ")\n",
    "\n",
    "IPython.display.clear_output()\n",
    "\n",
    "\n",
    "model_n = \"LSTM_autoreg\"\n",
    "\n",
    "test_set_metrics[model_n] = mean_squared_error(\n",
    "    labels_test.flatten(), model.predict(inputs_test).flatten()\n",
    "), mean_absolute_error(\n",
    "    labels_test.flatten(), model.predict(inputs_test).flatten()\n",
    ")\n",
    "history_set[model_n] = history\n",
    "n_trainable_params[model_n] = np.sum(\n",
    "    [np.prod(v.shape) for v in model.trainable_variables]\n",
    ")\n"
   ]
  },
  {
   "cell_type": "markdown",
   "metadata": {},
   "source": [
    "### Analytics"
   ]
  },
  {
   "cell_type": "code",
   "execution_count": null,
   "metadata": {},
   "outputs": [],
   "source": [
    "import matplotlib as mpl\n",
    "\n",
    "mpl.rcParams['figure.figsize'] = (15, 10)\n",
    "mpl.rcParams['axes.grid'] = False\n",
    "\n",
    "\n",
    "fig, ax1 = plt.subplots()\n",
    "\n",
    "x = np.arange(len(test_set_metrics))\n",
    "width = 0.3\n",
    "\n",
    "color = \"tab:gray\"\n",
    "ax1.set_ylabel(\"MSE over features and time-steps\", color=color, fontsize=15)\n",
    "ax1.bar(x, [i[0] for i in test_set_metrics.values()], width, color=color)\n",
    "ax1.set_xticks(ticks=x)\n",
    "ax1.set_xticklabels(labels=test_set_metrics.keys(), fontsize=15)\n",
    "ax1.xaxis.set_tick_params(rotation=45)\n",
    "\n",
    "ax2 = ax1.twinx()\n",
    "\n",
    "color = \"tab:orange\"\n",
    "ax2.set_ylabel(\"MAE over features and time-steps\", color=color, fontsize=15)\n",
    "width = 0.3\n",
    "ax2.bar(x + 0.30, [i[1] for i in test_set_metrics.values()], width, color=color)\n",
    "fig.tight_layout()\n",
    "plt.savefig(data_name +'.pdf', dpi=fig.dpi)\n",
    "plt.show()\n"
   ]
  },
  {
   "cell_type": "code",
   "execution_count": null,
   "metadata": {},
   "outputs": [],
   "source": [
    "fig, axes = plt.subplots(2, 3, sharex=True, figsize=(10, 5))\n",
    "axes = axes.ravel()\n",
    "\n",
    "for i, (key, value) in enumerate(history_set.items()):\n",
    "\n",
    "    axes[i].plot(history_set[key].history[\"loss\"], label=\"train\")\n",
    "    axes[i].plot(history_set[key].history[\"val_loss\"], label=\"validation\")\n",
    "    axes[i].set(title=key)\n",
    "    axes[i].legend()\n",
    "\n",
    "plt.tight_layout()"
   ]
  },
  {
   "cell_type": "markdown",
   "metadata": {},
   "source": [
    "### Recursive forecast:"
   ]
  },
  {
   "cell_type": "code",
   "execution_count": null,
   "metadata": {},
   "outputs": [],
   "source": [
    "models = [LinearRegression(), nn.conv_model, nn.LSTM_model_vec_out, nn.LSTM_model_encoder_decoder]\n",
    "models_n = ['Lr', 'Conv','LSTM_vec','LSTM_en_de']\n",
    "\n",
    "fig, axes = plt.subplots(1, len(models), sharex=True, figsize=(10, 5))\n",
    "axes = axes.ravel()\n",
    "\n",
    "for i in range(len(models)):  \n",
    "    \n",
    "    print(\"steps:\",i)\n",
    "    \n",
    "    if models_n[i] == 'Lr':\n",
    "        module = cm\n",
    "    else:\n",
    "        module = nn\n",
    "    \n",
    "    recursive = module.Recursive_Forecast(\n",
    "    output_time_step=15,\n",
    "    input_width=24,  \n",
    "    feature_columns= ['p (mbar)','T (degC)'],\n",
    "    label_columns=['p (mbar)', 'T (degC)'],\n",
    "        )\n",
    "    recursive.datasets(train_set=train_df, valid_set=val_df, test_set=test_df)\n",
    "    recursive.model_fit(models[i])\n",
    "    IPython.display.clear_output()\n",
    "        \n",
    "    preds, labels = recursive.recursive_predictions(data=\"test\") \n",
    "    \n",
    "    score = np.around(mean_squared_error(preds.flatten(),labels.flatten()), decimals=2)    \n",
    "    \n",
    "    recursive.plot_forecast_recursive(data=\"test\", plot_col=\"p (mbar)\", ax=axes[i])\n",
    "    axes[i].set_title((models_n[i], \"MSE\"+ str(score)))\n",
    "\n",
    "plt.tight_layout()"
   ]
  },
  {
   "cell_type": "markdown",
   "metadata": {},
   "source": [
    "### Direct forecast:"
   ]
  },
  {
   "cell_type": "code",
   "execution_count": null,
   "metadata": {},
   "outputs": [],
   "source": [
    "models = [LinearRegression(), nn.conv_model, nn.LSTM_model_vec_out, nn.LSTM_model_encoder_decoder]\n",
    "models_n = ['Lr', 'Conv','LSTM_vec','LSTM_en_de']\n",
    "\n",
    "fig, axes = plt.subplots(1, len(models), sharex=True, figsize=(10, 5))\n",
    "axes = axes.ravel()\n",
    "\n",
    "for i in range(len(models)):  \n",
    "    \n",
    "    print(\"steps:\",i)\n",
    "    \n",
    "    if models_n[i] == 'Lr':\n",
    "        module = cm\n",
    "    else:\n",
    "        module = nn        \n",
    "\n",
    "    direct = module.Direct_Forecast(\n",
    "     output_time_step=15,\n",
    "    input_width=24,  \n",
    "    feature_columns= ['p (mbar)','T (degC)'],\n",
    "    label_columns=['p (mbar)', 'T (degC)']\n",
    "        )\n",
    "    direct.datasets(train_set=train_df, valid_set=val_df, test_set=test_df)\n",
    "    direct.model_fit(models[i])\n",
    "    IPython.display.clear_output()\n",
    "        \n",
    "    preds, labels = direct.direct_predictions(data=\"test\")   \n",
    "    \n",
    "    score = np.around(mean_squared_error(preds.flatten(),labels.flatten()), decimals=2) \n",
    "\n",
    "    direct.plot_forecast_direct(data=\"test\", plot_col=\"p (mbar)\", ax=axes[i])\n",
    "    axes[i].set_title((models_n[i], \"MSE\"+ str(score)))\n",
    "\n",
    "plt.tight_layout()"
   ]
  },
  {
   "cell_type": "code",
   "execution_count": null,
   "metadata": {},
   "outputs": [],
   "source": []
  },
  {
   "cell_type": "code",
   "execution_count": null,
   "metadata": {},
   "outputs": [],
   "source": []
  }
 ],
 "metadata": {
  "kernelspec": {
   "display_name": "Python [conda env:M1ml2]",
   "language": "python",
   "name": "conda-env-M1ml2-py"
  },
  "language_info": {
   "codemirror_mode": {
    "name": "ipython",
    "version": 3
   },
   "file_extension": ".py",
   "mimetype": "text/x-python",
   "name": "python",
   "nbconvert_exporter": "python",
   "pygments_lexer": "ipython3",
   "version": "3.8.12"
  }
 },
 "nbformat": 4,
 "nbformat_minor": 4
}
