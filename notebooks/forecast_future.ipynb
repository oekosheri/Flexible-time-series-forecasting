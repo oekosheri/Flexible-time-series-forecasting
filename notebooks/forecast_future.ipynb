{
 "cells": [
  {
   "cell_type": "code",
   "execution_count": 1,
   "id": "46f1fad6",
   "metadata": {},
   "outputs": [],
   "source": [
    "import os\n",
    "os.environ['KMP_DUPLICATE_LIB_OK']='True'\n",
    "\n",
    "import sys\n",
    "\n",
    "sys.path.append(\"..\")"
   ]
  },
  {
   "cell_type": "code",
   "execution_count": 2,
   "id": "2c05f693",
   "metadata": {},
   "outputs": [],
   "source": [
    "import IPython\n",
    "import IPython.display\n",
    "import matplotlib as mpl\n",
    "import matplotlib.pyplot as plt\n",
    "import numpy as np\n",
    "import pandas as pd\n",
    "import tensorflow as tf\n",
    "import statsmodels.api as sm"
   ]
  },
  {
   "cell_type": "code",
   "execution_count": 3,
   "id": "7ef2deb4",
   "metadata": {},
   "outputs": [],
   "source": [
    "import models.models_nn as nn\n",
    "import models.models_classic_ml as cm\n",
    "from data.create_datasets import WindowGenerator"
   ]
  },
  {
   "cell_type": "code",
   "execution_count": 4,
   "id": "cc328a35",
   "metadata": {},
   "outputs": [],
   "source": [
    "df = pd.read_csv(\"../datasets/london_bike_sharing.csv\")\n",
    "data_name = 'london_bike_sharing'"
   ]
  },
  {
   "cell_type": "code",
   "execution_count": 5,
   "id": "fbe131ad",
   "metadata": {},
   "outputs": [],
   "source": [
    "df.set_index('timestamp', inplace=True)"
   ]
  },
  {
   "cell_type": "code",
   "execution_count": 6,
   "id": "3936c91e",
   "metadata": {},
   "outputs": [
    {
     "data": {
      "text/html": [
       "<div>\n",
       "<style scoped>\n",
       "    .dataframe tbody tr th:only-of-type {\n",
       "        vertical-align: middle;\n",
       "    }\n",
       "\n",
       "    .dataframe tbody tr th {\n",
       "        vertical-align: top;\n",
       "    }\n",
       "\n",
       "    .dataframe thead th {\n",
       "        text-align: right;\n",
       "    }\n",
       "</style>\n",
       "<table border=\"1\" class=\"dataframe\">\n",
       "  <thead>\n",
       "    <tr style=\"text-align: right;\">\n",
       "      <th></th>\n",
       "      <th>cnt</th>\n",
       "      <th>t1</th>\n",
       "      <th>t2</th>\n",
       "      <th>hum</th>\n",
       "      <th>wind_speed</th>\n",
       "      <th>weather_code</th>\n",
       "      <th>is_holiday</th>\n",
       "      <th>is_weekend</th>\n",
       "      <th>season</th>\n",
       "    </tr>\n",
       "    <tr>\n",
       "      <th>timestamp</th>\n",
       "      <th></th>\n",
       "      <th></th>\n",
       "      <th></th>\n",
       "      <th></th>\n",
       "      <th></th>\n",
       "      <th></th>\n",
       "      <th></th>\n",
       "      <th></th>\n",
       "      <th></th>\n",
       "    </tr>\n",
       "  </thead>\n",
       "  <tbody>\n",
       "    <tr>\n",
       "      <th>2015-01-04 00:00:00</th>\n",
       "      <td>182</td>\n",
       "      <td>3.0</td>\n",
       "      <td>2.0</td>\n",
       "      <td>93.0</td>\n",
       "      <td>6.0</td>\n",
       "      <td>3.0</td>\n",
       "      <td>0.0</td>\n",
       "      <td>1.0</td>\n",
       "      <td>3.0</td>\n",
       "    </tr>\n",
       "    <tr>\n",
       "      <th>2015-01-04 01:00:00</th>\n",
       "      <td>138</td>\n",
       "      <td>3.0</td>\n",
       "      <td>2.5</td>\n",
       "      <td>93.0</td>\n",
       "      <td>5.0</td>\n",
       "      <td>1.0</td>\n",
       "      <td>0.0</td>\n",
       "      <td>1.0</td>\n",
       "      <td>3.0</td>\n",
       "    </tr>\n",
       "    <tr>\n",
       "      <th>2015-01-04 02:00:00</th>\n",
       "      <td>134</td>\n",
       "      <td>2.5</td>\n",
       "      <td>2.5</td>\n",
       "      <td>96.5</td>\n",
       "      <td>0.0</td>\n",
       "      <td>1.0</td>\n",
       "      <td>0.0</td>\n",
       "      <td>1.0</td>\n",
       "      <td>3.0</td>\n",
       "    </tr>\n",
       "    <tr>\n",
       "      <th>2015-01-04 03:00:00</th>\n",
       "      <td>72</td>\n",
       "      <td>2.0</td>\n",
       "      <td>2.0</td>\n",
       "      <td>100.0</td>\n",
       "      <td>0.0</td>\n",
       "      <td>1.0</td>\n",
       "      <td>0.0</td>\n",
       "      <td>1.0</td>\n",
       "      <td>3.0</td>\n",
       "    </tr>\n",
       "    <tr>\n",
       "      <th>2015-01-04 04:00:00</th>\n",
       "      <td>47</td>\n",
       "      <td>2.0</td>\n",
       "      <td>0.0</td>\n",
       "      <td>93.0</td>\n",
       "      <td>6.5</td>\n",
       "      <td>1.0</td>\n",
       "      <td>0.0</td>\n",
       "      <td>1.0</td>\n",
       "      <td>3.0</td>\n",
       "    </tr>\n",
       "  </tbody>\n",
       "</table>\n",
       "</div>"
      ],
      "text/plain": [
       "                     cnt   t1   t2    hum  wind_speed  weather_code  \\\n",
       "timestamp                                                             \n",
       "2015-01-04 00:00:00  182  3.0  2.0   93.0         6.0           3.0   \n",
       "2015-01-04 01:00:00  138  3.0  2.5   93.0         5.0           1.0   \n",
       "2015-01-04 02:00:00  134  2.5  2.5   96.5         0.0           1.0   \n",
       "2015-01-04 03:00:00   72  2.0  2.0  100.0         0.0           1.0   \n",
       "2015-01-04 04:00:00   47  2.0  0.0   93.0         6.5           1.0   \n",
       "\n",
       "                     is_holiday  is_weekend  season  \n",
       "timestamp                                            \n",
       "2015-01-04 00:00:00         0.0         1.0     3.0  \n",
       "2015-01-04 01:00:00         0.0         1.0     3.0  \n",
       "2015-01-04 02:00:00         0.0         1.0     3.0  \n",
       "2015-01-04 03:00:00         0.0         1.0     3.0  \n",
       "2015-01-04 04:00:00         0.0         1.0     3.0  "
      ]
     },
     "execution_count": 6,
     "metadata": {},
     "output_type": "execute_result"
    }
   ],
   "source": [
    "df.head()"
   ]
  },
  {
   "cell_type": "code",
   "execution_count": 7,
   "id": "70d3a8b4",
   "metadata": {},
   "outputs": [],
   "source": [
    "# split data\n",
    "n = len(df)\n",
    "train_df = df[0 : int(n * 0.7)]\n",
    "val_df = df[int(n * 0.7) : int(n * 0.9)]\n",
    "test_df = df[int(n * 0.9) :]"
   ]
  },
  {
   "cell_type": "code",
   "execution_count": 8,
   "id": "ddd0bea9",
   "metadata": {},
   "outputs": [],
   "source": [
    "# Normalize data\n",
    "train_mean = train_df.mean()\n",
    "train_std = train_df.std()\n",
    "\n",
    "train_df = (train_df - train_mean) / train_std\n",
    "val_df = (val_df - train_mean) / train_std\n",
    "test_df = (test_df - train_mean) / train_std"
   ]
  },
  {
   "cell_type": "markdown",
   "id": "b2d1d5f4",
   "metadata": {},
   "source": [
    "### Plot acf/pacf:"
   ]
  },
  {
   "cell_type": "code",
   "execution_count": 9,
   "id": "5ee96d6e",
   "metadata": {},
   "outputs": [
    {
     "data": {
      "image/png": "[encoded data removed]",
      "text/plain": [
       "<Figure size 432x288 with 1 Axes>"
      ]
     },
     "metadata": {
      "needs_background": "light"
     },
     "output_type": "display_data"
    }
   ],
   "source": [
    "# to check important lags and seasonality\n",
    "sm.graphics.tsa.plot_acf(df.cnt, lags=50)\n",
    "plt.show()\n"
   ]
  },
  {
   "cell_type": "markdown",
   "id": "bbf0ac7b",
   "metadata": {},
   "source": [
    "### Data window"
   ]
  },
  {
   "cell_type": "code",
   "execution_count": 10,
   "id": "4df93f8b",
   "metadata": {},
   "outputs": [
    {
     "data": {
      "text/plain": [
       "Index(['cnt', 't1', 't2', 'hum', 'wind_speed', 'weather_code', 'is_holiday',\n",
       "       'is_weekend', 'season'],\n",
       "      dtype='object')"
      ]
     },
     "execution_count": 10,
     "metadata": {},
     "output_type": "execute_result"
    }
   ],
   "source": [
    "train_df.columns"
   ]
  },
  {
   "cell_type": "code",
   "execution_count": 22,
   "id": "2b8ecc3e",
   "metadata": {},
   "outputs": [],
   "source": [
    "window = WindowGenerator(\n",
    "    label_width=15,\n",
    "    input_width=24,\n",
    "    feature_columns= ['t1', 't2', 'hum', 'wind_speed', 'cnt'],\n",
    "    label_columns= ['t1', 't2', 'hum', 'wind_speed', 'cnt'],\n",
    "    shift=15,\n",
    ")"
   ]
  },
  {
   "cell_type": "code",
   "execution_count": 23,
   "id": "34c3f659",
   "metadata": {},
   "outputs": [
    {
     "data": {
      "text/plain": [
       "Total window size: 39\n",
       "Input indices: [ 0  1  2  3  4  5  6  7  8  9 10 11 12 13 14 15 16 17 18 19 20 21 22 23]\n",
       "Label indices: [24 25 26 27 28 29 30 31 32 33 34 35 36 37 38]\n",
       "Label column name(s): ['t1', 't2', 'hum', 'wind_speed', 'cnt']\n",
       "Feature column name (s): ['t1', 't2', 'hum', 'wind_speed', 'cnt']"
      ]
     },
     "execution_count": 23,
     "metadata": {},
     "output_type": "execute_result"
    }
   ],
   "source": [
    "window"
   ]
  },
  {
   "cell_type": "code",
   "execution_count": 24,
   "id": "61373fc5",
   "metadata": {},
   "outputs": [],
   "source": [
    "inputs_train, labels_train = window.create_dataset(train_df)\n",
    "inputs_val, labels_val = window.create_dataset(val_df)\n",
    "inputs_test, labels_test = window.create_dataset(test_df)"
   ]
  },
  {
   "cell_type": "markdown",
   "id": "2faa9c07",
   "metadata": {},
   "source": [
    "### model: LSTM simple vector output"
   ]
  },
  {
   "cell_type": "code",
   "execution_count": 25,
   "id": "9a37c619",
   "metadata": {},
   "outputs": [],
   "source": [
    "model = nn.LSTM_model_vec_out(window=window)\n",
    "\n",
    "history = nn.compile_and_fit(\n",
    "    model, X=inputs_train, y=labels_train, val_X=inputs_val, val_y=labels_val\n",
    ")\n",
    "IPython.display.clear_output()"
   ]
  },
  {
   "cell_type": "code",
   "execution_count": 26,
   "id": "6417e60d",
   "metadata": {},
   "outputs": [
    {
     "data": {
      "text/plain": [
       "[<matplotlib.lines.Line2D at 0x29bc48ac0>]"
      ]
     },
     "execution_count": 26,
     "metadata": {},
     "output_type": "execute_result"
    },
    {
     "data": {
      "image/png": "[encoded data removed]",
      "text/plain": [
       "<Figure size 432x288 with 1 Axes>"
      ]
     },
     "metadata": {
      "needs_background": "light"
     },
     "output_type": "display_data"
    }
   ],
   "source": [
    "plt.plot(history.history[\"loss\"], label=\"train\")\n",
    "plt.plot(history.history[\"val_loss\"], label=\"validation\")"
   ]
  },
  {
   "cell_type": "code",
   "execution_count": 60,
   "id": "bc366c3d",
   "metadata": {},
   "outputs": [
    {
     "data": {
      "image/png": "[encoded data removed]",
      "text/plain": [
       "<Figure size 432x288 with 1 Axes>"
      ]
     },
     "metadata": {
      "needs_background": "light"
     },
     "output_type": "display_data"
    }
   ],
   "source": [
    "# plot one sample from test set\n",
    "nn.plot_forecast(model, window=window, input_data=inputs_test, label_data= labels_test,\n",
    "                          plot_col=\"cnt\")"
   ]
  },
  {
   "cell_type": "markdown",
   "id": "a92feb20",
   "metadata": {},
   "source": [
    "### predict future: LSTM built-in vector output"
   ]
  },
  {
   "cell_type": "code",
   "execution_count": 55,
   "id": "9a1bfa0d",
   "metadata": {},
   "outputs": [
    {
     "data": {
      "text/plain": [
       "(1, 24, 5)"
      ]
     },
     "execution_count": 55,
     "metadata": {},
     "output_type": "execute_result"
    }
   ],
   "source": [
    "# the last sample in the test df or predicting future: vector output  \n",
    "input_array = test_df[window.feature_columns].tail(window.input_width).to_numpy()\n",
    "input_array = np.expand_dims(input_array, 0)\n",
    "input_array.shape"
   ]
  },
  {
   "cell_type": "code",
   "execution_count": 56,
   "id": "4810366e",
   "metadata": {},
   "outputs": [
    {
     "data": {
      "text/plain": [
       "[<matplotlib.lines.Line2D at 0x29ba3a850>]"
      ]
     },
     "execution_count": 56,
     "metadata": {},
     "output_type": "execute_result"
    },
    {
     "data": {
      "image/png": "[encoded data removed]",
      "text/plain": [
       "<Figure size 432x288 with 1 Axes>"
      ]
     },
     "metadata": {
      "needs_background": "light"
     },
     "output_type": "display_data"
    }
   ],
   "source": [
    "index_1 = window.feature_columns.index('cnt')\n",
    "index_2 = window.label_columns.index('cnt')\n",
    "\n",
    "plt.plot(window.input_indices, input_array[-1, :, index_1], \"go-\", label=\"inputs\")\n",
    "plt.plot(window.label_indices, model.predict(input_array)[-1, :, index_2], \"ro\", label=\"preds\")"
   ]
  },
  {
   "cell_type": "markdown",
   "id": "9beb938c",
   "metadata": {},
   "source": [
    "### predict future: LSTM Recurisive"
   ]
  },
  {
   "cell_type": "code",
   "execution_count": 42,
   "id": "83877591",
   "metadata": {},
   "outputs": [],
   "source": [
    "# predicting future: Recursive forecast\n",
    "recursive = nn.Recursive_Forecast(\n",
    "output_time_step=15,\n",
    "input_width=24,  \n",
    "    feature_columns= ['t1', 't2', 'hum', 'wind_speed', 'cnt'],\n",
    "    label_columns= ['t1', 't2', 'hum', 'wind_speed', 'cnt']\n",
    ")\n",
    "recursive.datasets(train_set=train_df, valid_set=val_df, test_set=test_df)\n",
    "recursive.model_fit(nn.LSTM_model_vec_out)\n",
    "IPython.display.clear_output()\n"
   ]
  },
  {
   "cell_type": "code",
   "execution_count": 52,
   "id": "0f30f288",
   "metadata": {},
   "outputs": [],
   "source": [
    "preds = recursive.recursive_future(input_array)"
   ]
  },
  {
   "cell_type": "code",
   "execution_count": 53,
   "id": "9184655e",
   "metadata": {},
   "outputs": [
    {
     "data": {
      "text/plain": [
       "[<matplotlib.lines.Line2D at 0x2a1fe7760>]"
      ]
     },
     "execution_count": 53,
     "metadata": {},
     "output_type": "execute_result"
    },
    {
     "data": {
      "image/png": "[encoded data removed]",
      "text/plain": [
       "<Figure size 432x288 with 1 Axes>"
      ]
     },
     "metadata": {
      "needs_background": "light"
     },
     "output_type": "display_data"
    }
   ],
   "source": [
    "plt.plot(window.input_indices, input_array[-1, :, index_1], \"go-\", label=\"inputs\")\n",
    "plt.plot(window.label_indices, preds[-1, :, index_2], \"ro\", label=\"preds\")"
   ]
  },
  {
   "cell_type": "markdown",
   "id": "fa0a57e5",
   "metadata": {},
   "source": [
    "### predict future: LSTM Direct"
   ]
  },
  {
   "cell_type": "code",
   "execution_count": 54,
   "id": "2cfe3cce",
   "metadata": {},
   "outputs": [],
   "source": [
    "# predicting future: Direct forecast\n",
    "direct = nn.Direct_Forecast(\n",
    "output_time_step=15,\n",
    "input_width=24,  \n",
    "    feature_columns= ['t1', 't2', 'hum', 'wind_speed', 'cnt'],\n",
    "    label_columns= ['t1', 't2', 'hum', 'wind_speed', 'cnt']\n",
    ")\n",
    "direct.datasets(train_set=train_df, valid_set=val_df, test_set=test_df)\n",
    "direct.model_fit(nn.LSTM_model_vec_out)\n",
    "IPython.display.clear_output()"
   ]
  },
  {
   "cell_type": "code",
   "execution_count": 58,
   "id": "77e3c8ff",
   "metadata": {},
   "outputs": [],
   "source": [
    "preds = direct.direct_future(input_array)"
   ]
  },
  {
   "cell_type": "code",
   "execution_count": 59,
   "id": "e9a6fdfe",
   "metadata": {},
   "outputs": [
    {
     "data": {
      "text/plain": [
       "[<matplotlib.lines.Line2D at 0x295c54940>]"
      ]
     },
     "execution_count": 59,
     "metadata": {},
     "output_type": "execute_result"
    },
    {
     "data": {
      "image/png": "[encoded data removed]",
      "text/plain": [
       "<Figure size 432x288 with 1 Axes>"
      ]
     },
     "metadata": {
      "needs_background": "light"
     },
     "output_type": "display_data"
    }
   ],
   "source": [
    "plt.plot(window.input_indices, input_array[-1, :, index_1], \"go-\", label=\"inputs\")\n",
    "plt.plot(window.label_indices, preds[-1, :, index_2], \"ro\", label=\"preds\")"
   ]
  },
  {
   "cell_type": "code",
   "execution_count": null,
   "id": "d2806358",
   "metadata": {},
   "outputs": [],
   "source": []
  }
 ],
 "metadata": {
  "kernelspec": {
   "display_name": "Python [conda env:M1ml2] *",
   "language": "python",
   "name": "conda-env-M1ml2-py"
  },
  "language_info": {
   "codemirror_mode": {
    "name": "ipython",
    "version": 3
   },
   "file_extension": ".py",
   "mimetype": "text/x-python",
   "name": "python",
   "nbconvert_exporter": "python",
   "pygments_lexer": "ipython3",
   "version": "3.8.12"
  }
 },
 "nbformat": 4,
 "nbformat_minor": 5
}
