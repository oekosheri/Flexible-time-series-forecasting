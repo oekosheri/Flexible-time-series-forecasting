{
 "cells": [
  {
   "cell_type": "code",
   "execution_count": 1,
   "id": "46f1fad6",
   "metadata": {},
   "outputs": [],
   "source": [
    "import os\n",
    "os.environ['KMP_DUPLICATE_LIB_OK']='True'\n",
    "\n",
    "import sys\n",
    "\n",
    "sys.path.append(\"..\")"
   ]
  },
  {
   "cell_type": "code",
   "execution_count": 2,
   "id": "2c05f693",
   "metadata": {},
   "outputs": [],
   "source": [
    "import IPython\n",
    "import IPython.display\n",
    "import matplotlib as mpl\n",
    "import matplotlib.pyplot as plt\n",
    "import numpy as np\n",
    "import pandas as pd\n",
    "import tensorflow as tf"
   ]
  },
  {
   "cell_type": "code",
   "execution_count": null,
   "id": "7ef2deb4",
   "metadata": {},
   "outputs": [],
   "source": [
    "import models.models_nn as nn\n",
    "import models.models_classic_ml as cm\n",
    "from data.create_datasets import WindowGenerator"
   ]
  },
  {
   "cell_type": "code",
   "execution_count": null,
   "id": "cc328a35",
   "metadata": {},
   "outputs": [],
   "source": [
    "df = pd.read_csv(\"../datasets/df_feat_enged\")\n",
    "data_name = 'df_feat_enged'"
   ]
  },
  {
   "cell_type": "code",
   "execution_count": null,
   "id": "fbe131ad",
   "metadata": {},
   "outputs": [],
   "source": [
    "df.head()"
   ]
  },
  {
   "cell_type": "code",
   "execution_count": null,
   "id": "70d3a8b4",
   "metadata": {},
   "outputs": [],
   "source": [
    "# split data\n",
    "n = len(df)\n",
    "train_df = df[0 : int(n * 0.7)]\n",
    "val_df = df[int(n * 0.7) : int(n * 0.9)]\n",
    "test_df = df[int(n * 0.9) :]"
   ]
  },
  {
   "cell_type": "code",
   "execution_count": null,
   "id": "ddd0bea9",
   "metadata": {},
   "outputs": [],
   "source": [
    "# Normalize data\n",
    "train_mean = train_df.mean()\n",
    "train_std = train_df.std()\n",
    "\n",
    "train_df = (train_df - train_mean) / train_std\n",
    "val_df = (val_df - train_mean) / train_std\n",
    "test_df = (test_df - train_mean) / train_std"
   ]
  },
  {
   "cell_type": "code",
   "execution_count": null,
   "id": "4df93f8b",
   "metadata": {},
   "outputs": [],
   "source": [
    "train_df.columns"
   ]
  },
  {
   "cell_type": "code",
   "execution_count": null,
   "id": "9a1bfa0d",
   "metadata": {},
   "outputs": [],
   "source": []
  },
  {
   "cell_type": "code",
   "execution_count": null,
   "id": "4810366e",
   "metadata": {},
   "outputs": [],
   "source": []
  },
  {
   "cell_type": "code",
   "execution_count": null,
   "id": "c93add7b",
   "metadata": {},
   "outputs": [],
   "source": []
  }
 ],
 "metadata": {
  "kernelspec": {
   "display_name": "Python [conda env:M1ml2]",
   "language": "python",
   "name": "conda-env-M1ml2-py"
  },
  "language_info": {
   "codemirror_mode": {
    "name": "ipython",
    "version": 3
   },
   "file_extension": ".py",
   "mimetype": "text/x-python",
   "name": "python",
   "nbconvert_exporter": "python",
   "pygments_lexer": "ipython3",
   "version": "3.8.12"
  }
 },
 "nbformat": 4,
 "nbformat_minor": 5
}
