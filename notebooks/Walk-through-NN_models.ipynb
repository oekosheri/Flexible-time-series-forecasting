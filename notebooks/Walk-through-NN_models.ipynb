{
 "cells": [
  {
   "cell_type": "markdown",
   "metadata": {},
   "source": [
    "#### Example dataframe-dataset generator:"
   ]
  },
  {
   "cell_type": "code",
   "execution_count": 1,
   "metadata": {},
   "outputs": [
    {
     "name": "stdout",
     "output_type": "stream",
     "text": [
      "/Users/Sherri/miniforge3/envs/m1ml2/bin/python\n"
     ]
    }
   ],
   "source": [
    "import sys\n",
    "print(sys.executable)"
   ]
  },
  {
   "cell_type": "code",
   "execution_count": 2,
   "metadata": {},
   "outputs": [
    {
     "ename": "NameError",
     "evalue": "name 'np' is not defined",
     "output_type": "error",
     "traceback": [
      "\u001b[0;31m---------------------------------------------------------------------------\u001b[0m",
      "\u001b[0;31mNameError\u001b[0m                                 Traceback (most recent call last)",
      "\u001b[0;32m/var/folders/rj/6k0nsfdn11b6rn20jt0nwllh0000gq/T/ipykernel_8392/3599223781.py\u001b[0m in \u001b[0;36m<module>\u001b[0;34m\u001b[0m\n\u001b[1;32m      1\u001b[0m dic = {'first':[x for x in range(10)], \n\u001b[1;32m      2\u001b[0m        \u001b[0;34m'second'\u001b[0m\u001b[0;34m:\u001b[0m \u001b[0;34m[\u001b[0m\u001b[0mx\u001b[0m\u001b[0;34m**\u001b[0m\u001b[0;36m2\u001b[0m \u001b[0;32mfor\u001b[0m \u001b[0mx\u001b[0m \u001b[0;32min\u001b[0m \u001b[0mrange\u001b[0m\u001b[0;34m(\u001b[0m\u001b[0;36m10\u001b[0m\u001b[0;34m)\u001b[0m\u001b[0;34m]\u001b[0m\u001b[0;34m,\u001b[0m\u001b[0;34m\u001b[0m\u001b[0;34m\u001b[0m\u001b[0m\n\u001b[0;32m----> 3\u001b[0;31m         'third': [np.sqrt(x) for x in range(10)]}\n\u001b[0m\u001b[1;32m      4\u001b[0m \u001b[0mdata_\u001b[0m \u001b[0;34m=\u001b[0m \u001b[0mpd\u001b[0m\u001b[0;34m.\u001b[0m\u001b[0mDataFrame\u001b[0m\u001b[0;34m(\u001b[0m\u001b[0mdic\u001b[0m\u001b[0;34m)\u001b[0m\u001b[0;34m\u001b[0m\u001b[0;34m\u001b[0m\u001b[0m\n\u001b[1;32m      5\u001b[0m \u001b[0mdata_\u001b[0m\u001b[0;34m\u001b[0m\u001b[0;34m\u001b[0m\u001b[0m\n",
      "\u001b[0;32m/var/folders/rj/6k0nsfdn11b6rn20jt0nwllh0000gq/T/ipykernel_8392/3599223781.py\u001b[0m in \u001b[0;36m<listcomp>\u001b[0;34m(.0)\u001b[0m\n\u001b[1;32m      1\u001b[0m dic = {'first':[x for x in range(10)], \n\u001b[1;32m      2\u001b[0m        \u001b[0;34m'second'\u001b[0m\u001b[0;34m:\u001b[0m \u001b[0;34m[\u001b[0m\u001b[0mx\u001b[0m\u001b[0;34m**\u001b[0m\u001b[0;36m2\u001b[0m \u001b[0;32mfor\u001b[0m \u001b[0mx\u001b[0m \u001b[0;32min\u001b[0m \u001b[0mrange\u001b[0m\u001b[0;34m(\u001b[0m\u001b[0;36m10\u001b[0m\u001b[0;34m)\u001b[0m\u001b[0;34m]\u001b[0m\u001b[0;34m,\u001b[0m\u001b[0;34m\u001b[0m\u001b[0;34m\u001b[0m\u001b[0m\n\u001b[0;32m----> 3\u001b[0;31m         'third': [np.sqrt(x) for x in range(10)]}\n\u001b[0m\u001b[1;32m      4\u001b[0m \u001b[0mdata_\u001b[0m \u001b[0;34m=\u001b[0m \u001b[0mpd\u001b[0m\u001b[0;34m.\u001b[0m\u001b[0mDataFrame\u001b[0m\u001b[0;34m(\u001b[0m\u001b[0mdic\u001b[0m\u001b[0;34m)\u001b[0m\u001b[0;34m\u001b[0m\u001b[0;34m\u001b[0m\u001b[0m\n\u001b[1;32m      5\u001b[0m \u001b[0mdata_\u001b[0m\u001b[0;34m\u001b[0m\u001b[0;34m\u001b[0m\u001b[0m\n",
      "\u001b[0;31mNameError\u001b[0m: name 'np' is not defined"
     ]
    }
   ],
   "source": [
    "dic = {'first':[x for x in range(10)], \n",
    "       'second': [x**2 for x in range(10)],\n",
    "        'third': [np.sqrt(x) for x in range(10)]}\n",
    "data_ = pd.DataFrame(dic)\n",
    "data_"
   ]
  },
  {
   "cell_type": "code",
   "execution_count": 3,
   "metadata": {},
   "outputs": [
    {
     "ename": "NameError",
     "evalue": "name 'WindowGenerator' is not defined",
     "output_type": "error",
     "traceback": [
      "\u001b[0;31m---------------------------------------------------------------------------\u001b[0m",
      "\u001b[0;31mNameError\u001b[0m                                 Traceback (most recent call last)",
      "\u001b[0;32m/var/folders/rj/6k0nsfdn11b6rn20jt0nwllh0000gq/T/ipykernel_8392/3920771457.py\u001b[0m in \u001b[0;36m<module>\u001b[0;34m\u001b[0m\n\u001b[0;32m----> 1\u001b[0;31m w2 = WindowGenerator(input_width=3, label_width=2, shift=2\n\u001b[0m\u001b[1;32m      2\u001b[0m                      )\n",
      "\u001b[0;31mNameError\u001b[0m: name 'WindowGenerator' is not defined"
     ]
    }
   ],
   "source": [
    "w2 = WindowGenerator(input_width=3, label_width=2, shift=2\n",
    "                     )"
   ]
  },
  {
   "cell_type": "code",
   "execution_count": 4,
   "metadata": {},
   "outputs": [
    {
     "ename": "NameError",
     "evalue": "name 'w2' is not defined",
     "output_type": "error",
     "traceback": [
      "\u001b[0;31m---------------------------------------------------------------------------\u001b[0m",
      "\u001b[0;31mNameError\u001b[0m                                 Traceback (most recent call last)",
      "\u001b[0;32m/var/folders/rj/6k0nsfdn11b6rn20jt0nwllh0000gq/T/ipykernel_8392/2647617181.py\u001b[0m in \u001b[0;36m<module>\u001b[0;34m\u001b[0m\n\u001b[0;32m----> 1\u001b[0;31m \u001b[0mw2\u001b[0m\u001b[0;34m\u001b[0m\u001b[0;34m\u001b[0m\u001b[0m\n\u001b[0m",
      "\u001b[0;31mNameError\u001b[0m: name 'w2' is not defined"
     ]
    }
   ],
   "source": [
    "w2"
   ]
  },
  {
   "cell_type": "code",
   "execution_count": 5,
   "metadata": {},
   "outputs": [
    {
     "ename": "NameError",
     "evalue": "name 'w2' is not defined",
     "output_type": "error",
     "traceback": [
      "\u001b[0;31m---------------------------------------------------------------------------\u001b[0m",
      "\u001b[0;31mNameError\u001b[0m                                 Traceback (most recent call last)",
      "\u001b[0;32m/var/folders/rj/6k0nsfdn11b6rn20jt0nwllh0000gq/T/ipykernel_8392/3861948320.py\u001b[0m in \u001b[0;36m<module>\u001b[0;34m\u001b[0m\n\u001b[0;32m----> 1\u001b[0;31m \u001b[0minputs\u001b[0m\u001b[0;34m,\u001b[0m\u001b[0mlabels\u001b[0m \u001b[0;34m=\u001b[0m \u001b[0mw2\u001b[0m\u001b[0;34m.\u001b[0m\u001b[0mcreate_dataset\u001b[0m\u001b[0;34m(\u001b[0m\u001b[0mdata_\u001b[0m\u001b[0;34m,\u001b[0m \u001b[0mstride\u001b[0m\u001b[0;34m=\u001b[0m\u001b[0;36m2\u001b[0m\u001b[0;34m)\u001b[0m\u001b[0;34m\u001b[0m\u001b[0;34m\u001b[0m\u001b[0m\n\u001b[0m",
      "\u001b[0;31mNameError\u001b[0m: name 'w2' is not defined"
     ]
    }
   ],
   "source": [
    "inputs,labels = w2.create_dataset(data_, stride=2)"
   ]
  },
  {
   "cell_type": "code",
   "execution_count": null,
   "metadata": {},
   "outputs": [],
   "source": [
    "inputs"
   ]
  },
  {
   "cell_type": "code",
   "execution_count": 2,
   "metadata": {},
   "outputs": [],
   "source": [
    "import os\n",
    "import datetime\n",
    "\n",
    "import IPython\n",
    "import IPython.display\n",
    "import matplotlib as mpl\n",
    "import matplotlib.pyplot as plt\n",
    "import numpy as np\n",
    "import pandas as pd\n",
    "import tensorflow as tf\n",
    "\n",
    "mpl.rcParams['figure.figsize'] = (15, 10)\n",
    "mpl.rcParams['axes.grid'] = False"
   ]
  },
  {
   "cell_type": "code",
   "execution_count": 3,
   "metadata": {},
   "outputs": [
    {
     "name": "stdout",
     "output_type": "stream",
     "text": [
      "2.4.0\n"
     ]
    }
   ],
   "source": [
    "print(tf.keras.__version__)"
   ]
  },
  {
   "cell_type": "code",
   "execution_count": 4,
   "metadata": {},
   "outputs": [],
   "source": [
    "df = pd.read_csv('../datasets/df_feat_enged')"
   ]
  },
  {
   "cell_type": "code",
   "execution_count": 5,
   "metadata": {},
   "outputs": [],
   "source": [
    "# split data\n",
    "n = len(df)\n",
    "train_df = df[0:int(n*0.7)]\n",
    "val_df = df[int(n*0.7):int(n*0.9)]\n",
    "test_df = df[int(n*0.9):]"
   ]
  },
  {
   "cell_type": "code",
   "execution_count": 6,
   "metadata": {},
   "outputs": [],
   "source": [
    "# Normalize data\n",
    "train_mean = train_df.mean()\n",
    "train_std = train_df.std()\n",
    "\n",
    "train_df = (train_df - train_mean) / train_std\n",
    "val_df = (val_df - train_mean) / train_std\n",
    "test_df = (test_df - train_mean) / train_std"
   ]
  },
  {
   "cell_type": "code",
   "execution_count": 7,
   "metadata": {},
   "outputs": [
    {
     "data": {
      "text/html": [
       "<div>\n",
       "<style scoped>\n",
       "    .dataframe tbody tr th:only-of-type {\n",
       "        vertical-align: middle;\n",
       "    }\n",
       "\n",
       "    .dataframe tbody tr th {\n",
       "        vertical-align: top;\n",
       "    }\n",
       "\n",
       "    .dataframe thead th {\n",
       "        text-align: right;\n",
       "    }\n",
       "</style>\n",
       "<table border=\"1\" class=\"dataframe\">\n",
       "  <thead>\n",
       "    <tr style=\"text-align: right;\">\n",
       "      <th></th>\n",
       "      <th>p (mbar)</th>\n",
       "      <th>T (degC)</th>\n",
       "      <th>Tpot (K)</th>\n",
       "      <th>Tdew (degC)</th>\n",
       "      <th>rh (%)</th>\n",
       "      <th>VPmax (mbar)</th>\n",
       "      <th>VPact (mbar)</th>\n",
       "      <th>VPdef (mbar)</th>\n",
       "      <th>sh (g/kg)</th>\n",
       "      <th>H2OC (mmol/mol)</th>\n",
       "      <th>rho (g/m**3)</th>\n",
       "      <th>Wx</th>\n",
       "      <th>Wy</th>\n",
       "      <th>max Wx</th>\n",
       "      <th>max Wy</th>\n",
       "      <th>Day sin</th>\n",
       "      <th>Day cos</th>\n",
       "      <th>Year sin</th>\n",
       "      <th>Year cos</th>\n",
       "    </tr>\n",
       "  </thead>\n",
       "  <tbody>\n",
       "    <tr>\n",
       "      <th>0</th>\n",
       "      <td>0.945308</td>\n",
       "      <td>-1.982473</td>\n",
       "      <td>-2.041888</td>\n",
       "      <td>-1.918973</td>\n",
       "      <td>1.117102</td>\n",
       "      <td>-1.302851</td>\n",
       "      <td>-1.477323</td>\n",
       "      <td>-0.790424</td>\n",
       "      <td>-1.480036</td>\n",
       "      <td>-1.482697</td>\n",
       "      <td>2.218524</td>\n",
       "      <td>0.193409</td>\n",
       "      <td>0.221161</td>\n",
       "      <td>0.111140</td>\n",
       "      <td>0.217928</td>\n",
       "      <td>0.000047</td>\n",
       "      <td>1.414246</td>\n",
       "      <td>-0.062412</td>\n",
       "      <td>1.428455</td>\n",
       "    </tr>\n",
       "    <tr>\n",
       "      <th>1</th>\n",
       "      <td>0.959770</td>\n",
       "      <td>-2.078372</td>\n",
       "      <td>-2.138166</td>\n",
       "      <td>-2.060964</td>\n",
       "      <td>1.044617</td>\n",
       "      <td>-1.330143</td>\n",
       "      <td>-1.534354</td>\n",
       "      <td>-0.786272</td>\n",
       "      <td>-1.536190</td>\n",
       "      <td>-1.539035</td>\n",
       "      <td>2.325708</td>\n",
       "      <td>0.172987</td>\n",
       "      <td>0.222101</td>\n",
       "      <td>0.109458</td>\n",
       "      <td>0.227798</td>\n",
       "      <td>0.366088</td>\n",
       "      <td>1.366061</td>\n",
       "      <td>-0.061389</td>\n",
       "      <td>1.428445</td>\n",
       "    </tr>\n",
       "    <tr>\n",
       "      <th>2</th>\n",
       "      <td>0.986284</td>\n",
       "      <td>-2.070284</td>\n",
       "      <td>-2.132435</td>\n",
       "      <td>-2.045187</td>\n",
       "      <td>1.062738</td>\n",
       "      <td>-1.328843</td>\n",
       "      <td>-1.527225</td>\n",
       "      <td>-0.788348</td>\n",
       "      <td>-1.528703</td>\n",
       "      <td>-1.531992</td>\n",
       "      <td>2.323998</td>\n",
       "      <td>0.207983</td>\n",
       "      <td>0.276266</td>\n",
       "      <td>0.111218</td>\n",
       "      <td>0.324078</td>\n",
       "      <td>0.707185</td>\n",
       "      <td>1.224790</td>\n",
       "      <td>-0.060366</td>\n",
       "      <td>1.428434</td>\n",
       "    </tr>\n",
       "    <tr>\n",
       "      <th>3</th>\n",
       "      <td>1.004362</td>\n",
       "      <td>-2.098014</td>\n",
       "      <td>-2.161090</td>\n",
       "      <td>-2.096820</td>\n",
       "      <td>1.008375</td>\n",
       "      <td>-1.336641</td>\n",
       "      <td>-1.546235</td>\n",
       "      <td>-0.782121</td>\n",
       "      <td>-1.547420</td>\n",
       "      <td>-1.553119</td>\n",
       "      <td>2.358913</td>\n",
       "      <td>0.270343</td>\n",
       "      <td>0.195267</td>\n",
       "      <td>0.246907</td>\n",
       "      <td>0.145176</td>\n",
       "      <td>1.000091</td>\n",
       "      <td>1.000059</td>\n",
       "      <td>-0.059343</td>\n",
       "      <td>1.428423</td>\n",
       "    </tr>\n",
       "    <tr>\n",
       "      <th>4</th>\n",
       "      <td>1.061006</td>\n",
       "      <td>-2.165028</td>\n",
       "      <td>-2.232152</td>\n",
       "      <td>-2.187178</td>\n",
       "      <td>0.984214</td>\n",
       "      <td>-1.353535</td>\n",
       "      <td>-1.579503</td>\n",
       "      <td>-0.782121</td>\n",
       "      <td>-1.581113</td>\n",
       "      <td>-1.585982</td>\n",
       "      <td>2.446320</td>\n",
       "      <td>0.112264</td>\n",
       "      <td>0.350818</td>\n",
       "      <td>0.048640</td>\n",
       "      <td>0.402053</td>\n",
       "      <td>1.224845</td>\n",
       "      <td>0.707185</td>\n",
       "      <td>-0.058320</td>\n",
       "      <td>1.428411</td>\n",
       "    </tr>\n",
       "  </tbody>\n",
       "</table>\n",
       "</div>"
      ],
      "text/plain": [
       "   p (mbar)  T (degC)  Tpot (K)  Tdew (degC)    rh (%)  VPmax (mbar)  \\\n",
       "0  0.945308 -1.982473 -2.041888    -1.918973  1.117102     -1.302851   \n",
       "1  0.959770 -2.078372 -2.138166    -2.060964  1.044617     -1.330143   \n",
       "2  0.986284 -2.070284 -2.132435    -2.045187  1.062738     -1.328843   \n",
       "3  1.004362 -2.098014 -2.161090    -2.096820  1.008375     -1.336641   \n",
       "4  1.061006 -2.165028 -2.232152    -2.187178  0.984214     -1.353535   \n",
       "\n",
       "   VPact (mbar)  VPdef (mbar)  sh (g/kg)  H2OC (mmol/mol)  rho (g/m**3)  \\\n",
       "0     -1.477323     -0.790424  -1.480036        -1.482697      2.218524   \n",
       "1     -1.534354     -0.786272  -1.536190        -1.539035      2.325708   \n",
       "2     -1.527225     -0.788348  -1.528703        -1.531992      2.323998   \n",
       "3     -1.546235     -0.782121  -1.547420        -1.553119      2.358913   \n",
       "4     -1.579503     -0.782121  -1.581113        -1.585982      2.446320   \n",
       "\n",
       "         Wx        Wy    max Wx    max Wy   Day sin   Day cos  Year sin  \\\n",
       "0  0.193409  0.221161  0.111140  0.217928  0.000047  1.414246 -0.062412   \n",
       "1  0.172987  0.222101  0.109458  0.227798  0.366088  1.366061 -0.061389   \n",
       "2  0.207983  0.276266  0.111218  0.324078  0.707185  1.224790 -0.060366   \n",
       "3  0.270343  0.195267  0.246907  0.145176  1.000091  1.000059 -0.059343   \n",
       "4  0.112264  0.350818  0.048640  0.402053  1.224845  0.707185 -0.058320   \n",
       "\n",
       "   Year cos  \n",
       "0  1.428455  \n",
       "1  1.428445  \n",
       "2  1.428434  \n",
       "3  1.428423  \n",
       "4  1.428411  "
      ]
     },
     "execution_count": 7,
     "metadata": {},
     "output_type": "execute_result"
    }
   ],
   "source": [
    "train_df.head()"
   ]
  },
  {
   "cell_type": "code",
   "execution_count": 8,
   "metadata": {},
   "outputs": [],
   "source": [
    "class WindowGenerator():\n",
    "    def __init__(self, input_width=24, label_width=1, shift=1,    \n",
    "               feature_columns=None, label_columns=None):\n",
    "\n",
    "\n",
    "        # Work out the label and features column indices.\n",
    "        self.feature_columns = feature_columns\n",
    "        self.label_columns = label_columns\n",
    "        # Number of output features\n",
    " \n",
    "        # Work out the window parameters.\n",
    "        self.input_width = input_width\n",
    "        self.label_width = label_width\n",
    "        self.shift = shift\n",
    "\n",
    "        self.total_window_size = input_width + self.shift\n",
    "\n",
    "        self.input_slice = slice(0, input_width)\n",
    "        self.input_indices = np.arange(self.total_window_size)[self.input_slice]\n",
    "\n",
    "        self.label_start = self.total_window_size - self.label_width\n",
    "        self.labels_slice = slice(self.label_start, None)\n",
    "        self.label_indices = np.arange(self.total_window_size)[self.labels_slice]\n",
    "        \n",
    "        print(self.label_start, self.labels_slice, self.label_indices)\n",
    "\n",
    "    def __repr__(self):\n",
    "        return '\\n'.join([\n",
    "            f'Total window size: {self.total_window_size}',\n",
    "            f'Input indices: {self.input_indices}',\n",
    "            f'Label indices: {self.label_indices}',\n",
    "            f'Label column name(s): {self.label_columns}',\n",
    "            f'Feature column name (s): {self.feature_columns}'])\n",
    "    \n",
    "    def create_dataset(self, data, stride=1, shuffle=False):\n",
    "        \n",
    "        # work out the column indices of data\n",
    "        self.column_indices = {name: i for i, name in\n",
    "                               enumerate(data.columns)}\n",
    "        \n",
    "        data_set = []\n",
    "        j= np.arange(0, len(data)- self.total_window_size, stride)\n",
    "        for i in j:        \n",
    "            v = data.iloc[i:(i + self.total_window_size)].values\n",
    "            data_set.append(v) \n",
    "        \n",
    "        final_dataset = np.array(data_set, dtype='object')      \n",
    "        if shuffle: \n",
    "            np.random.shuffle(final_dataset)\n",
    "        \n",
    "        return self.split_window(final_dataset)\n",
    "    \n",
    "    def split_window(self, dataset):\n",
    "        \n",
    "        inputs = dataset[:, self.input_slice, :]\n",
    "        labels = dataset[:, self.labels_slice, :]        \n",
    "        \n",
    "        if self.feature_columns is not None:\n",
    "            inputs = np.stack(\n",
    "            [inputs[:, :, self.column_indices[name]] for name in self.feature_columns],\n",
    "        axis=-1)\n",
    "            self.number_input_features = len(self.feature_columns)\n",
    "        else:\n",
    "            self.number_input_features = len(self.column_indices)\n",
    "            \n",
    "                \n",
    "        if self.label_columns is not None:\n",
    "            labels = np.stack(\n",
    "            [labels[:, :, self.column_indices[name]] for name in self.label_columns],\n",
    "        axis=-1)   \n",
    "            self.number_label_features = len(self.label_columns)\n",
    "        else:\n",
    "            self.number_label_features = len(self.column_indices)\n",
    "\n",
    "        return inputs.astype(\"float64\"), labels.astype(\"float64\")\n"
   ]
  },
  {
   "cell_type": "code",
   "execution_count": 9,
   "metadata": {},
   "outputs": [
    {
     "name": "stdout",
     "output_type": "stream",
     "text": [
      "47 slice(47, None, None) [47]\n"
     ]
    },
    {
     "data": {
      "text/plain": [
       "Total window size: 48\n",
       "Input indices: [ 0  1  2  3  4  5  6  7  8  9 10 11 12 13 14 15 16 17 18 19 20 21 22 23]\n",
       "Label indices: [47]\n",
       "Label column name(s): ['p (mbar)']\n",
       "Feature column name (s): ['p (mbar)', 'Day sin', 'max Wx']"
      ]
     },
     "execution_count": 9,
     "metadata": {},
     "output_type": "execute_result"
    }
   ],
   "source": [
    "w1 = WindowGenerator(input_width=24, label_width=1, shift=24, \n",
    "                     feature_columns=['p (mbar)', 'Day sin', 'max Wx'],\n",
    "                     label_columns=['p (mbar)'])\n",
    "w1"
   ]
  },
  {
   "cell_type": "code",
   "execution_count": 10,
   "metadata": {},
   "outputs": [
    {
     "data": {
      "text/plain": [
       "49063"
      ]
     },
     "execution_count": 10,
     "metadata": {},
     "output_type": "execute_result"
    }
   ],
   "source": [
    "len(train_df)"
   ]
  },
  {
   "cell_type": "code",
   "execution_count": 11,
   "metadata": {},
   "outputs": [
    {
     "name": "stdout",
     "output_type": "stream",
     "text": [
      "(49015, 24, 3) (49015, 1, 1)\n",
      "(13970, 24, 3) (13970, 1, 1)\n"
     ]
    }
   ],
   "source": [
    "inputs, labels = w1.create_dataset(train_df)\n",
    "print(inputs.shape, labels.shape)\n",
    "inputs, labels = w1.create_dataset(val_df)\n",
    "print(inputs.shape, labels.shape)"
   ]
  },
  {
   "cell_type": "code",
   "execution_count": 12,
   "metadata": {},
   "outputs": [
    {
     "data": {
      "text/plain": [
       "3"
      ]
     },
     "execution_count": 12,
     "metadata": {},
     "output_type": "execute_result"
    }
   ],
   "source": [
    "w1.number_input_features"
   ]
  },
  {
   "cell_type": "code",
   "execution_count": 13,
   "metadata": {},
   "outputs": [
    {
     "data": {
      "text/plain": [
       "['p (mbar)']"
      ]
     },
     "execution_count": 13,
     "metadata": {},
     "output_type": "execute_result"
    }
   ],
   "source": [
    "w1.label_columns"
   ]
  },
  {
   "cell_type": "markdown",
   "metadata": {},
   "source": [
    "### trying different NNs: Dense, Conv, LSTM"
   ]
  },
  {
   "cell_type": "code",
   "execution_count": 19,
   "metadata": {},
   "outputs": [
    {
     "name": "stdout",
     "output_type": "stream",
     "text": [
      "24 slice(24, None, None) [24 25 26 27 28 29 30 31 32 33 34 35 36 37 38]\n"
     ]
    }
   ],
   "source": [
    "window = WindowGenerator(label_width=15, input_width=24, feature_columns=['p (mbar)', 'T (degC)', 'VPdef (mbar)'], \n",
    "                         label_columns=['p (mbar)', 'T (degC)', 'VPdef (mbar)'], shift=15)\n"
   ]
  },
  {
   "cell_type": "code",
   "execution_count": 20,
   "metadata": {},
   "outputs": [
    {
     "data": {
      "text/plain": [
       "Total window size: 39\n",
       "Input indices: [ 0  1  2  3  4  5  6  7  8  9 10 11 12 13 14 15 16 17 18 19 20 21 22 23]\n",
       "Label indices: [24 25 26 27 28 29 30 31 32 33 34 35 36 37 38]\n",
       "Label column name(s): ['p (mbar)', 'T (degC)', 'VPdef (mbar)']\n",
       "Feature column name (s): ['p (mbar)', 'T (degC)', 'VPdef (mbar)']"
      ]
     },
     "execution_count": 20,
     "metadata": {},
     "output_type": "execute_result"
    }
   ],
   "source": [
    "window"
   ]
  },
  {
   "cell_type": "code",
   "execution_count": 21,
   "metadata": {},
   "outputs": [],
   "source": [
    "inputs_train, labels_train = window.create_dataset(train_df)\n",
    "inputs_val, labels_val = window.create_dataset(val_df)\n",
    "inputs_test, labels_test = window.create_dataset(test_df)"
   ]
  },
  {
   "cell_type": "code",
   "execution_count": 22,
   "metadata": {},
   "outputs": [
    {
     "name": "stdout",
     "output_type": "stream",
     "text": [
      "(49024, 24, 3) (49024, 15, 3) (13979, 24, 3) (13979, 15, 3)\n"
     ]
    }
   ],
   "source": [
    "print(inputs_train.shape, labels_train.shape, inputs_val.shape, labels_val.shape)"
   ]
  },
  {
   "cell_type": "markdown",
   "metadata": {},
   "source": [
    "### Dense NNs:"
   ]
  },
  {
   "cell_type": "code",
   "execution_count": 88,
   "metadata": {},
   "outputs": [],
   "source": [
    "# multi_step_dense.reset_states()\n",
    "tf.keras.backend.clear_session()"
   ]
  },
  {
   "cell_type": "code",
   "execution_count": 89,
   "metadata": {},
   "outputs": [],
   "source": [
    "def dense_model(window, units=10):\n",
    "    model = tf.keras.Sequential([\n",
    "    # Shape: (time, features) => (time*features)\n",
    "    tf.keras.layers.Flatten(),\n",
    "    tf.keras.layers.Dense(units=units, activation='relu', \n",
    "                           # activity_regularizer=tf.keras.regularizers.l2(1e-3)\n",
    "                         ),\n",
    "    tf.keras.layers.Dense(units=(window.label_width * window.number_label_features)),\n",
    "    # Add back the time dimension.\n",
    "    # Shape: (outputs) => (1, outputs)\n",
    "     tf.keras.layers.Reshape([window.label_width, window.number_label_features])\n",
    "                               ])\n",
    "    return model"
   ]
  },
  {
   "cell_type": "code",
   "execution_count": 90,
   "metadata": {},
   "outputs": [],
   "source": [
    "def compile_and_fit(model, X=inputs_train,y=labels_train,\n",
    "                    val_X=inputs_val, val_y=labels_val, patience=5,\n",
    "                    batch_size=32, max_epochs=30):\n",
    "    early_stopping = tf.keras.callbacks.EarlyStopping(monitor='val_loss',\n",
    "                                                    patience=patience,\n",
    "                                                    mode='min')\n",
    "\n",
    "    model.compile(loss=tf.losses.MeanSquaredError(),\n",
    "                optimizer=tf.optimizers.Adam(),\n",
    "                metrics=[tf.metrics.MeanAbsoluteError()])\n",
    "\n",
    "    history = model.fit(X, y, epochs=max_epochs,batch_size=batch_size,\n",
    "                      validation_data=(val_X,val_y),\n",
    "                      callbacks=[early_stopping])\n",
    "    return history"
   ]
  },
  {
   "cell_type": "code",
   "execution_count": 91,
   "metadata": {},
   "outputs": [],
   "source": [
    "model = dense_model(units=10, window=window)"
   ]
  },
  {
   "cell_type": "code",
   "execution_count": 94,
   "metadata": {},
   "outputs": [
    {
     "name": "stdout",
     "output_type": "stream",
     "text": [
      "Epoch 1/30\n",
      "WARNING:tensorflow:AutoGraph could not transform <function Model.make_train_function.<locals>.train_function at 0x299f1a160> and will run it as-is.\n",
      "Please report this to the TensorFlow team. When filing the bug, set the verbosity to 10 (on Linux, `export AUTOGRAPH_VERBOSITY=10`) and attach the full output.\n",
      "Cause: unsupported operand type(s) for -: 'NoneType' and 'int'\n",
      "To silence this warning, decorate the function with @tf.autograph.experimental.do_not_convert\n",
      "WARNING: AutoGraph could not transform <function Model.make_train_function.<locals>.train_function at 0x299f1a160> and will run it as-is.\n",
      "Please report this to the TensorFlow team. When filing the bug, set the verbosity to 10 (on Linux, `export AUTOGRAPH_VERBOSITY=10`) and attach the full output.\n",
      "Cause: unsupported operand type(s) for -: 'NoneType' and 'int'\n",
      "To silence this warning, decorate the function with @tf.autograph.experimental.do_not_convert\n",
      "1372/1532 [=========================>....] - ETA: 0s - loss: 0.1345 - mean_absolute_error: 0.2323WARNING:tensorflow:AutoGraph could not transform <function Model.make_test_function.<locals>.test_function at 0x17c7d39d0> and will run it as-is.\n",
      "Please report this to the TensorFlow team. When filing the bug, set the verbosity to 10 (on Linux, `export AUTOGRAPH_VERBOSITY=10`) and attach the full output.\n",
      "Cause: unsupported operand type(s) for -: 'NoneType' and 'int'\n",
      "To silence this warning, decorate the function with @tf.autograph.experimental.do_not_convert\n",
      "WARNING: AutoGraph could not transform <function Model.make_test_function.<locals>.test_function at 0x17c7d39d0> and will run it as-is.\n",
      "Please report this to the TensorFlow team. When filing the bug, set the verbosity to 10 (on Linux, `export AUTOGRAPH_VERBOSITY=10`) and attach the full output.\n",
      "Cause: unsupported operand type(s) for -: 'NoneType' and 'int'\n",
      "To silence this warning, decorate the function with @tf.autograph.experimental.do_not_convert\n",
      "1532/1532 [==============================] - 1s 412us/step - loss: 0.1345 - mean_absolute_error: 0.2323 - val_loss: 0.1436 - val_mean_absolute_error: 0.2404\n",
      "Epoch 2/30\n",
      "1532/1532 [==============================] - 1s 367us/step - loss: 0.1339 - mean_absolute_error: 0.2318 - val_loss: 0.1436 - val_mean_absolute_error: 0.2404\n",
      "Epoch 3/30\n",
      "1532/1532 [==============================] - 1s 368us/step - loss: 0.1339 - mean_absolute_error: 0.2325 - val_loss: 0.1436 - val_mean_absolute_error: 0.2404\n",
      "Epoch 4/30\n",
      "1532/1532 [==============================] - 1s 365us/step - loss: 0.1345 - mean_absolute_error: 0.2331 - val_loss: 0.1436 - val_mean_absolute_error: 0.2404\n",
      "Epoch 5/30\n",
      "1532/1532 [==============================] - 1s 364us/step - loss: 0.1350 - mean_absolute_error: 0.2318 - val_loss: 0.1436 - val_mean_absolute_error: 0.2404\n",
      "Epoch 6/30\n",
      "1532/1532 [==============================] - 1s 367us/step - loss: 0.1347 - mean_absolute_error: 0.2320 - val_loss: 0.1436 - val_mean_absolute_error: 0.2404\n",
      "Model: \"sequential\"\n",
      "_________________________________________________________________\n",
      "Layer (type)                 Output Shape              Param #   \n",
      "=================================================================\n",
      "flatten (Flatten)            (None, 72)                0         \n",
      "_________________________________________________________________\n",
      "dense (Dense)                (None, 10)                730       \n",
      "_________________________________________________________________\n",
      "dense_1 (Dense)              (None, 45)                495       \n",
      "_________________________________________________________________\n",
      "reshape (Reshape)            (None, 15, 3)             0         \n",
      "=================================================================\n",
      "Total params: 1,225\n",
      "Trainable params: 1,225\n",
      "Non-trainable params: 0\n",
      "_________________________________________________________________\n"
     ]
    }
   ],
   "source": [
    "history = compile_and_fit(model)\n",
    "\n",
    "#IPython.display.clear_output()\n",
    "\n",
    "model.summary()"
   ]
  },
  {
   "cell_type": "code",
   "execution_count": 93,
   "metadata": {},
   "outputs": [
    {
     "data": {
      "image/png": "[encoded data removed]",
      "text/plain": [
       "<Figure size 1080x720 with 1 Axes>"
      ]
     },
     "metadata": {
      "needs_background": "light"
     },
     "output_type": "display_data"
    }
   ],
   "source": [
    "import matplotlib.pyplot as plt \n",
    "\n",
    "plt.plot(history.history['loss'], label='train')\n",
    "plt.plot(history.history['val_loss'], label='validation')\n",
    "plt.legend();"
   ]
  },
  {
   "cell_type": "code",
   "execution_count": null,
   "metadata": {},
   "outputs": [],
   "source": []
  },
  {
   "cell_type": "code",
   "execution_count": 169,
   "metadata": {},
   "outputs": [
    {
     "data": {
      "text/plain": [
       "(0.2503531873226166, 0.21197330951690674)"
      ]
     },
     "execution_count": 169,
     "metadata": {},
     "output_type": "execute_result"
    }
   ],
   "source": [
    "history.history['val_loss'][0], history.history['val_loss'][-1]"
   ]
  },
  {
   "cell_type": "code",
   "execution_count": null,
   "metadata": {},
   "outputs": [],
   "source": []
  },
  {
   "cell_type": "code",
   "execution_count": 170,
   "metadata": {},
   "outputs": [
    {
     "name": "stdout",
     "output_type": "stream",
     "text": [
      "0.20384437414764903 0.29139334695201075\n"
     ]
    }
   ],
   "source": [
    "from sklearn.metrics import mean_absolute_error, mean_squared_error\n",
    "\n",
    "print(mean_squared_error(labels_test.flatten(), np.array(model(inputs_test)).flatten()),\n",
    "mean_absolute_error (labels_test.flatten(), np.array(model(inputs_test)).flatten()))"
   ]
  },
  {
   "cell_type": "code",
   "execution_count": 171,
   "metadata": {},
   "outputs": [
    {
     "name": "stdout",
     "output_type": "stream",
     "text": [
      "218/218 [==============================] - 0s 321us/step - loss: 0.2038 - mean_absolute_error: 0.2914\n"
     ]
    },
    {
     "data": {
      "text/plain": [
       "[0.20384444296360016, 0.2913932800292969]"
      ]
     },
     "execution_count": 171,
     "metadata": {},
     "output_type": "execute_result"
    }
   ],
   "source": [
    "results = model.evaluate(inputs_test, labels_test)\n",
    "results"
   ]
  },
  {
   "cell_type": "code",
   "execution_count": 213,
   "metadata": {},
   "outputs": [],
   "source": [
    "def plot_forecast(model, input_data=inputs_test,\n",
    "                  label_data=labels_test, \n",
    "                  window=window, plot_col='T (degC)'):\n",
    "    \n",
    "    if label_data.shape[2] == 1:\n",
    "        label_col_index = 0\n",
    "    elif label_data.shape[2] > 1:\n",
    "        label_col_index = window.column_indices[plot_col]\n",
    "        \n",
    "    if input_data.shape[2] == 1:\n",
    "        input_col_index = 0\n",
    "    elif input_data.shape[2] > 1:\n",
    "        input_col_index = window.column_indices[plot_col]   \n",
    "    \n",
    "    preds = model.predict(input_data)     \n",
    "    plt.plot(window.label_indices, label_data[-12, :, label_col_index], 'bo-',label='labels')\n",
    "    plt.plot(window.input_indices, input_data[-12, :, input_col_index],'go-', label='inputs')         \n",
    "    plt.plot(window.label_indices, preds[-12, :, label_col_index], 'ro', label= 'predictions')\n",
    "    plt.legend(loc='best')\n",
    "    plt.xlabel('time index')\n",
    "    plt.ylabel(plot_col)\n",
    "    return"
   ]
  },
  {
   "cell_type": "code",
   "execution_count": 214,
   "metadata": {},
   "outputs": [
    {
     "data": {
      "text/plain": [
       "((6971, 24, 19), (6971, 15, 19))"
      ]
     },
     "execution_count": 214,
     "metadata": {},
     "output_type": "execute_result"
    }
   ],
   "source": [
    "inputs_test.shape, labels_test.shape"
   ]
  },
  {
   "cell_type": "code",
   "execution_count": 227,
   "metadata": {},
   "outputs": [
    {
     "data": {
      "image/png": "[encoded data removed]",
      "text/plain": [
       "<Figure size 1080x720 with 1 Axes>"
      ]
     },
     "metadata": {
      "needs_background": "light"
     },
     "output_type": "display_data"
    }
   ],
   "source": [
    "plot_forecast(model, input_data=inputs_test,\n",
    "               label_data=labels_test, window=window, plot_col='T (degC)')       "
   ]
  },
  {
   "cell_type": "code",
   "execution_count": null,
   "metadata": {},
   "outputs": [],
   "source": []
  },
  {
   "cell_type": "markdown",
   "metadata": {},
   "source": [
    "### Recursive class:"
   ]
  },
  {
   "cell_type": "code",
   "execution_count": 87,
   "metadata": {},
   "outputs": [],
   "source": [
    "# first step is to create a one step output model: label_width=1\n"
   ]
  },
  {
   "cell_type": "code",
   "execution_count": 4,
   "metadata": {},
   "outputs": [
    {
     "ename": "NameError",
     "evalue": "name 'train_df' is not defined",
     "output_type": "error",
     "traceback": [
      "\u001b[0;31m---------------------------------------------------------------------------\u001b[0m",
      "\u001b[0;31mNameError\u001b[0m                                 Traceback (most recent call last)",
      "\u001b[0;32m/var/folders/rj/6k0nsfdn11b6rn20jt0nwllh0000gq/T/ipykernel_5502/162244296.py\u001b[0m in \u001b[0;36m<module>\u001b[0;34m\u001b[0m\n\u001b[0;32m----> 1\u001b[0;31m \u001b[0;32mclass\u001b[0m \u001b[0mRecursive_Forecast\u001b[0m\u001b[0;34m(\u001b[0m\u001b[0mWindowGenerator\u001b[0m\u001b[0;34m)\u001b[0m\u001b[0;34m:\u001b[0m\u001b[0;34m\u001b[0m\u001b[0;34m\u001b[0m\u001b[0m\n\u001b[0m\u001b[1;32m      2\u001b[0m     def __init__(self, output_time_step=15, input_width=24,    \n\u001b[1;32m      3\u001b[0m                feature_columns=None, label_columns=None):\n\u001b[1;32m      4\u001b[0m         super().__init__(input_width=24,    \n\u001b[1;32m      5\u001b[0m                feature_columns=None, label_columns=None)\n",
      "\u001b[0;32m/var/folders/rj/6k0nsfdn11b6rn20jt0nwllh0000gq/T/ipykernel_5502/162244296.py\u001b[0m in \u001b[0;36mRecursive_Forecast\u001b[0;34m()\u001b[0m\n\u001b[1;32m      8\u001b[0m         \u001b[0mself\u001b[0m\u001b[0;34m.\u001b[0m\u001b[0mshift\u001b[0m \u001b[0;34m=\u001b[0m \u001b[0;36m1\u001b[0m\u001b[0;34m\u001b[0m\u001b[0;34m\u001b[0m\u001b[0m\n\u001b[1;32m      9\u001b[0m \u001b[0;34m\u001b[0m\u001b[0m\n\u001b[0;32m---> 10\u001b[0;31m     \u001b[0;32mdef\u001b[0m \u001b[0mdatasets\u001b[0m\u001b[0;34m(\u001b[0m\u001b[0mself\u001b[0m\u001b[0;34m,\u001b[0m \u001b[0mtrain_set\u001b[0m\u001b[0;34m=\u001b[0m\u001b[0mtrain_df\u001b[0m\u001b[0;34m,\u001b[0m \u001b[0mvalid_set\u001b[0m\u001b[0;34m=\u001b[0m\u001b[0mval_df\u001b[0m\u001b[0;34m,\u001b[0m \u001b[0mtest_set\u001b[0m\u001b[0;34m=\u001b[0m\u001b[0mtest_df\u001b[0m\u001b[0;34m)\u001b[0m\u001b[0;34m:\u001b[0m\u001b[0;34m\u001b[0m\u001b[0;34m\u001b[0m\u001b[0m\n\u001b[0m\u001b[1;32m     11\u001b[0m         \u001b[0mself\u001b[0m\u001b[0;34m.\u001b[0m\u001b[0minputs_train\u001b[0m\u001b[0;34m,\u001b[0m\u001b[0mself\u001b[0m\u001b[0;34m.\u001b[0m\u001b[0mlabels_train\u001b[0m \u001b[0;34m=\u001b[0m \u001b[0mself\u001b[0m\u001b[0;34m.\u001b[0m\u001b[0mcreate_dataset\u001b[0m\u001b[0;34m(\u001b[0m\u001b[0mtrain_set\u001b[0m\u001b[0;34m)\u001b[0m\u001b[0;34m\u001b[0m\u001b[0;34m\u001b[0m\u001b[0m\n\u001b[1;32m     12\u001b[0m         \u001b[0mself\u001b[0m\u001b[0;34m.\u001b[0m\u001b[0minputs_val\u001b[0m\u001b[0;34m,\u001b[0m\u001b[0mself\u001b[0m\u001b[0;34m.\u001b[0m\u001b[0mlabels_val\u001b[0m \u001b[0;34m=\u001b[0m \u001b[0mself\u001b[0m\u001b[0;34m.\u001b[0m\u001b[0mcreate_dataset\u001b[0m\u001b[0;34m(\u001b[0m\u001b[0mvalid_set\u001b[0m\u001b[0;34m)\u001b[0m\u001b[0;34m\u001b[0m\u001b[0;34m\u001b[0m\u001b[0m\n",
      "\u001b[0;31mNameError\u001b[0m: name 'train_df' is not defined"
     ]
    }
   ],
   "source": [
    "class Recursive_Forecast(WindowGenerator):\n",
    "    def __init__(self, output_time_step=15, input_width=24,    \n",
    "               feature_columns=None, label_columns=None):\n",
    "        super().__init__(input_width=24,    \n",
    "               feature_columns=None, label_columns=None)\n",
    "        self.output_time_step = output_time_step\n",
    "        self.label_width = 1\n",
    "        self.shift = 1\n",
    "        \n",
    "    def datasets(self, train_set=train_df, valid_set=val_df, test_set=test_df):\n",
    "        self.inputs_train,self.labels_train = self.create_dataset(train_set)\n",
    "        self.inputs_val,self.labels_val = self.create_dataset(valid_set) \n",
    "        self.inputs_test,self.labels_test = self.create_dataset(test_set) \n",
    "        print(\"train_set inputs and labels shape:{}{}\\n\"\n",
    "              \"valid_set inputs and labels shape:{}{}\\n\"\n",
    "              \"test_set inputs and labels shape:{}{}\".format(self.inputs_train.shape, self.labels_train.shape,\n",
    "                                                             self.inputs_val.shape, self.labels_val.shape,\n",
    "                                                             self.inputs_test.shape, self.labels_test.shape))        \n",
    "    def model_fit(self, model, patience=5,batch_size=32, max_epochs=30):  \n",
    "        self.model = model(window=self)\n",
    "        self.history = compile_and_fit(self.model, \n",
    "                                       X=self.inputs_train, y=self.labels_train,\n",
    "                                       val_X=self.inputs_val, val_y=self.labels_val,\n",
    "                                       patience=patience, batch_size=batch_size,\n",
    "                                       max_epochs=max_epochs)        \n",
    "        IPython.display.clear_output()        \n",
    "    \n",
    "    def recursive_predictions(self, inputs, labels):\n",
    "        if (self.number_input_features != self.number_label_features):\n",
    "             raise ValueError(\"The number of input and output features should \"\n",
    "                               \"be equal for a recursive prediction\")\n",
    "        output = np.array(self.model(inputs)) \n",
    "        dim1, dim2, dim3 = output.shape\n",
    "        predictions = np.zeros((dim1, self.output_time_step, dim3))\n",
    "        for n in range(self.output_time_step):\n",
    "            prediction = np.array(self.model(inputs))        \n",
    "            predictions[:, n:n+1, :] = prediction       \n",
    "            inputs = inputs[:, -(self.input_width-1):, :] \n",
    "            inputs = np.concatenate((inputs, prediction), axis=1)        \n",
    "        self.predictions = predictions[:(dim1-self.output_time_step+1), :, :]          \n",
    "        \n",
    "        labels_revived = np.zeros(self.predictions.shape)\n",
    "        for i in range(labels_revived.shape[0]):         \n",
    "            labels_revived[i, :, :] = labels[i:self.output_time_step+i, :, :].reshape(self.output_time_step, -1)\n",
    "        self.labels = labels_revived\n",
    "        \n",
    "        return self.predictions, self.labels \n",
    "    \n",
    "    \n",
    "    def plot_forecast_recursive(self, inputs, plot_col='T (degC)'):\n",
    "        \n",
    "        dim1 = inputs.shape[0]\n",
    "        input_data = inputs[:(dim1-self.output_time_step+1), :, :]\n",
    "        print(input_data.shape)\n",
    "        \n",
    "        if self.labels.shape[2] == 1:\n",
    "            label_col_index = 0\n",
    "        elif self.labels.shape[2] > 1:\n",
    "            label_col_index = self.column_indices[plot_col]\n",
    "        if input_data.shape[2] == 1:\n",
    "            input_col_index = 0\n",
    "        elif input_data.shape[2] > 1:\n",
    "            input_col_index = self.column_indices[plot_col]  \n",
    "            \n",
    "        output_index_start = self.input_indices[-1] + 1\n",
    "        \n",
    "        label_indices = np.arange(output_index_start, self.output_time_step + output_index_start)\n",
    "       \n",
    "        \n",
    "        plt.plot(label_indices, self.labels[-1, :, label_col_index], 'bo-',label='labels')\n",
    "        plt.plot(self.input_indices, input_data[-1, :, input_col_index],'go-', label='inputs')         \n",
    "        plt.plot(label_indices, self.predictions[-1, :, label_col_index], 'ro', label= 'predictions')\n",
    "        plt.legend(loc='best')\n",
    "        plt.xlabel('time index')\n",
    "        plt.ylabel(plot_col)"
   ]
  },
  {
   "cell_type": "code",
   "execution_count": 1,
   "metadata": {},
   "outputs": [
    {
     "ename": "NameError",
     "evalue": "name 'Recursive_Forecast' is not defined",
     "output_type": "error",
     "traceback": [
      "\u001b[0;31m---------------------------------------------------------------------------\u001b[0m",
      "\u001b[0;31mNameError\u001b[0m                                 Traceback (most recent call last)",
      "\u001b[0;32m/var/folders/rj/6k0nsfdn11b6rn20jt0nwllh0000gq/T/ipykernel_5502/3907580533.py\u001b[0m in \u001b[0;36m<module>\u001b[0;34m\u001b[0m\n\u001b[0;32m----> 1\u001b[0;31m \u001b[0mrecur\u001b[0m \u001b[0;34m=\u001b[0m \u001b[0mRecursive_Forecast\u001b[0m\u001b[0;34m(\u001b[0m\u001b[0moutput_time_step\u001b[0m\u001b[0;34m=\u001b[0m\u001b[0;36m15\u001b[0m\u001b[0;34m,\u001b[0m \u001b[0minput_width\u001b[0m\u001b[0;34m=\u001b[0m\u001b[0;36m15\u001b[0m\u001b[0;34m)\u001b[0m\u001b[0;34m\u001b[0m\u001b[0;34m\u001b[0m\u001b[0m\n\u001b[0m",
      "\u001b[0;31mNameError\u001b[0m: name 'Recursive_Forecast' is not defined"
     ]
    }
   ],
   "source": [
    "recur = Recursive_Forecast(output_time_step=15, input_width=15)\n"
   ]
  },
  {
   "cell_type": "code",
   "execution_count": 374,
   "metadata": {},
   "outputs": [
    {
     "data": {
      "text/plain": [
       "24"
      ]
     },
     "execution_count": 374,
     "metadata": {},
     "output_type": "execute_result"
    }
   ],
   "source": [
    "recur.label_start"
   ]
  },
  {
   "cell_type": "code",
   "execution_count": 310,
   "metadata": {},
   "outputs": [
    {
     "name": "stdout",
     "output_type": "stream",
     "text": [
      "train_set inputs and labels shape:(49038, 24, 19)(49038, 1, 19)\n",
      "valid_set inputs and labels shape:(13993, 24, 19)(13993, 1, 19)\n",
      "test_set inputs and labels shape:(6985, 24, 19)(6985, 1, 19)\n"
     ]
    }
   ],
   "source": [
    "recur.datasets()\n"
   ]
  },
  {
   "cell_type": "code",
   "execution_count": 311,
   "metadata": {},
   "outputs": [],
   "source": [
    "recur.model_fit(dense_model, patience=5, max_epochs=30)"
   ]
  },
  {
   "cell_type": "code",
   "execution_count": 312,
   "metadata": {},
   "outputs": [
    {
     "data": {
      "image/png": "[encoded data removed]",
      "text/plain": [
       "<Figure size 1080x720 with 1 Axes>"
      ]
     },
     "metadata": {
      "needs_background": "light"
     },
     "output_type": "display_data"
    }
   ],
   "source": [
    "import matplotlib.pyplot as plt \n",
    "\n",
    "plt.plot(recur.history.history['loss'], label='train')\n",
    "plt.plot(recur.history.history['val_loss'], label='validation')\n",
    "plt.legend();"
   ]
  },
  {
   "cell_type": "code",
   "execution_count": 313,
   "metadata": {},
   "outputs": [
    {
     "data": {
      "text/plain": [
       "(0.13500112295150757, 0.07224893569946289)"
      ]
     },
     "execution_count": 313,
     "metadata": {},
     "output_type": "execute_result"
    }
   ],
   "source": [
    "recur.history.history['val_loss'][0], recur.history.history['val_loss'][-1]"
   ]
  },
  {
   "cell_type": "code",
   "execution_count": 336,
   "metadata": {},
   "outputs": [],
   "source": [
    "labels, preds = recur.recursive_predictions(inputs=recur.inputs_test, labels=recur.labels_test)"
   ]
  },
  {
   "cell_type": "code",
   "execution_count": 337,
   "metadata": {},
   "outputs": [
    {
     "data": {
      "text/plain": [
       "(0.26257500341423334, 0.33290200296305045)"
      ]
     },
     "execution_count": 337,
     "metadata": {},
     "output_type": "execute_result"
    }
   ],
   "source": [
    "# evaluate the recursive function\n",
    "\n",
    "mean_squared_error(labels.flatten(), preds.flatten()), mean_absolute_error (labels.flatten(), preds.flatten())"
   ]
  },
  {
   "cell_type": "code",
   "execution_count": 338,
   "metadata": {},
   "outputs": [
    {
     "data": {
      "text/plain": [
       "(6971, 15, 19)"
      ]
     },
     "execution_count": 338,
     "metadata": {},
     "output_type": "execute_result"
    }
   ],
   "source": [
    "labels.shape"
   ]
  },
  {
   "cell_type": "code",
   "execution_count": 339,
   "metadata": {},
   "outputs": [
    {
     "name": "stdout",
     "output_type": "stream",
     "text": [
      "(6971, 24, 19)\n"
     ]
    },
    {
     "data": {
      "image/png": "[encoded data removed]",
      "text/plain": [
       "<Figure size 1080x720 with 1 Axes>"
      ]
     },
     "metadata": {
      "needs_background": "light"
     },
     "output_type": "display_data"
    }
   ],
   "source": [
    "recur.plot_forecast_recursive(inputs=recur.inputs_test, plot_col='T (degC)')"
   ]
  },
  {
   "cell_type": "markdown",
   "metadata": {},
   "source": [
    "### recursive model-separated parts:"
   ]
  },
  {
   "cell_type": "code",
   "execution_count": 319,
   "metadata": {},
   "outputs": [
    {
     "name": "stdout",
     "output_type": "stream",
     "text": [
      "24 slice(24, None, None) [24]\n"
     ]
    }
   ],
   "source": [
    "# multistep models:\n",
    "window_cur = WindowGenerator(\n",
    "    input_width=24,\n",
    "    label_width=1,\n",
    "    shift=1)"
   ]
  },
  {
   "cell_type": "code",
   "execution_count": 320,
   "metadata": {},
   "outputs": [
    {
     "data": {
      "text/plain": [
       "Total window size: 25\n",
       "Input indices: [ 0  1  2  3  4  5  6  7  8  9 10 11 12 13 14 15 16 17 18 19 20 21 22 23]\n",
       "Label indices: [24]\n",
       "Label column name(s): None\n",
       "Feature column name (s): None"
      ]
     },
     "execution_count": 320,
     "metadata": {},
     "output_type": "execute_result"
    }
   ],
   "source": [
    "window_cur"
   ]
  },
  {
   "cell_type": "code",
   "execution_count": 321,
   "metadata": {},
   "outputs": [],
   "source": [
    "inputs_train_c, labels_train_c = window_cur.create_dataset(train_df)\n",
    "inputs_val_c, labels_val_c = window_cur.create_dataset(val_df)\n",
    "inputs_test_c, labels_test_c = window_cur.create_dataset(test_df)"
   ]
  },
  {
   "cell_type": "code",
   "execution_count": 322,
   "metadata": {},
   "outputs": [
    {
     "name": "stdout",
     "output_type": "stream",
     "text": [
      "(49038, 24, 19) (49038, 1, 19) (13993, 24, 19) (13993, 1, 19) (6985, 24, 19) (6985, 1, 19)\n"
     ]
    }
   ],
   "source": [
    "print(inputs_train_c.shape, labels_train_c.shape, inputs_val_c.shape\n",
    "      , labels_val_c.shape,inputs_test_c.shape, labels_test_c.shape)\n",
    "\n"
   ]
  },
  {
   "cell_type": "code",
   "execution_count": null,
   "metadata": {},
   "outputs": [],
   "source": []
  },
  {
   "cell_type": "code",
   "execution_count": 323,
   "metadata": {},
   "outputs": [],
   "source": [
    "tf.keras.backend.clear_session()"
   ]
  },
  {
   "cell_type": "code",
   "execution_count": 324,
   "metadata": {},
   "outputs": [],
   "source": [
    "model_cur = dense_model(units=10, window=window_cur)"
   ]
  },
  {
   "cell_type": "code",
   "execution_count": 325,
   "metadata": {},
   "outputs": [
    {
     "name": "stdout",
     "output_type": "stream",
     "text": [
      "Model: \"sequential\"\n",
      "_________________________________________________________________\n",
      "Layer (type)                 Output Shape              Param #   \n",
      "=================================================================\n",
      "flatten (Flatten)            (None, 456)               0         \n",
      "_________________________________________________________________\n",
      "dense (Dense)                (None, 10)                4570      \n",
      "_________________________________________________________________\n",
      "dense_1 (Dense)              (None, 19)                209       \n",
      "_________________________________________________________________\n",
      "reshape (Reshape)            (None, 1, 19)             0         \n",
      "=================================================================\n",
      "Total params: 4,779\n",
      "Trainable params: 4,779\n",
      "Non-trainable params: 0\n",
      "_________________________________________________________________\n"
     ]
    }
   ],
   "source": [
    "history = compile_and_fit(model_cur, X=inputs_train_c,y=labels_train_c,\n",
    "                    val_X=inputs_val_c, val_y=labels_val_c, patience=5,\n",
    "                    batch_size=32, max_epochs=30 )\n",
    "\n",
    "IPython.display.clear_output()\n",
    "\n",
    "model_cur.summary()"
   ]
  },
  {
   "cell_type": "code",
   "execution_count": 326,
   "metadata": {},
   "outputs": [
    {
     "data": {
      "image/png": "[encoded data removed]",
      "text/plain": [
       "<Figure size 1080x720 with 1 Axes>"
      ]
     },
     "metadata": {
      "needs_background": "light"
     },
     "output_type": "display_data"
    }
   ],
   "source": [
    "import matplotlib.pyplot as plt \n",
    "\n",
    "plt.plot(history.history['loss'], label='train')\n",
    "plt.plot(history.history['val_loss'], label='validation')\n",
    "plt.legend();"
   ]
  },
  {
   "cell_type": "code",
   "execution_count": 327,
   "metadata": {},
   "outputs": [
    {
     "data": {
      "text/plain": [
       "(0.12722012400627136, 0.07795245200395584)"
      ]
     },
     "execution_count": 327,
     "metadata": {},
     "output_type": "execute_result"
    }
   ],
   "source": [
    "history.history['val_loss'][0], history.history['val_loss'][-1]"
   ]
  },
  {
   "cell_type": "code",
   "execution_count": 328,
   "metadata": {},
   "outputs": [],
   "source": [
    "def recursive_model(model, inputs, output_time_step):\n",
    "    \n",
    "    # for this recursive model the number of features in the input and outputs\n",
    "    # of the model must be the same\n",
    "    \n",
    "    dim1, _, dim2 = model(inputs).shape   \n",
    "    predictions = np.zeros((dim1, output_time_step, dim2))\n",
    "    time_index = inputs.shape[1]\n",
    "    for n in range(output_time_step):\n",
    "        prediction = np.array(model(inputs))\n",
    "        predictions[:, n:n+1, :] = prediction       \n",
    "        inputs = inputs[:, -(time_index-1):, :]     \n",
    "        inputs = np.concatenate((inputs, prediction), axis=1)\n",
    "    return predictions[:(dim1-output_time_step+1), :, :]\n"
   ]
  },
  {
   "cell_type": "code",
   "execution_count": null,
   "metadata": {},
   "outputs": [],
   "source": []
  },
  {
   "cell_type": "code",
   "execution_count": 340,
   "metadata": {},
   "outputs": [
    {
     "name": "stdout",
     "output_type": "stream",
     "text": [
      "(6971, 15, 19)\n"
     ]
    }
   ],
   "source": [
    "pr = recursive_model(model_cur, inputs_test_c, output_time_step=15)\n",
    "print(pr.shape)"
   ]
  },
  {
   "cell_type": "code",
   "execution_count": 341,
   "metadata": {},
   "outputs": [],
   "source": [
    "def revive_labels_recursive(output_time_step, labels=labels_val_c, predictions=pr):    \n",
    "\n",
    "    labels_revived = np.zeros(predictions.shape)\n",
    "    for i in range(labels_revived.shape[0]):         \n",
    "        labels_revived[i, :, :] = labels[i:output_time_step+i, :, :].reshape(output_time_step, -1)\n",
    "    return labels_revived"
   ]
  },
  {
   "cell_type": "code",
   "execution_count": 342,
   "metadata": {},
   "outputs": [],
   "source": [
    "labels_revived = revive_labels_recursive(15, labels=labels_test_c, predictions=pr)\n",
    "              "
   ]
  },
  {
   "cell_type": "code",
   "execution_count": 343,
   "metadata": {},
   "outputs": [
    {
     "data": {
      "text/plain": [
       "((6971, 15, 19), (6971, 15, 19))"
      ]
     },
     "execution_count": 343,
     "metadata": {},
     "output_type": "execute_result"
    }
   ],
   "source": [
    "labels_revived.shape, pr.shape"
   ]
  },
  {
   "cell_type": "code",
   "execution_count": 344,
   "metadata": {},
   "outputs": [
    {
     "data": {
      "text/plain": [
       "(0.3513783118984767, 0.38434749081324704)"
      ]
     },
     "execution_count": 344,
     "metadata": {},
     "output_type": "execute_result"
    }
   ],
   "source": [
    "# evaluate the recursive function\n",
    "from sklearn.metrics import mean_absolute_error, mean_squared_error\n",
    "\n",
    "mean_squared_error(labels_revived.flatten(), pr.flatten()), mean_absolute_error (labels_revived.flatten(), pr.flatten())"
   ]
  },
  {
   "cell_type": "code",
   "execution_count": 345,
   "metadata": {},
   "outputs": [],
   "source": [
    "## plot it\n",
    "def plot_forecast_recursive(model, input_data=inputs_test_c,\n",
    "                  label_data=labels_revived, output_time_step=24, \n",
    "                  recursive_preds = pr,     \n",
    "                  window=window, plot_col='T (degC)'):\n",
    "    \n",
    "    dim1 = input_data.shape[0]\n",
    "    input_data = input_data[:(dim1-output_time_step+1), :, :]\n",
    "    \n",
    "    if label_data.shape[2] == 1:\n",
    "        label_col_index = 0\n",
    "    elif label_data.shape[2] > 1:\n",
    "        label_col_index = window.column_indices[plot_col]\n",
    "        \n",
    "    if input_data.shape[2] == 1:\n",
    "        input_col_index = 0\n",
    "    elif input_data.shape[2] > 1:\n",
    "        input_col_index = window.column_indices[plot_col]   \n",
    "    print(label_col_index, input_col_index) \n",
    "      \n",
    "    output_index_start = window.input_indices[-1] + 1\n",
    "    label_indices = np.arange(output_index_start, output_time_step + output_index_start)\n",
    "    \n",
    "    \n",
    "    print(window.input_indices)\n",
    "    print(input_data[-1, :, input_col_index])\n",
    "    print(label_indices)\n",
    "    print(label_data[-1, :, label_col_index])\n",
    "\n",
    "    plt.plot(label_indices, label_data[-2, :, label_col_index], 'bo-',label='labels')\n",
    "    plt.plot(window.input_indices, input_data[-2, :, input_col_index],'go-', label='inputs')         \n",
    "    plt.plot(label_indices, recursive_preds[-2, :, label_col_index], 'ro', label= 'predictions')\n",
    "    plt.legend(loc='best')\n",
    "    plt.xlabel('time index')\n",
    "    plt.ylabel(plot_col)\n",
    "    return"
   ]
  },
  {
   "cell_type": "code",
   "execution_count": 346,
   "metadata": {},
   "outputs": [
    {
     "name": "stdout",
     "output_type": "stream",
     "text": [
      "1 1\n",
      "[ 0  1  2  3  4  5  6  7  8  9 10 11 12 13 14 15 16 17 18 19 20 21 22 23]\n",
      "[-1.59078986 -1.61274261 -1.50528965 -1.35277577 -1.1586672  -1.00268709\n",
      " -0.80857852 -0.64219974 -0.72538913 -0.84092995 -1.00846413 -1.14249148\n",
      " -1.26843098 -1.29269455 -1.38166098 -1.43712057 -1.53417486 -1.54457353\n",
      " -1.63585078 -1.59194527 -1.5688371  -1.61851966 -1.64971568 -1.76872272]\n",
      "[24 25 26 27 28 29 30 31 32 33 34 35 36 37 38]\n",
      "[-1.84266884 -1.78143221 -1.63238455 -1.43480975 -1.13440363 -0.82475423\n",
      " -0.57287525 -0.47813178 -0.77045005 -0.90332199 -1.10089679 -1.16559965\n",
      " -1.21412679 -1.3701069  -1.38628261]\n"
     ]
    },
    {
     "data": {
      "image/png": "[encoded data removed]",
      "text/plain": [
       "<Figure size 1080x720 with 1 Axes>"
      ]
     },
     "metadata": {
      "needs_background": "light"
     },
     "output_type": "display_data"
    }
   ],
   "source": [
    "plot_forecast_recursive(model_cur, input_data=inputs_test_c, output_time_step=15, recursive_preds=pr,\n",
    "               label_data=labels_revived, window=window_cur, plot_col='T (degC)')   "
   ]
  },
  {
   "cell_type": "markdown",
   "metadata": {},
   "source": [
    "### Direct strategy:"
   ]
  },
  {
   "cell_type": "code",
   "execution_count": 105,
   "metadata": {},
   "outputs": [],
   "source": [
    "# first step is to create a one step output model"
   ]
  },
  {
   "cell_type": "code",
   "execution_count": 106,
   "metadata": {},
   "outputs": [
    {
     "data": {
      "text/plain": [
       "Total window size: 25\n",
       "Input indices: [ 0  1  2  3  4  5  6  7  8  9 10 11 12 13 14 15 16 17 18 19 20 21 22 23]\n",
       "Label indices: [24]\n",
       "Label column name(s): None\n",
       "Feature column name (s): None"
      ]
     },
     "execution_count": 106,
     "metadata": {},
     "output_type": "execute_result"
    }
   ],
   "source": [
    "window_cur"
   ]
  },
  {
   "cell_type": "code",
   "execution_count": 347,
   "metadata": {},
   "outputs": [],
   "source": [
    "def direct_datasets(output_time_step=15, \n",
    "                input_width=24,label_columns=None, feature_columns=None, \n",
    "                train_df=train_df,\n",
    "                val_df=val_df, \n",
    "                test_df=test_df):\n",
    "    windows = {}\n",
    "    datasets = {}\n",
    "    \n",
    "    for i in range(output_time_step):\n",
    "        windows [i] = WindowGenerator(\n",
    "                    input_width=input_width,\n",
    "                    label_width=1,\n",
    "                    shift=i+1,\n",
    "                    label_columns=label_columns,\n",
    "                    feature_columns=feature_columns)\n",
    "        datasets[\"input_train_\"+ str(i)], datasets[\"label_train_\"+ str(i)] = windows[i].create_dataset(train_df)\n",
    "        datasets[\"input_val_\"+ str(i)], datasets[\"label_val_\"+ str(i)] = windows[i].create_dataset(val_df)\n",
    "        datasets[\"input_test_\"+ str(i)], datasets[\"label_test_\"+ str(i)]  = windows[i].create_dataset(test_df)            \n",
    "        \n",
    "    return windows, datasets  \n"
   ]
  },
  {
   "cell_type": "code",
   "execution_count": 362,
   "metadata": {},
   "outputs": [
    {
     "data": {
      "text/plain": [
       "Total window size: 25\n",
       "Input indices: [ 0  1  2  3  4  5  6  7  8  9 10 11 12 13 14 15 16 17 18 19 20 21 22 23]\n",
       "Label indices: [24]\n",
       "Label column name(s): None\n",
       "Feature column name (s): None"
      ]
     },
     "execution_count": 362,
     "metadata": {},
     "output_type": "execute_result"
    }
   ],
   "source": [
    "\n"
   ]
  },
  {
   "cell_type": "code",
   "execution_count": 348,
   "metadata": {},
   "outputs": [],
   "source": [
    "def direct_models(model, output_time_step, windows, \n",
    "                   data):\n",
    "        models = {}\n",
    "        history = {}    \n",
    "        predictions = {}\n",
    "        \n",
    "        for i in range(output_time_step):    \n",
    "            models[i] = model(window=windows[i])  \n",
    "            print(\"Model on time step {} is being trained!\".format(i+1))\n",
    "            input_train, label_train = data['input_train_' + str(i)], data['label_train_' + str(i)]\n",
    "            input_val, label_val = data['input_val_' + str(i)], data['label_val_' + str(i)]\n",
    "            input_test, label_test = data['input_test_' + str(i)], data['label_test_' + str(i)]\n",
    "            history[i] = compile_and_fit(models[i], X=input_train,y=label_train,\n",
    "                    val_X=input_val, val_y=label_val)              \n",
    "            IPython.display.clear_output() \n",
    "            predictions['train_'+ str(i)] = models[i](input_train)\n",
    "            predictions['val_'+ str(i)] = models[i](input_val)\n",
    "            predictions['test_'+ str(i)] = models[i](input_test)\n",
    "            \n",
    "        return models, history, predictions"
   ]
  },
  {
   "cell_type": "code",
   "execution_count": 349,
   "metadata": {},
   "outputs": [
    {
     "name": "stdout",
     "output_type": "stream",
     "text": [
      "24 slice(24, None, None) [24]\n",
      "25 slice(25, None, None) [25]\n",
      "26 slice(26, None, None) [26]\n",
      "27 slice(27, None, None) [27]\n",
      "28 slice(28, None, None) [28]\n",
      "29 slice(29, None, None) [29]\n",
      "30 slice(30, None, None) [30]\n",
      "31 slice(31, None, None) [31]\n",
      "32 slice(32, None, None) [32]\n",
      "33 slice(33, None, None) [33]\n",
      "34 slice(34, None, None) [34]\n",
      "35 slice(35, None, None) [35]\n",
      "36 slice(36, None, None) [36]\n",
      "37 slice(37, None, None) [37]\n",
      "38 slice(38, None, None) [38]\n"
     ]
    }
   ],
   "source": [
    "windows, datasets = direct_datasets(output_time_step=15,\n",
    "                input_width=24,label_columns=None, feature_columns=None, train_df=train_df,\n",
    "                 val_df=val_df, test_df=test_df)"
   ]
  },
  {
   "cell_type": "code",
   "execution_count": 350,
   "metadata": {},
   "outputs": [],
   "source": [
    "models, history, predictions = direct_models (model=dense_model, output_time_step=15, windows=windows, data=datasets)"
   ]
  },
  {
   "cell_type": "code",
   "execution_count": 353,
   "metadata": {},
   "outputs": [],
   "source": [
    "def prediction_label_collect(output_time_step, datasets=datasets, predictions=predictions, data='val'):\n",
    "    \n",
    "    dim1, _, dim2 = predictions[data+'_'+str(output_time_step-1)].shape  \n",
    "    prediction = np.zeros((dim1, output_time_step, dim2))\n",
    "    labels = np.zeros((dim1, output_time_step, dim2))\n",
    "    for i in range(output_time_step):\n",
    "        j = output_time_step - i \n",
    "        pred = np.array(predictions[data+'_'+ str(i)])\n",
    "        label = np.array(datasets['label_'+data+'_'+ str(i)])\n",
    "        prediction[:, i:i+1, :] = pred[:(pred.shape[0]-(j-1)), :, :] \n",
    "        labels[:, i:i+1, :] = label[:(label.shape[0]-(j-1)), :, :] \n",
    "    return labels, prediction                   "
   ]
  },
  {
   "cell_type": "code",
   "execution_count": 354,
   "metadata": {},
   "outputs": [],
   "source": [
    "labels, preds = prediction_label_collect(15, datasets=datasets, predictions=predictions, data='test')"
   ]
  },
  {
   "cell_type": "code",
   "execution_count": 355,
   "metadata": {},
   "outputs": [
    {
     "data": {
      "text/plain": [
       "dict_keys([0, 1, 2, 3, 4, 5, 6, 7, 8, 9, 10, 11, 12, 13, 14])"
      ]
     },
     "execution_count": 355,
     "metadata": {},
     "output_type": "execute_result"
    }
   ],
   "source": [
    "windows.keys()"
   ]
  },
  {
   "cell_type": "code",
   "execution_count": 359,
   "metadata": {},
   "outputs": [],
   "source": [
    "## plot it\n",
    "def plot_forecast_direct(data='test',\n",
    "                  labels=labels, output_time_step=10,\n",
    "                  datasets=datasets,       \n",
    "                  preds = preds,     \n",
    "                  windows=windows, plot_col='T (degC)'):\n",
    "    window = windows[output_time_step-1]\n",
    "    input_data = datasets['input_'+data+'_'+str(output_time_step-1)]\n",
    "    \n",
    "    if labels.shape[2] == 1:\n",
    "        label_col_index = 0\n",
    "    elif labels.shape[2] > 1:\n",
    "        label_col_index = window.column_indices[plot_col]\n",
    "    print(label_col_index)\n",
    "        \n",
    "    if input_data.shape[2] == 1:\n",
    "        input_col_index = 0\n",
    "    elif input_data.shape[2] > 1:\n",
    "        input_col_index = window.column_indices[plot_col]   \n",
    "    print(input_col_index)\n",
    "      \n",
    "    output_index_start = window.input_indices + 1\n",
    "    label_indices = np.arange(output_index_start[-1], output_time_step + output_index_start[-1])\n",
    "\n",
    "    plt.plot(label_indices, labels[-2, :, label_col_index], 'bo-',label='labels')\n",
    "    plt.plot(window.input_indices, input_data[-2, :, input_col_index],'go-', label='inputs')         \n",
    "    plt.plot(label_indices, preds[-2, :, label_col_index], 'ro', label= 'predictions')\n",
    "    plt.legend(loc='best')\n",
    "    plt.xlabel('time index')\n",
    "    plt.ylabel(plot_col)\n",
    "    return"
   ]
  },
  {
   "cell_type": "code",
   "execution_count": 360,
   "metadata": {},
   "outputs": [
    {
     "name": "stdout",
     "output_type": "stream",
     "text": [
      "1\n",
      "1\n"
     ]
    },
    {
     "data": {
      "image/png": "[encoded data removed]",
      "text/plain": [
       "<Figure size 1080x720 with 1 Axes>"
      ]
     },
     "metadata": {
      "needs_background": "light"
     },
     "output_type": "display_data"
    }
   ],
   "source": [
    "plot_forecast_direct(data='test',\n",
    "                  labels=labels, output_time_step=15,\n",
    "                  datasets=datasets,       \n",
    "                  preds = preds,     \n",
    "                  windows=windows, plot_col='T (degC)')  "
   ]
  },
  {
   "cell_type": "code",
   "execution_count": 120,
   "metadata": {},
   "outputs": [
    {
     "name": "stdout",
     "output_type": "stream",
     "text": [
      "0.1837226003581817 0.2657706003135143\n"
     ]
    }
   ],
   "source": [
    "from sklearn.metrics import mean_absolute_error, mean_squared_error\n",
    "\n",
    "print(mean_squared_error(labels.flatten(), preds.flatten()),\n",
    "mean_absolute_error (labels.flatten(), preds.flatten()))"
   ]
  },
  {
   "cell_type": "code",
   "execution_count": 121,
   "metadata": {},
   "outputs": [
    {
     "name": "stdout",
     "output_type": "stream",
     "text": [
      "1\n",
      "1\n"
     ]
    },
    {
     "data": {
      "image/png": "[encoded data removed]",
      "text/plain": [
       "<Figure size 432x288 with 1 Axes>"
      ]
     },
     "metadata": {
      "needs_background": "light"
     },
     "output_type": "display_data"
    }
   ],
   "source": [
    "plot_forecast_recursive(model_cur, input_data=inputs_test_c, output_time_step=15, recursive_preds=pr,\n",
    "               label_data=labels_revived, window=window_cur, plot_col='T (degC)')  "
   ]
  },
  {
   "cell_type": "code",
   "execution_count": 122,
   "metadata": {},
   "outputs": [
    {
     "data": {
      "text/plain": [
       "(0.3101511469641496, 0.3492347519617014)"
      ]
     },
     "execution_count": 122,
     "metadata": {},
     "output_type": "execute_result"
    }
   ],
   "source": [
    "# evaluate the recursive function\n",
    "from sklearn.metrics import mean_absolute_error, mean_squared_error\n",
    "\n",
    "mean_squared_error(labels_revived.flatten(), pr.flatten()), mean_absolute_error (labels_revived.flatten(), pr.flatten())"
   ]
  },
  {
   "cell_type": "code",
   "execution_count": 123,
   "metadata": {},
   "outputs": [
    {
     "name": "stdout",
     "output_type": "stream",
     "text": [
      "1\n",
      "1\n",
      "15\n"
     ]
    },
    {
     "data": {
      "image/png": "[encoded data removed]",
      "text/plain": [
       "<Figure size 432x288 with 1 Axes>"
      ]
     },
     "metadata": {
      "needs_background": "light"
     },
     "output_type": "display_data"
    }
   ],
   "source": [
    "plot_forecast(model, input_data=inputs_test,\n",
    "               label_data=labels_test, window=window, plot_col='T (degC)') "
   ]
  },
  {
   "cell_type": "code",
   "execution_count": 124,
   "metadata": {},
   "outputs": [
    {
     "name": "stdout",
     "output_type": "stream",
     "text": [
      "0.2043992792456811 0.29205595955852826\n"
     ]
    }
   ],
   "source": [
    "print(mean_squared_error(labels_test.flatten(), np.array(model(inputs_test)).flatten()),\n",
    "mean_absolute_error (labels_test.flatten(), np.array(model(inputs_test)).flatten()))"
   ]
  },
  {
   "cell_type": "markdown",
   "metadata": {},
   "source": [
    "### Conv NNs:"
   ]
  },
  {
   "cell_type": "code",
   "execution_count": 178,
   "metadata": {},
   "outputs": [],
   "source": [
    "tf.keras.backend.clear_session()"
   ]
  },
  {
   "cell_type": "code",
   "execution_count": 149,
   "metadata": {},
   "outputs": [],
   "source": [
    "# multistep models:\n",
    "conv_window = WindowGenerator(\n",
    "    input_width=24 , \n",
    "    label_width=15,\n",
    "    shift=15)"
   ]
  },
  {
   "cell_type": "code",
   "execution_count": 150,
   "metadata": {},
   "outputs": [
    {
     "data": {
      "text/plain": [
       "Total window size: 39\n",
       "Input indices: [ 0  1  2  3  4  5  6  7  8  9 10 11 12 13 14 15 16 17 18 19 20 21 22 23]\n",
       "Label indices: [24 25 26 27 28 29 30 31 32 33 34 35 36 37 38]\n",
       "Label column name(s): None\n",
       "Feature column name (s): None"
      ]
     },
     "execution_count": 150,
     "metadata": {},
     "output_type": "execute_result"
    }
   ],
   "source": [
    "conv_window"
   ]
  },
  {
   "cell_type": "code",
   "execution_count": 151,
   "metadata": {},
   "outputs": [],
   "source": [
    "window = conv_window\n",
    "inputs_train, labels_train = window.create_dataset(train_df, shuffle=False)\n",
    "inputs_val, labels_val = window.create_dataset(val_df, shuffle=False)\n",
    "inputs_test, labels_test = window.create_dataset(test_df, shuffle=False)"
   ]
  },
  {
   "cell_type": "code",
   "execution_count": 152,
   "metadata": {},
   "outputs": [
    {
     "name": "stdout",
     "output_type": "stream",
     "text": [
      "(49024, 24, 19) (49024, 15, 19) (13979, 24, 19) (13979, 15, 19)\n"
     ]
    }
   ],
   "source": [
    "print(inputs_train.shape, labels_train.shape, inputs_val.shape, labels_val.shape)"
   ]
  },
  {
   "cell_type": "code",
   "execution_count": 153,
   "metadata": {},
   "outputs": [
    {
     "name": "stdout",
     "output_type": "stream",
     "text": [
      "num_input_feature: 19, num_label_feature: 19\n"
     ]
    }
   ],
   "source": [
    "num_input_feature = inputs_train.shape[-1]\n",
    "num_label_feature = labels_train.shape[-1]\n",
    "\n",
    "print('num_input_feature: {}, num_label_feature: {}'.format(num_input_feature, num_label_feature))"
   ]
  },
  {
   "cell_type": "code",
   "execution_count": 154,
   "metadata": {},
   "outputs": [],
   "source": [
    "NUM_UNITS = conv_window.label_width * num_label_feature"
   ]
  },
  {
   "cell_type": "code",
   "execution_count": 155,
   "metadata": {},
   "outputs": [
    {
     "data": {
      "text/plain": [
       "285"
      ]
     },
     "execution_count": 155,
     "metadata": {},
     "output_type": "execute_result"
    }
   ],
   "source": [
    "NUM_UNITS"
   ]
  },
  {
   "cell_type": "code",
   "execution_count": 156,
   "metadata": {},
   "outputs": [
    {
     "data": {
      "text/plain": [
       "(24, 19)"
      ]
     },
     "execution_count": 156,
     "metadata": {},
     "output_type": "execute_result"
    }
   ],
   "source": [
    "inputs_train.shape[1], inputs_train.shape[2]"
   ]
  },
  {
   "cell_type": "markdown",
   "metadata": {},
   "source": [
    "### Conv_model"
   ]
  },
  {
   "cell_type": "code",
   "execution_count": 157,
   "metadata": {},
   "outputs": [],
   "source": [
    "KERNEL_S = 3"
   ]
  },
  {
   "cell_type": "code",
   "execution_count": 158,
   "metadata": {},
   "outputs": [
    {
     "data": {
      "text/plain": [
       "(49024, 24, 19)"
      ]
     },
     "execution_count": 158,
     "metadata": {},
     "output_type": "execute_result"
    }
   ],
   "source": [
    "inputs_train.shape"
   ]
  },
  {
   "cell_type": "code",
   "execution_count": 135,
   "metadata": {},
   "outputs": [
    {
     "data": {
      "text/plain": [
       "<KerasTensor: shape=(None, 24, 19) dtype=float32 (created by layer 'concatenate')>"
      ]
     },
     "execution_count": 135,
     "metadata": {},
     "output_type": "execute_result"
    }
   ],
   "source": [
    "a1 = tf.keras.Input(shape=(1, 19))\n",
    "#concatted = tf.keras.layers.Concatenate()([x1, x2])\n",
    "\n",
    "a = tf.keras.Input(shape=(24, 19))\n",
    "b = tf.keras.layers.Lambda(lambda x: x[:, -23:, :])(a)\n",
    "tf.keras.layers.Concatenate(axis=1)([b, a1])"
   ]
  },
  {
   "cell_type": "code",
   "execution_count": 159,
   "metadata": {},
   "outputs": [],
   "source": [
    "## check output\n",
    "conv_model = tf.keras.Sequential()\n",
    "conv_model.add(tf.keras.layers.Conv1D(filters=10,\n",
    "                           kernel_size=KERNEL_S, \n",
    "                           input_shape=(inputs_train.shape[1], inputs_train.shape[2]),\n",
    "                           activation='relu'))\n",
    "#conv_model.add(tf.keras.layers.MaxPool1D(pool_size=2))\n",
    "conv_model.add(tf.keras.layers.Flatten())\n",
    "conv_model.add(tf.keras.layers.Dropout(0.3))\n",
    "conv_model.add(tf.keras.layers.Dense(units=NUM_UNITS, kernel_initializer=tf.initializers.RandomNormal))\n",
    "conv_model.add(tf.keras.layers.Reshape([conv_window.label_width, num_label_feature]))\n"
   ]
  },
  {
   "cell_type": "code",
   "execution_count": 160,
   "metadata": {},
   "outputs": [
    {
     "data": {
      "text/plain": [
       "<KerasTensor: shape=(None, 15, 19) dtype=float32 (created by layer 'reshape')>"
      ]
     },
     "execution_count": 160,
     "metadata": {},
     "output_type": "execute_result"
    }
   ],
   "source": [
    "conv_model.output"
   ]
  },
  {
   "cell_type": "code",
   "execution_count": 181,
   "metadata": {},
   "outputs": [],
   "source": [
    "def conv_model(window, filters=10, kernel_size=3):\n",
    "    model = tf.keras.Sequential([\n",
    "    tf.keras.layers.Conv1D(filters=filters,\n",
    "                           kernel_size=kernel_size,\n",
    "                           activation='relu'),        \n",
    "    tf.keras.layers.Flatten(),  \n",
    "    tf.keras.layers.Dense(units=(window.label_width * window.number_label_features)),\n",
    "    # Add back the time dimension.\n",
    "    # Shape: (outputs) => (1, outputs)\n",
    "     tf.keras.layers.Reshape([window.label_width, window.number_label_features])\n",
    "                               ])\n",
    "    return model"
   ]
  },
  {
   "cell_type": "code",
   "execution_count": 143,
   "metadata": {},
   "outputs": [
    {
     "data": {
      "text/plain": [
       "Total window size: 39\n",
       "Input indices: [ 0  1  2  3  4  5  6  7  8  9 10 11 12 13 14 15 16 17 18 19 20 21 22 23]\n",
       "Label indices: [24 25 26 27 28 29 30 31 32 33 34 35 36 37 38]\n",
       "Label column name(s): None\n",
       "Feature column name (s): None"
      ]
     },
     "execution_count": 143,
     "metadata": {},
     "output_type": "execute_result"
    }
   ],
   "source": [
    "window"
   ]
  },
  {
   "cell_type": "code",
   "execution_count": 163,
   "metadata": {},
   "outputs": [],
   "source": [
    "conv_model = conv_model(window, filters=10, kernel_size=3)"
   ]
  },
  {
   "cell_type": "code",
   "execution_count": 164,
   "metadata": {},
   "outputs": [
    {
     "name": "stdout",
     "output_type": "stream",
     "text": [
      "Model: \"sequential\"\n",
      "_________________________________________________________________\n",
      "Layer (type)                 Output Shape              Param #   \n",
      "=================================================================\n",
      "conv1d (Conv1D)              (None, 22, 10)            580       \n",
      "_________________________________________________________________\n",
      "flatten (Flatten)            (None, 220)               0         \n",
      "_________________________________________________________________\n",
      "dense (Dense)                (None, 285)               62985     \n",
      "_________________________________________________________________\n",
      "reshape (Reshape)            (None, 15, 19)            0         \n",
      "=================================================================\n",
      "Total params: 63,565\n",
      "Trainable params: 63,565\n",
      "Non-trainable params: 0\n",
      "_________________________________________________________________\n"
     ]
    }
   ],
   "source": [
    "history = compile_and_fit(conv_model, X=inputs_train,y=labels_train,\n",
    "                    val_X=inputs_val, val_y=labels_val)\n",
    "\n",
    "IPython.display.clear_output()\n",
    "conv_model.summary()"
   ]
  },
  {
   "cell_type": "code",
   "execution_count": null,
   "metadata": {},
   "outputs": [],
   "source": []
  },
  {
   "cell_type": "code",
   "execution_count": 166,
   "metadata": {},
   "outputs": [
    {
     "data": {
      "image/png": "[encoded data removed]",
      "text/plain": [
       "<Figure size 432x288 with 1 Axes>"
      ]
     },
     "metadata": {
      "needs_background": "light"
     },
     "output_type": "display_data"
    }
   ],
   "source": [
    "import matplotlib.pyplot as plt \n",
    "\n",
    "plt.plot(history.history['loss'], label='train')\n",
    "plt.plot(history.history['val_loss'], label='test')\n",
    "plt.legend();"
   ]
  },
  {
   "cell_type": "code",
   "execution_count": null,
   "metadata": {},
   "outputs": [],
   "source": []
  },
  {
   "cell_type": "code",
   "execution_count": 167,
   "metadata": {},
   "outputs": [
    {
     "data": {
      "text/plain": [
       "(0.21775245666503906, 0.19438797235488892)"
      ]
     },
     "execution_count": 167,
     "metadata": {},
     "output_type": "execute_result"
    }
   ],
   "source": [
    "history.history['val_loss'][0], history.history['val_loss'][-1]"
   ]
  },
  {
   "cell_type": "code",
   "execution_count": 168,
   "metadata": {},
   "outputs": [
    {
     "name": "stdout",
     "output_type": "stream",
     "text": [
      "218/218 [==============================] - 0s 659us/step - loss: 0.1818 - mean_absolute_error: 0.2636\n"
     ]
    },
    {
     "data": {
      "text/plain": [
       "[0.18181228637695312, 0.2635830342769623]"
      ]
     },
     "execution_count": 168,
     "metadata": {},
     "output_type": "execute_result"
    }
   ],
   "source": [
    "results = conv_model.evaluate(inputs_test, labels_test)\n",
    "results"
   ]
  },
  {
   "cell_type": "code",
   "execution_count": 169,
   "metadata": {},
   "outputs": [
    {
     "name": "stdout",
     "output_type": "stream",
     "text": [
      "1\n",
      "1\n",
      "15\n"
     ]
    },
    {
     "data": {
      "image/png": "[encoded data removed]",
      "text/plain": [
       "<Figure size 432x288 with 1 Axes>"
      ]
     },
     "metadata": {
      "needs_background": "light"
     },
     "output_type": "display_data"
    }
   ],
   "source": [
    "plot_forecast(conv_model, input_data=inputs_test,\n",
    "               label_data=labels_test, window=window, plot_col='T (degC)')     "
   ]
  },
  {
   "cell_type": "code",
   "execution_count": 170,
   "metadata": {},
   "outputs": [
    {
     "name": "stdout",
     "output_type": "stream",
     "text": [
      "0.18181220274748291 0.26358294766016205\n"
     ]
    }
   ],
   "source": [
    "print(mean_squared_error(labels_test.flatten(), np.array(conv_model(inputs_test)).flatten()),\n",
    "mean_absolute_error (labels_test.flatten(), np.array(conv_model(inputs_test)).flatten()))"
   ]
  },
  {
   "cell_type": "markdown",
   "metadata": {},
   "source": [
    "### Conv_recursive:"
   ]
  },
  {
   "cell_type": "code",
   "execution_count": 182,
   "metadata": {},
   "outputs": [
    {
     "name": "stdout",
     "output_type": "stream",
     "text": [
      "(49038, 24, 19) (49038, 1, 19) (13993, 24, 19) (13993, 1, 19)\n"
     ]
    }
   ],
   "source": [
    "# multistep models:\n",
    "conv_re = WindowGenerator(\n",
    "    input_width=24 , \n",
    "    label_width=1,\n",
    "    shift=1)\n",
    "\n",
    "\n",
    "\n",
    "inputs_train_re, labels_train_re = conv_re.create_dataset(train_df, shuffle=False)\n",
    "inputs_val_re, labels_val_re = conv_re.create_dataset(val_df, shuffle=False)\n",
    "inputs_test_re, labels_test_re = conv_re.create_dataset(test_df, shuffle=False)\n",
    "\n",
    "print(inputs_train_re.shape, labels_train_re.shape, inputs_val_re.shape, labels_val_re.shape)"
   ]
  },
  {
   "cell_type": "code",
   "execution_count": 183,
   "metadata": {},
   "outputs": [
    {
     "data": {
      "text/plain": [
       "Total window size: 25\n",
       "Input indices: [ 0  1  2  3  4  5  6  7  8  9 10 11 12 13 14 15 16 17 18 19 20 21 22 23]\n",
       "Label indices: [24]\n",
       "Label column name(s): None\n",
       "Feature column name (s): None"
      ]
     },
     "execution_count": 183,
     "metadata": {},
     "output_type": "execute_result"
    }
   ],
   "source": [
    "conv_re"
   ]
  },
  {
   "cell_type": "code",
   "execution_count": 176,
   "metadata": {},
   "outputs": [
    {
     "data": {
      "text/plain": [
       "<tensorflow.python.keras.engine.sequential.Sequential at 0x7fe925dbef28>"
      ]
     },
     "execution_count": 176,
     "metadata": {},
     "output_type": "execute_result"
    }
   ],
   "source": []
  },
  {
   "cell_type": "code",
   "execution_count": 184,
   "metadata": {},
   "outputs": [],
   "source": [
    "conv_model_cur = conv_model(conv_re, filters=10, kernel_size=3)"
   ]
  },
  {
   "cell_type": "code",
   "execution_count": 185,
   "metadata": {},
   "outputs": [
    {
     "name": "stdout",
     "output_type": "stream",
     "text": [
      "Model: \"sequential\"\n",
      "_________________________________________________________________\n",
      "Layer (type)                 Output Shape              Param #   \n",
      "=================================================================\n",
      "conv1d (Conv1D)              (None, 22, 10)            580       \n",
      "_________________________________________________________________\n",
      "flatten (Flatten)            (None, 220)               0         \n",
      "_________________________________________________________________\n",
      "dense (Dense)                (None, 19)                4199      \n",
      "_________________________________________________________________\n",
      "reshape (Reshape)            (None, 1, 19)             0         \n",
      "=================================================================\n",
      "Total params: 4,779\n",
      "Trainable params: 4,779\n",
      "Non-trainable params: 0\n",
      "_________________________________________________________________\n"
     ]
    }
   ],
   "source": [
    "history = compile_and_fit(conv_model_cur, X=inputs_train_re,y=labels_train_re,\n",
    "                    val_X=inputs_val_re, val_y=labels_val_re, patience=5,\n",
    "                    batch_size=32, max_epochs=30 )\n",
    "\n",
    "IPython.display.clear_output()\n",
    "\n",
    "conv_model_cur.summary()"
   ]
  },
  {
   "cell_type": "code",
   "execution_count": 187,
   "metadata": {},
   "outputs": [
    {
     "data": {
      "image/png": "[encoded data removed]",
      "text/plain": [
       "<Figure size 432x288 with 1 Axes>"
      ]
     },
     "metadata": {
      "needs_background": "light"
     },
     "output_type": "display_data"
    }
   ],
   "source": [
    "import matplotlib.pyplot as plt \n",
    "\n",
    "plt.plot(history.history['loss'], label='train')\n",
    "plt.plot(history.history['val_loss'], label='validation')\n",
    "plt.legend();"
   ]
  },
  {
   "cell_type": "code",
   "execution_count": 188,
   "metadata": {},
   "outputs": [],
   "source": [
    "pr = recursive_model(conv_model_cur, inputs_test_re, output_time_step=15)"
   ]
  },
  {
   "cell_type": "code",
   "execution_count": 189,
   "metadata": {},
   "outputs": [],
   "source": [
    "labels_revived = revive_labels_recursive(15, labels=labels_test_re, predictions=pr)\n",
    "              "
   ]
  },
  {
   "cell_type": "code",
   "execution_count": 192,
   "metadata": {},
   "outputs": [
    {
     "name": "stdout",
     "output_type": "stream",
     "text": [
      "1\n",
      "1\n"
     ]
    },
    {
     "data": {
      "image/png": "[encoded data removed]",
      "text/plain": [
       "<Figure size 432x288 with 1 Axes>"
      ]
     },
     "metadata": {
      "needs_background": "light"
     },
     "output_type": "display_data"
    }
   ],
   "source": [
    "plot_forecast_recursive(conv_model_cur, input_data=inputs_test_re, output_time_step=15, recursive_preds=pr,\n",
    "               label_data=labels_revived, window=conv_re, plot_col='T (degC)')  "
   ]
  },
  {
   "cell_type": "code",
   "execution_count": 193,
   "metadata": {},
   "outputs": [
    {
     "data": {
      "text/plain": [
       "(0.3296058825710696, 0.37058495293576255)"
      ]
     },
     "execution_count": 193,
     "metadata": {},
     "output_type": "execute_result"
    }
   ],
   "source": [
    "mean_squared_error(labels_revived.flatten(), pr.flatten()), mean_absolute_error (labels_revived.flatten(), pr.flatten())"
   ]
  },
  {
   "cell_type": "markdown",
   "metadata": {},
   "source": [
    "### Conv forecast direct"
   ]
  },
  {
   "cell_type": "code",
   "execution_count": 194,
   "metadata": {},
   "outputs": [],
   "source": [
    "windows, datasets = direct_datasets(output_time_step=15,\n",
    "                input_width=24,label_columns=None, feature_columns=None, train_df=train_df,\n",
    "                 val_df=val_df, test_df=test_df)"
   ]
  },
  {
   "cell_type": "code",
   "execution_count": 195,
   "metadata": {},
   "outputs": [],
   "source": [
    "models, history, predictions = direct_models(model=conv_model, output_time_step=15, windows=windows, data=datasets)"
   ]
  },
  {
   "cell_type": "code",
   "execution_count": 196,
   "metadata": {},
   "outputs": [],
   "source": [
    "labels, preds = prediction_label_collect(15, datasets=datasets, predictions=predictions, data='test')"
   ]
  },
  {
   "cell_type": "code",
   "execution_count": 198,
   "metadata": {},
   "outputs": [
    {
     "name": "stdout",
     "output_type": "stream",
     "text": [
      "1\n",
      "1\n"
     ]
    },
    {
     "data": {
      "image/png": "[encoded data removed]",
      "text/plain": [
       "<Figure size 432x288 with 1 Axes>"
      ]
     },
     "metadata": {
      "needs_background": "light"
     },
     "output_type": "display_data"
    }
   ],
   "source": [
    "plot_forecast_direct(data='test',\n",
    "                  labels=labels, output_time_step=15,\n",
    "                  datasets=datasets,       \n",
    "                  preds = preds,     \n",
    "                  windows=windows, plot_col='T (degC)')  "
   ]
  },
  {
   "cell_type": "code",
   "execution_count": 199,
   "metadata": {},
   "outputs": [
    {
     "name": "stdout",
     "output_type": "stream",
     "text": [
      "0.1792938096062937 0.25926425165356937\n"
     ]
    }
   ],
   "source": [
    "print(mean_squared_error(labels.flatten(), preds.flatten()),\n",
    "mean_absolute_error (labels.flatten(), preds.flatten()))"
   ]
  },
  {
   "cell_type": "markdown",
   "metadata": {},
   "source": [
    "### Conv_Autoregressive"
   ]
  },
  {
   "cell_type": "code",
   "execution_count": 219,
   "metadata": {},
   "outputs": [],
   "source": [
    "tf.keras.backend.clear_session()"
   ]
  },
  {
   "cell_type": "code",
   "execution_count": 214,
   "metadata": {},
   "outputs": [
    {
     "data": {
      "text/plain": [
       "Total window size: 39\n",
       "Input indices: [ 0  1  2  3  4  5  6  7  8  9 10 11 12 13 14 15 16 17 18 19 20 21 22 23]\n",
       "Label indices: [24 25 26 27 28 29 30 31 32 33 34 35 36 37 38]\n",
       "Label column name(s): None\n",
       "Feature column name (s): None"
      ]
     },
     "execution_count": 214,
     "metadata": {},
     "output_type": "execute_result"
    }
   ],
   "source": [
    "window"
   ]
  },
  {
   "cell_type": "code",
   "execution_count": 228,
   "metadata": {},
   "outputs": [
    {
     "data": {
      "text/plain": [
       "(24, 19, 19, 15)"
      ]
     },
     "execution_count": 228,
     "metadata": {},
     "output_type": "execute_result"
    }
   ],
   "source": [
    "window.input_width, window.number_input_features, window.number_label_features, window.label_width\n"
   ]
  },
  {
   "cell_type": "code",
   "execution_count": 227,
   "metadata": {},
   "outputs": [],
   "source": [
    "def conv_model_regressive(filters=10, kernel_s=3, activation='relu',\n",
    "                         num_label_feature=window.number_label_features,\n",
    "                         output_time_step=window.label_width,\n",
    "                         input_time_steps=window.input_width,\n",
    "                         input_features=window.number_input_features):\n",
    "    \n",
    "    # global layers\n",
    "      \n",
    "    Input_layer = tf.keras.Input(shape=(input_time_steps, input_features))\n",
    "    Conv_layer = tf.keras.layers.Conv1D(filters= filters,kernel_size=kernel_s,\n",
    "                           activation=activation)\n",
    "    Flatten_layer = tf.keras.layers.Flatten()\n",
    "    Dense_layer = tf.keras.layers.Dense(num_label_feature)\n",
    "    Reshape_layer = tf.keras.layers.Reshape([1, num_label_feature])\n",
    "    Lambda_layer = tf.keras.layers.Lambda(lambda x: x[:, -(input_time_steps-1):, :])\n",
    "    concat_layer = tf.keras.layers.Concatenate(axis=1)\n",
    "    \n",
    "    #warm up   \n",
    "    def Conv_round(Input_layer):\n",
    "        output = Conv_layer(Input_layer)\n",
    "        output = Flatten_layer(output)\n",
    "        prediction = Dense_layer(output)   \n",
    "        return prediction\n",
    "    \n",
    "    predictions = []    \n",
    "        \n",
    "  # Insert the first prediction\n",
    "    prediction = Conv_round(Input_layer)\n",
    "    predictions.append(prediction)\n",
    "    \n",
    "    for n in range(1, output_time_step):\n",
    "    # Use the last prediction as input.\n",
    "        x1 = prediction\n",
    "        x1 = Reshape_layer(x1)\n",
    "        x2 = Lambda_layer(Input_layer)         \n",
    "        x3 = concat_layer([x2, x1])\n",
    "        \n",
    "    # Execute one Conv block.\n",
    "        prediction = Conv_round(x3) \n",
    "        predictions.append(prediction)\n",
    "    \n",
    "  # predictions.shape => (time, batch, features)\n",
    "    predictions = tf.stack(predictions)\n",
    "  # predictions.shape => (batch, time, features)\n",
    "    predictions = tf.transpose(predictions, [1, 0, 2])\n",
    "    \n",
    "    model = tf.keras.Model(inputs=Input_layer, outputs=predictions)\n",
    "    return model\n"
   ]
  },
  {
   "cell_type": "code",
   "execution_count": 229,
   "metadata": {},
   "outputs": [],
   "source": [
    "model_reg = conv_model_regressive()"
   ]
  },
  {
   "cell_type": "code",
   "execution_count": 230,
   "metadata": {},
   "outputs": [
    {
     "name": "stdout",
     "output_type": "stream",
     "text": [
      "Model: \"model_1\"\n",
      "__________________________________________________________________________________________________\n",
      "Layer (type)                    Output Shape         Param #     Connected to                     \n",
      "==================================================================================================\n",
      "input_4 (InputLayer)            [(None, 24, 19)]     0                                            \n",
      "__________________________________________________________________________________________________\n",
      "conv1d_3 (Conv1D)               (None, 22, 10)       580         input_4[0][0]                    \n",
      "                                                                 concatenate_3[0][0]              \n",
      "                                                                 concatenate_3[1][0]              \n",
      "                                                                 concatenate_3[2][0]              \n",
      "                                                                 concatenate_3[3][0]              \n",
      "                                                                 concatenate_3[4][0]              \n",
      "                                                                 concatenate_3[5][0]              \n",
      "                                                                 concatenate_3[6][0]              \n",
      "                                                                 concatenate_3[7][0]              \n",
      "                                                                 concatenate_3[8][0]              \n",
      "                                                                 concatenate_3[9][0]              \n",
      "                                                                 concatenate_3[10][0]             \n",
      "                                                                 concatenate_3[11][0]             \n",
      "                                                                 concatenate_3[12][0]             \n",
      "                                                                 concatenate_3[13][0]             \n",
      "__________________________________________________________________________________________________\n",
      "flatten_3 (Flatten)             (None, 220)          0           conv1d_3[0][0]                   \n",
      "                                                                 conv1d_3[1][0]                   \n",
      "                                                                 conv1d_3[2][0]                   \n",
      "                                                                 conv1d_3[3][0]                   \n",
      "                                                                 conv1d_3[4][0]                   \n",
      "                                                                 conv1d_3[5][0]                   \n",
      "                                                                 conv1d_3[6][0]                   \n",
      "                                                                 conv1d_3[7][0]                   \n",
      "                                                                 conv1d_3[8][0]                   \n",
      "                                                                 conv1d_3[9][0]                   \n",
      "                                                                 conv1d_3[10][0]                  \n",
      "                                                                 conv1d_3[11][0]                  \n",
      "                                                                 conv1d_3[12][0]                  \n",
      "                                                                 conv1d_3[13][0]                  \n",
      "                                                                 conv1d_3[14][0]                  \n",
      "__________________________________________________________________________________________________\n",
      "dense_3 (Dense)                 (None, 19)           4199        flatten_3[0][0]                  \n",
      "                                                                 flatten_3[1][0]                  \n",
      "                                                                 flatten_3[2][0]                  \n",
      "                                                                 flatten_3[3][0]                  \n",
      "                                                                 flatten_3[4][0]                  \n",
      "                                                                 flatten_3[5][0]                  \n",
      "                                                                 flatten_3[6][0]                  \n",
      "                                                                 flatten_3[7][0]                  \n",
      "                                                                 flatten_3[8][0]                  \n",
      "                                                                 flatten_3[9][0]                  \n",
      "                                                                 flatten_3[10][0]                 \n",
      "                                                                 flatten_3[11][0]                 \n",
      "                                                                 flatten_3[12][0]                 \n",
      "                                                                 flatten_3[13][0]                 \n",
      "                                                                 flatten_3[14][0]                 \n",
      "__________________________________________________________________________________________________\n",
      "lambda_3 (Lambda)               (None, 23, 19)       0           input_4[0][0]                    \n",
      "                                                                 input_4[0][0]                    \n",
      "                                                                 input_4[0][0]                    \n",
      "                                                                 input_4[0][0]                    \n",
      "                                                                 input_4[0][0]                    \n",
      "                                                                 input_4[0][0]                    \n",
      "                                                                 input_4[0][0]                    \n",
      "                                                                 input_4[0][0]                    \n",
      "                                                                 input_4[0][0]                    \n",
      "                                                                 input_4[0][0]                    \n",
      "                                                                 input_4[0][0]                    \n",
      "                                                                 input_4[0][0]                    \n",
      "                                                                 input_4[0][0]                    \n",
      "                                                                 input_4[0][0]                    \n",
      "__________________________________________________________________________________________________\n",
      "reshape_3 (Reshape)             (None, 1, 19)        0           dense_3[0][0]                    \n",
      "                                                                 dense_3[1][0]                    \n",
      "                                                                 dense_3[2][0]                    \n",
      "                                                                 dense_3[3][0]                    \n",
      "                                                                 dense_3[4][0]                    \n",
      "                                                                 dense_3[5][0]                    \n",
      "                                                                 dense_3[6][0]                    \n",
      "                                                                 dense_3[7][0]                    \n",
      "                                                                 dense_3[8][0]                    \n",
      "                                                                 dense_3[9][0]                    \n",
      "                                                                 dense_3[10][0]                   \n",
      "                                                                 dense_3[11][0]                   \n",
      "                                                                 dense_3[12][0]                   \n",
      "                                                                 dense_3[13][0]                   \n",
      "__________________________________________________________________________________________________\n",
      "concatenate_3 (Concatenate)     (None, 24, 19)       0           lambda_3[0][0]                   \n",
      "                                                                 reshape_3[0][0]                  \n",
      "                                                                 lambda_3[1][0]                   \n",
      "                                                                 reshape_3[1][0]                  \n",
      "                                                                 lambda_3[2][0]                   \n",
      "                                                                 reshape_3[2][0]                  \n",
      "                                                                 lambda_3[3][0]                   \n",
      "                                                                 reshape_3[3][0]                  \n",
      "                                                                 lambda_3[4][0]                   \n",
      "                                                                 reshape_3[4][0]                  \n",
      "                                                                 lambda_3[5][0]                   \n",
      "                                                                 reshape_3[5][0]                  \n",
      "                                                                 lambda_3[6][0]                   \n",
      "                                                                 reshape_3[6][0]                  \n",
      "                                                                 lambda_3[7][0]                   \n",
      "                                                                 reshape_3[7][0]                  \n",
      "                                                                 lambda_3[8][0]                   \n",
      "                                                                 reshape_3[8][0]                  \n",
      "                                                                 lambda_3[9][0]                   \n",
      "                                                                 reshape_3[9][0]                  \n",
      "                                                                 lambda_3[10][0]                  \n",
      "                                                                 reshape_3[10][0]                 \n",
      "                                                                 lambda_3[11][0]                  \n",
      "                                                                 reshape_3[11][0]                 \n",
      "                                                                 lambda_3[12][0]                  \n",
      "                                                                 reshape_3[12][0]                 \n",
      "                                                                 lambda_3[13][0]                  \n",
      "                                                                 reshape_3[13][0]                 \n",
      "__________________________________________________________________________________________________\n",
      "tf.stack_1 (TFOpLambda)         (15, None, 19)       0           dense_3[0][0]                    \n",
      "                                                                 dense_3[1][0]                    \n",
      "                                                                 dense_3[2][0]                    \n",
      "                                                                 dense_3[3][0]                    \n",
      "                                                                 dense_3[4][0]                    \n",
      "                                                                 dense_3[5][0]                    \n",
      "                                                                 dense_3[6][0]                    \n",
      "                                                                 dense_3[7][0]                    \n",
      "                                                                 dense_3[8][0]                    \n",
      "                                                                 dense_3[9][0]                    \n",
      "                                                                 dense_3[10][0]                   \n",
      "                                                                 dense_3[11][0]                   \n",
      "                                                                 dense_3[12][0]                   \n",
      "                                                                 dense_3[13][0]                   \n",
      "                                                                 dense_3[14][0]                   \n",
      "__________________________________________________________________________________________________\n",
      "tf.compat.v1.transpose_1 (TFOpL (None, 15, 19)       0           tf.stack_1[0][0]                 \n",
      "==================================================================================================\n",
      "Total params: 4,779\n",
      "Trainable params: 4,779\n",
      "Non-trainable params: 0\n",
      "__________________________________________________________________________________________________\n"
     ]
    }
   ],
   "source": [
    "model_reg.summary()"
   ]
  },
  {
   "cell_type": "code",
   "execution_count": 231,
   "metadata": {},
   "outputs": [],
   "source": [
    "history = compile_and_fit(model_reg,\n",
    "                          X=inputs_train,y=labels_train,\n",
    "                    val_X=inputs_val, val_y=labels_val)\n",
    "\n",
    "IPython.display.clear_output()"
   ]
  },
  {
   "cell_type": "code",
   "execution_count": 232,
   "metadata": {},
   "outputs": [
    {
     "data": {
      "image/png": "[encoded data removed]",
      "text/plain": [
       "<Figure size 432x288 with 1 Axes>"
      ]
     },
     "metadata": {
      "needs_background": "light"
     },
     "output_type": "display_data"
    }
   ],
   "source": [
    "import matplotlib.pyplot as plt \n",
    "\n",
    "plt.plot(history.history['loss'], label='train')\n",
    "plt.plot(history.history['val_loss'], label='test')\n",
    "plt.legend();"
   ]
  },
  {
   "cell_type": "code",
   "execution_count": 234,
   "metadata": {},
   "outputs": [
    {
     "name": "stdout",
     "output_type": "stream",
     "text": [
      "218/218 [==============================] - 0s 1ms/step - loss: 0.1977 - mean_absolute_error: 0.2864\n"
     ]
    }
   ],
   "source": [
    "results = model_reg.evaluate(inputs_test, labels_test)"
   ]
  },
  {
   "cell_type": "code",
   "execution_count": 235,
   "metadata": {},
   "outputs": [
    {
     "name": "stdout",
     "output_type": "stream",
     "text": [
      "1\n",
      "1\n",
      "15\n"
     ]
    },
    {
     "data": {
      "image/png": "[encoded data removed]",
      "text/plain": [
       "<Figure size 432x288 with 1 Axes>"
      ]
     },
     "metadata": {
      "needs_background": "light"
     },
     "output_type": "display_data"
    }
   ],
   "source": [
    "plot_forecast(model_reg, input_data=inputs_test,\n",
    "               label_data=labels_test, window=window, plot_col='T (degC)') "
   ]
  },
  {
   "cell_type": "markdown",
   "metadata": {},
   "source": [
    "### LSTM"
   ]
  },
  {
   "cell_type": "code",
   "execution_count": 321,
   "metadata": {},
   "outputs": [],
   "source": [
    "# multistep models:\n",
    "window = WindowGenerator(\n",
    "    input_width=24 , \n",
    "    label_width=15,\n",
    "    shift=15,\n",
    " label_columns=None,\n",
    " feature_columns=None)"
   ]
  },
  {
   "cell_type": "code",
   "execution_count": 333,
   "metadata": {},
   "outputs": [],
   "source": [
    "window = window\n",
    "inputs_train, labels_train = window.create_dataset(train_df, shuffle=False)\n",
    "inputs_val, labels_val = window.create_dataset(val_df, shuffle=False)\n",
    "inputs_test, labels_test = window.create_dataset(test_df, shuffle=False)"
   ]
  },
  {
   "cell_type": "code",
   "execution_count": 323,
   "metadata": {},
   "outputs": [
    {
     "name": "stdout",
     "output_type": "stream",
     "text": [
      "(49024, 24, 19) (49024, 15, 19) (13979, 24, 19) (13979, 15, 19)\n"
     ]
    }
   ],
   "source": [
    "print(inputs_train.shape, labels_train.shape, inputs_val.shape, labels_val.shape)"
   ]
  },
  {
   "cell_type": "markdown",
   "metadata": {},
   "source": [
    "### Normal vector output LSTM"
   ]
  },
  {
   "cell_type": "code",
   "execution_count": 336,
   "metadata": {},
   "outputs": [],
   "source": [
    "\n",
    "tf.keras.backend.clear_session()"
   ]
  },
  {
   "cell_type": "code",
   "execution_count": 335,
   "metadata": {},
   "outputs": [],
   "source": [
    "def LSTM_model_vec_out(window, units=10):\n",
    "    model = tf.keras.Sequential([        \n",
    "        tf.keras.layers.LSTM(units, return_sequences=False)  ,  \n",
    "        tf.keras.layers.Dense(units=(window.label_width * window.number_label_features)),\n",
    "        tf.keras.layers.Reshape([window.label_width, window.number_label_features])  \n",
    "    ])\n",
    "    \n",
    "    return model"
   ]
  },
  {
   "cell_type": "code",
   "execution_count": 317,
   "metadata": {},
   "outputs": [],
   "source": [
    "## check output\n",
    "LSTM_model_vec = tf.keras.Sequential()\n",
    "LSTM_model_vec.add(tf.keras.layers.LSTM(10,input_shape=(inputs_train.shape[1], inputs_train.shape[2]),\n",
    "                                    return_sequences=False))\n",
    "LSTM_model_vec.add(tf.keras.layers.Dense(units=NUM_UNITS))\n",
    "LSTM_model_vec.add(tf.keras.layers.Reshape([window.label_width, num_label_feature]))"
   ]
  },
  {
   "cell_type": "code",
   "execution_count": 338,
   "metadata": {},
   "outputs": [
    {
     "data": {
      "text/plain": [
       "19"
      ]
     },
     "execution_count": 338,
     "metadata": {},
     "output_type": "execute_result"
    }
   ],
   "source": [
    "window.number_label_features"
   ]
  },
  {
   "cell_type": "code",
   "execution_count": 339,
   "metadata": {},
   "outputs": [],
   "source": [
    "model_vector = LSTM_model_vec_out(window, units=10)"
   ]
  },
  {
   "cell_type": "code",
   "execution_count": 340,
   "metadata": {},
   "outputs": [],
   "source": [
    "history = compile_and_fit(model_vector, X=inputs_train,y=labels_train,\n",
    "                    val_X=inputs_val, val_y=labels_val)\n",
    "\n",
    "IPython.display.clear_output()\n"
   ]
  },
  {
   "cell_type": "code",
   "execution_count": 341,
   "metadata": {},
   "outputs": [
    {
     "name": "stdout",
     "output_type": "stream",
     "text": [
      "Model: \"sequential\"\n",
      "_________________________________________________________________\n",
      "Layer (type)                 Output Shape              Param #   \n",
      "=================================================================\n",
      "lstm (LSTM)                  (None, 10)                1200      \n",
      "_________________________________________________________________\n",
      "dense (Dense)                (None, 285)               3135      \n",
      "_________________________________________________________________\n",
      "reshape (Reshape)            (None, 15, 19)            0         \n",
      "=================================================================\n",
      "Total params: 4,335\n",
      "Trainable params: 4,335\n",
      "Non-trainable params: 0\n",
      "_________________________________________________________________\n"
     ]
    }
   ],
   "source": [
    "model_vector.summary()"
   ]
  },
  {
   "cell_type": "code",
   "execution_count": 342,
   "metadata": {},
   "outputs": [
    {
     "data": {
      "image/png": "[encoded data removed]",
      "text/plain": [
       "<Figure size 432x288 with 1 Axes>"
      ]
     },
     "metadata": {
      "needs_background": "light"
     },
     "output_type": "display_data"
    }
   ],
   "source": [
    "import matplotlib.pyplot as plt \n",
    "\n",
    "plt.plot(history.history['loss'], label='train')\n",
    "plt.plot(history.history['val_loss'], label='test')\n",
    "plt.legend();"
   ]
  },
  {
   "cell_type": "code",
   "execution_count": 343,
   "metadata": {},
   "outputs": [
    {
     "name": "stdout",
     "output_type": "stream",
     "text": [
      "218/218 [==============================] - 0s 1ms/step - loss: 0.1870 - mean_absolute_error: 0.2729\n"
     ]
    },
    {
     "data": {
      "text/plain": [
       "[0.1869729906320572, 0.2728896737098694]"
      ]
     },
     "execution_count": 343,
     "metadata": {},
     "output_type": "execute_result"
    }
   ],
   "source": [
    "results = model_vector.evaluate(inputs_test, labels_test)\n",
    "results"
   ]
  },
  {
   "cell_type": "code",
   "execution_count": 344,
   "metadata": {},
   "outputs": [
    {
     "name": "stdout",
     "output_type": "stream",
     "text": [
      "1\n",
      "1\n",
      "15\n"
     ]
    },
    {
     "data": {
      "image/png": "[encoded data removed]",
      "text/plain": [
       "<Figure size 432x288 with 1 Axes>"
      ]
     },
     "metadata": {
      "needs_background": "light"
     },
     "output_type": "display_data"
    }
   ],
   "source": [
    "plot_forecast(model_vector, input_data=inputs_test,\n",
    "               label_data=labels_test, window=window, plot_col='T (degC)') "
   ]
  },
  {
   "cell_type": "markdown",
   "metadata": {},
   "source": [
    "### Encoder-decoder LSTM"
   ]
  },
  {
   "cell_type": "code",
   "execution_count": 345,
   "metadata": {},
   "outputs": [],
   "source": [
    "# clear model\n",
    "tf.keras.backend.clear_session()"
   ]
  },
  {
   "cell_type": "code",
   "execution_count": 301,
   "metadata": {},
   "outputs": [
    {
     "data": {
      "text/plain": [
       "19"
      ]
     },
     "execution_count": 301,
     "metadata": {},
     "output_type": "execute_result"
    }
   ],
   "source": [
    "window.number_label_features"
   ]
  },
  {
   "cell_type": "code",
   "execution_count": 346,
   "metadata": {},
   "outputs": [],
   "source": [
    "def LSTM_model_encoder_decoder(window, encoder_units=10, decoder_units=10):\n",
    "    model = tf.keras.Sequential([        \n",
    "        tf.keras.layers.LSTM(encoder_units,return_sequences=False)  ,  \n",
    "        tf.keras.layers.RepeatVector(window.label_width),\n",
    "        tf.keras.layers.LSTM(decoder_units, return_sequences=True),\n",
    "        tf.keras.layers.Dense(window.number_label_features)\n",
    "     ])\n",
    "    \n",
    "    return model"
   ]
  },
  {
   "cell_type": "code",
   "execution_count": 152,
   "metadata": {},
   "outputs": [],
   "source": [
    "# clear model\n",
    "tf.keras.backend.clear_session()\n",
    "\n",
    "## check output  \n",
    "LSTM_model_en = tf.keras.Sequential()\n",
    "LSTM_model_en.add(tf.keras.layers.LSTM(10, input_shape=(inputs_train.shape[1], inputs_train.shape[2])))\n",
    "LSTM_model_en.add(tf.keras.layers.RepeatVector(window.label_width))\n",
    "LSTM_model_en.add(tf.keras.layers.LSTM(10, return_sequences=True))\n",
    "LSTM_model_en.add(tf.keras.layers.TimeDistributed(tf.keras.layers.Dense(num_label_feature)))                         \n"
   ]
  },
  {
   "cell_type": "code",
   "execution_count": 154,
   "metadata": {},
   "outputs": [
    {
     "data": {
      "text/plain": [
       "<KerasTensor: shape=(None, 24, 19) dtype=float32 (created by layer 'time_distributed')>"
      ]
     },
     "execution_count": 154,
     "metadata": {},
     "output_type": "execute_result"
    }
   ],
   "source": [
    "LSTM_model_en.output"
   ]
  },
  {
   "cell_type": "code",
   "execution_count": 347,
   "metadata": {},
   "outputs": [],
   "source": [
    "model_en = LSTM_model_encoder_decoder(window)"
   ]
  },
  {
   "cell_type": "code",
   "execution_count": 348,
   "metadata": {},
   "outputs": [],
   "source": [
    "history = compile_and_fit(model_en, X=inputs_train,y=labels_train,\n",
    "                    val_X=inputs_val, val_y=labels_val)\n",
    "\n",
    "IPython.display.clear_output()\n"
   ]
  },
  {
   "cell_type": "code",
   "execution_count": 349,
   "metadata": {},
   "outputs": [
    {
     "name": "stdout",
     "output_type": "stream",
     "text": [
      "Model: \"sequential\"\n",
      "_________________________________________________________________\n",
      "Layer (type)                 Output Shape              Param #   \n",
      "=================================================================\n",
      "lstm (LSTM)                  (None, 10)                1200      \n",
      "_________________________________________________________________\n",
      "repeat_vector (RepeatVector) (None, 15, 10)            0         \n",
      "_________________________________________________________________\n",
      "lstm_1 (LSTM)                (None, 15, 10)            840       \n",
      "_________________________________________________________________\n",
      "dense (Dense)                (None, 15, 19)            209       \n",
      "=================================================================\n",
      "Total params: 2,249\n",
      "Trainable params: 2,249\n",
      "Non-trainable params: 0\n",
      "_________________________________________________________________\n"
     ]
    }
   ],
   "source": [
    "model_en.summary()"
   ]
  },
  {
   "cell_type": "code",
   "execution_count": 350,
   "metadata": {},
   "outputs": [
    {
     "data": {
      "image/png": "[encoded data removed]",
      "text/plain": [
       "<Figure size 432x288 with 1 Axes>"
      ]
     },
     "metadata": {
      "needs_background": "light"
     },
     "output_type": "display_data"
    }
   ],
   "source": [
    "import matplotlib.pyplot as plt \n",
    "\n",
    "plt.plot(history.history['loss'], label='train')\n",
    "plt.plot(history.history['val_loss'], label='test')\n",
    "plt.legend();"
   ]
  },
  {
   "cell_type": "code",
   "execution_count": 351,
   "metadata": {},
   "outputs": [
    {
     "name": "stdout",
     "output_type": "stream",
     "text": [
      "218/218 [==============================] - 0s 2ms/step - loss: 0.1863 - mean_absolute_error: 0.2749\n"
     ]
    },
    {
     "data": {
      "text/plain": [
       "[0.1862632930278778, 0.27493998408317566]"
      ]
     },
     "execution_count": 351,
     "metadata": {},
     "output_type": "execute_result"
    }
   ],
   "source": [
    "results = model_en.evaluate(inputs_test, labels_test)\n",
    "results"
   ]
  },
  {
   "cell_type": "code",
   "execution_count": 352,
   "metadata": {},
   "outputs": [
    {
     "name": "stdout",
     "output_type": "stream",
     "text": [
      "1\n",
      "1\n",
      "15\n"
     ]
    },
    {
     "data": {
      "image/png": "[encoded data removed]",
      "text/plain": [
       "<Figure size 432x288 with 1 Axes>"
      ]
     },
     "metadata": {
      "needs_background": "light"
     },
     "output_type": "display_data"
    }
   ],
   "source": [
    "plot_forecast(model_en, input_data=inputs_test,\n",
    "               label_data=labels_test, window=window, plot_col='T (degC)') "
   ]
  },
  {
   "cell_type": "markdown",
   "metadata": {},
   "source": [
    "### Autoregressive LSTM:"
   ]
  },
  {
   "cell_type": "code",
   "execution_count": 354,
   "metadata": {},
   "outputs": [],
   "source": [
    "# clear model\n",
    "tf.keras.backend.clear_session()"
   ]
  },
  {
   "cell_type": "code",
   "execution_count": 355,
   "metadata": {},
   "outputs": [],
   "source": [
    "def LSTM_model_Recursive(LSTM_units=10,\n",
    "                         num_label_feature=window.number_label_features,\n",
    "                         output_time_step=window.label_width,\n",
    "                         input_time_steps=window.input_width,\n",
    "                         input_features=window.number_input_features):\n",
    "    \n",
    "    # global layers\n",
    "    Input_layer = tf.keras.Input(shape=(input_time_steps, input_features))\n",
    "    LSTM_layer = tf.keras.layers.LSTM(LSTM_units, return_state=True)\n",
    "    #LSTM_cell = tf.keras.layers.LSTMCell(LSTM_units)\n",
    "    #LSTM_RNN = tf.keras.layers.RNN(LSTM_cell, return_state=True)\n",
    "    Reshape_layer = tf.keras.layers.Reshape((1,num_label_feature))\n",
    "    Dense_layer = tf.keras.layers.Dense(num_label_feature)\n",
    "    \n",
    "    #warm up    \n",
    "    output, *state = LSTM_layer(Input_layer)\n",
    "    #output, *state = LSTM_RNN(Input_layer)\n",
    "    prediction = Dense_layer(output)   \n",
    "\n",
    "    predictions = []    \n",
    "        \n",
    "  # Insert the first prediction\n",
    "    predictions.append(prediction)\n",
    "\n",
    "    for n in range(1, output_time_step):\n",
    "    # Use the last prediction as input.\n",
    "        x = prediction\n",
    "        x = Reshape_layer(x)  \n",
    "    # Execute one lstm step.\n",
    "        x, *state = LSTM_layer(x, initial_state=state)\n",
    "        #x, state = LSTM_cell(x, states=state)\n",
    "    # Convert the lstm output to a prediction.\n",
    "        prediction = Dense_layer(x)\n",
    "    # Add the prediction to the output\n",
    "        predictions.append(prediction)\n",
    "  # predictions.shape => (time, batch, features)\n",
    "    predictions = tf.stack(predictions)\n",
    "  # predictions.shape => (batch, time, features)\n",
    "    predictions = tf.transpose(predictions, [1, 0, 2])\n",
    "    \n",
    "    model = tf.keras.Model(inputs=Input_layer, outputs=predictions)\n",
    "    return model"
   ]
  },
  {
   "cell_type": "code",
   "execution_count": 356,
   "metadata": {},
   "outputs": [],
   "source": [
    "model_reg = LSTM_model_Recursive(LSTM_units=10)"
   ]
  },
  {
   "cell_type": "code",
   "execution_count": 357,
   "metadata": {},
   "outputs": [],
   "source": [
    "history = compile_and_fit(model_reg,\n",
    "                          X=inputs_train,y=labels_train,\n",
    "                    val_X=inputs_val, val_y=labels_val)\n",
    "\n",
    "IPython.display.clear_output()"
   ]
  },
  {
   "cell_type": "code",
   "execution_count": 358,
   "metadata": {},
   "outputs": [
    {
     "name": "stdout",
     "output_type": "stream",
     "text": [
      "Model: \"model\"\n",
      "__________________________________________________________________________________________________\n",
      "Layer (type)                    Output Shape         Param #     Connected to                     \n",
      "==================================================================================================\n",
      "input_1 (InputLayer)            [(None, 24, 19)]     0                                            \n",
      "__________________________________________________________________________________________________\n",
      "lstm (LSTM)                     [(None, 10), (None,  1200        input_1[0][0]                    \n",
      "                                                                 reshape[0][0]                    \n",
      "                                                                 lstm[0][1]                       \n",
      "                                                                 lstm[0][2]                       \n",
      "                                                                 reshape[1][0]                    \n",
      "                                                                 lstm[1][1]                       \n",
      "                                                                 lstm[1][2]                       \n",
      "                                                                 reshape[2][0]                    \n",
      "                                                                 lstm[2][1]                       \n",
      "                                                                 lstm[2][2]                       \n",
      "                                                                 reshape[3][0]                    \n",
      "                                                                 lstm[3][1]                       \n",
      "                                                                 lstm[3][2]                       \n",
      "                                                                 reshape[4][0]                    \n",
      "                                                                 lstm[4][1]                       \n",
      "                                                                 lstm[4][2]                       \n",
      "                                                                 reshape[5][0]                    \n",
      "                                                                 lstm[5][1]                       \n",
      "                                                                 lstm[5][2]                       \n",
      "                                                                 reshape[6][0]                    \n",
      "                                                                 lstm[6][1]                       \n",
      "                                                                 lstm[6][2]                       \n",
      "                                                                 reshape[7][0]                    \n",
      "                                                                 lstm[7][1]                       \n",
      "                                                                 lstm[7][2]                       \n",
      "                                                                 reshape[8][0]                    \n",
      "                                                                 lstm[8][1]                       \n",
      "                                                                 lstm[8][2]                       \n",
      "                                                                 reshape[9][0]                    \n",
      "                                                                 lstm[9][1]                       \n",
      "                                                                 lstm[9][2]                       \n",
      "                                                                 reshape[10][0]                   \n",
      "                                                                 lstm[10][1]                      \n",
      "                                                                 lstm[10][2]                      \n",
      "                                                                 reshape[11][0]                   \n",
      "                                                                 lstm[11][1]                      \n",
      "                                                                 lstm[11][2]                      \n",
      "                                                                 reshape[12][0]                   \n",
      "                                                                 lstm[12][1]                      \n",
      "                                                                 lstm[12][2]                      \n",
      "                                                                 reshape[13][0]                   \n",
      "                                                                 lstm[13][1]                      \n",
      "                                                                 lstm[13][2]                      \n",
      "__________________________________________________________________________________________________\n",
      "dense (Dense)                   (None, 19)           209         lstm[0][0]                       \n",
      "                                                                 lstm[1][0]                       \n",
      "                                                                 lstm[2][0]                       \n",
      "                                                                 lstm[3][0]                       \n",
      "                                                                 lstm[4][0]                       \n",
      "                                                                 lstm[5][0]                       \n",
      "                                                                 lstm[6][0]                       \n",
      "                                                                 lstm[7][0]                       \n",
      "                                                                 lstm[8][0]                       \n",
      "                                                                 lstm[9][0]                       \n",
      "                                                                 lstm[10][0]                      \n",
      "                                                                 lstm[11][0]                      \n",
      "                                                                 lstm[12][0]                      \n",
      "                                                                 lstm[13][0]                      \n",
      "                                                                 lstm[14][0]                      \n",
      "__________________________________________________________________________________________________\n",
      "reshape (Reshape)               (None, 1, 19)        0           dense[0][0]                      \n",
      "                                                                 dense[1][0]                      \n",
      "                                                                 dense[2][0]                      \n",
      "                                                                 dense[3][0]                      \n",
      "                                                                 dense[4][0]                      \n",
      "                                                                 dense[5][0]                      \n",
      "                                                                 dense[6][0]                      \n",
      "                                                                 dense[7][0]                      \n",
      "                                                                 dense[8][0]                      \n",
      "                                                                 dense[9][0]                      \n",
      "                                                                 dense[10][0]                     \n",
      "                                                                 dense[11][0]                     \n",
      "                                                                 dense[12][0]                     \n",
      "                                                                 dense[13][0]                     \n",
      "__________________________________________________________________________________________________\n",
      "tf.stack (TFOpLambda)           (15, None, 19)       0           dense[0][0]                      \n",
      "                                                                 dense[1][0]                      \n",
      "                                                                 dense[2][0]                      \n",
      "                                                                 dense[3][0]                      \n",
      "                                                                 dense[4][0]                      \n",
      "                                                                 dense[5][0]                      \n",
      "                                                                 dense[6][0]                      \n",
      "                                                                 dense[7][0]                      \n",
      "                                                                 dense[8][0]                      \n",
      "                                                                 dense[9][0]                      \n",
      "                                                                 dense[10][0]                     \n",
      "                                                                 dense[11][0]                     \n",
      "                                                                 dense[12][0]                     \n",
      "                                                                 dense[13][0]                     \n",
      "                                                                 dense[14][0]                     \n",
      "__________________________________________________________________________________________________\n",
      "tf.compat.v1.transpose (TFOpLam (None, 15, 19)       0           tf.stack[0][0]                   \n",
      "==================================================================================================\n",
      "Total params: 1,409\n",
      "Trainable params: 1,409\n",
      "Non-trainable params: 0\n",
      "__________________________________________________________________________________________________\n"
     ]
    }
   ],
   "source": [
    "model_reg.summary()"
   ]
  },
  {
   "cell_type": "code",
   "execution_count": 359,
   "metadata": {},
   "outputs": [
    {
     "data": {
      "image/png": "[encoded data removed]",
      "text/plain": [
       "<Figure size 432x288 with 1 Axes>"
      ]
     },
     "metadata": {
      "needs_background": "light"
     },
     "output_type": "display_data"
    }
   ],
   "source": [
    "import matplotlib.pyplot as plt \n",
    "\n",
    "plt.plot(history.history['loss'], label='train')\n",
    "plt.plot(history.history['val_loss'], label='test')\n",
    "plt.legend();"
   ]
  },
  {
   "cell_type": "code",
   "execution_count": 360,
   "metadata": {},
   "outputs": [
    {
     "name": "stdout",
     "output_type": "stream",
     "text": [
      "218/218 [==============================] - 1s 3ms/step - loss: 0.1814 - mean_absolute_error: 0.2682\n"
     ]
    }
   ],
   "source": [
    "results = model_reg.evaluate(inputs_test, labels_test)"
   ]
  },
  {
   "cell_type": "code",
   "execution_count": 361,
   "metadata": {},
   "outputs": [
    {
     "name": "stdout",
     "output_type": "stream",
     "text": [
      "1\n",
      "1\n",
      "15\n"
     ]
    },
    {
     "data": {
      "image/png": "[encoded data removed]",
      "text/plain": [
       "<Figure size 432x288 with 1 Axes>"
      ]
     },
     "metadata": {
      "needs_background": "light"
     },
     "output_type": "display_data"
    }
   ],
   "source": [
    "plot_forecast(model_reg, input_data=inputs_test,\n",
    "               label_data=labels_test, window=window, plot_col='T (degC)') "
   ]
  },
  {
   "cell_type": "markdown",
   "metadata": {},
   "source": [
    "### Recursive LSTM"
   ]
  },
  {
   "cell_type": "code",
   "execution_count": null,
   "metadata": {},
   "outputs": [],
   "source": [
    "# clear model\n",
    "tf.keras.backend.clear_session()"
   ]
  },
  {
   "cell_type": "code",
   "execution_count": 367,
   "metadata": {},
   "outputs": [
    {
     "name": "stdout",
     "output_type": "stream",
     "text": [
      "(49038, 24, 19) (49038, 1, 19) (13993, 24, 19) (13993, 1, 19)\n"
     ]
    }
   ],
   "source": [
    "# multistep models:\n",
    "LSTM_re = WindowGenerator(\n",
    "    input_width=24 , \n",
    "    label_width=1,\n",
    "    shift=1)\n",
    "\n",
    "\n",
    "\n",
    "inputs_train_re, labels_train_re = LSTM_re.create_dataset(train_df, shuffle=False)\n",
    "inputs_val_re, labels_val_re = LSTM_re.create_dataset(val_df, shuffle=False)\n",
    "inputs_test_re, labels_test_re = LSTM_re.create_dataset(test_df, shuffle=False)\n",
    "\n",
    "print(inputs_train_re.shape, labels_train_re.shape, inputs_val_re.shape, labels_val_re.shape)"
   ]
  },
  {
   "cell_type": "code",
   "execution_count": 368,
   "metadata": {},
   "outputs": [
    {
     "name": "stdout",
     "output_type": "stream",
     "text": [
      "Model: \"sequential_2\"\n",
      "_________________________________________________________________\n",
      "Layer (type)                 Output Shape              Param #   \n",
      "=================================================================\n",
      "lstm_3 (LSTM)                (None, 10)                1200      \n",
      "_________________________________________________________________\n",
      "dense_3 (Dense)              (None, 19)                209       \n",
      "_________________________________________________________________\n",
      "reshape_3 (Reshape)          (None, 1, 19)             0         \n",
      "=================================================================\n",
      "Total params: 1,409\n",
      "Trainable params: 1,409\n",
      "Non-trainable params: 0\n",
      "_________________________________________________________________\n"
     ]
    },
    {
     "data": {
      "image/png": "[encoded data removed]",
      "text/plain": [
       "<Figure size 432x288 with 1 Axes>"
      ]
     },
     "metadata": {
      "needs_background": "light"
     },
     "output_type": "display_data"
    }
   ],
   "source": [
    "LSTM_model_cur = LSTM_model_vec_out(LSTM_re, units=10)\n",
    "\n",
    "history = compile_and_fit(LSTM_model_cur, X=inputs_train_re,y=labels_train_re,\n",
    "                    val_X=inputs_val_re, val_y=labels_val_re, patience=5,\n",
    "                    batch_size=32, max_epochs=30 )\n",
    "\n",
    "IPython.display.clear_output()\n",
    "\n",
    "LSTM_model_cur.summary()\n",
    "\n",
    "import matplotlib.pyplot as plt \n",
    "\n",
    "plt.plot(history.history['loss'], label='train')\n",
    "plt.plot(history.history['val_loss'], label='validation')\n",
    "plt.legend();\n",
    "\n"
   ]
  },
  {
   "cell_type": "code",
   "execution_count": 385,
   "metadata": {},
   "outputs": [
    {
     "name": "stdout",
     "output_type": "stream",
     "text": [
      "1\n",
      "1\n"
     ]
    },
    {
     "data": {
      "image/png": "[encoded data removed]",
      "text/plain": [
       "<Figure size 432x288 with 1 Axes>"
      ]
     },
     "metadata": {
      "needs_background": "light"
     },
     "output_type": "display_data"
    }
   ],
   "source": [
    "pr = recursive_model(LSTM_model_cur, inputs_test_re, output_time_step=15)\n",
    "\n",
    "labels_revived = revive_labels_recursive(15, labels=labels_test_re, predictions=pr)\n",
    "              \n",
    "\n",
    "plot_forecast_recursive(LSTM_model_cur , input_data=inputs_test_re, output_time_step=15, recursive_preds=pr,\n",
    "               label_data=labels_revived, window=conv_re, plot_col='T (degC)')  \n",
    "\n"
   ]
  },
  {
   "cell_type": "code",
   "execution_count": 386,
   "metadata": {},
   "outputs": [
    {
     "data": {
      "text/plain": [
       "(0.24140205023753808, 0.3296945670354629)"
      ]
     },
     "execution_count": 386,
     "metadata": {},
     "output_type": "execute_result"
    }
   ],
   "source": [
    "mean_squared_error(labels_revived.flatten(), pr.flatten()), mean_absolute_error (labels_revived.flatten(), pr.flatten())"
   ]
  },
  {
   "cell_type": "markdown",
   "metadata": {},
   "source": [
    "### Direct LSTM"
   ]
  },
  {
   "cell_type": "code",
   "execution_count": 372,
   "metadata": {},
   "outputs": [
    {
     "data": {
      "text/plain": [
       "<function __main__.LSTM_model_vec_out(window, units=10)>"
      ]
     },
     "execution_count": 372,
     "metadata": {},
     "output_type": "execute_result"
    }
   ],
   "source": [
    "LSTM_model_vec_out"
   ]
  },
  {
   "cell_type": "code",
   "execution_count": 373,
   "metadata": {},
   "outputs": [],
   "source": [
    "windows, datasets = direct_datasets(output_time_step=15,\n",
    "                input_width=24,label_columns=None, feature_columns=None, train_df=train_df,\n",
    "                 val_df=val_df, test_df=test_df)\n",
    "\n",
    "models, history, predictions = direct_models(model=LSTM_model_vec_out, output_time_step=15, windows=windows, data=datasets)\n",
    "\n"
   ]
  },
  {
   "cell_type": "code",
   "execution_count": 380,
   "metadata": {},
   "outputs": [],
   "source": [
    "labels, preds = prediction_label_collect(15, datasets=datasets, predictions=predictions, data='test')\n",
    " \n",
    "\n"
   ]
  },
  {
   "cell_type": "code",
   "execution_count": 381,
   "metadata": {},
   "outputs": [
    {
     "name": "stdout",
     "output_type": "stream",
     "text": [
      "1\n",
      "1\n"
     ]
    },
    {
     "data": {
      "image/png": "[encoded data removed]",
      "text/plain": [
       "<Figure size 432x288 with 1 Axes>"
      ]
     },
     "metadata": {
      "needs_background": "light"
     },
     "output_type": "display_data"
    }
   ],
   "source": [
    "plot_forecast_direct(data='test',\n",
    "                  labels=labels, output_time_step=15,\n",
    "                  datasets=datasets,       \n",
    "                  preds = preds,     \n",
    "                  windows=windows, plot_col='T (degC)') "
   ]
  },
  {
   "cell_type": "code",
   "execution_count": 387,
   "metadata": {},
   "outputs": [
    {
     "name": "stdout",
     "output_type": "stream",
     "text": [
      "0.17328113628697303 0.255616167752952\n"
     ]
    }
   ],
   "source": [
    "print(mean_squared_error(labels.flatten(), preds.flatten()),\n",
    "mean_absolute_error (labels.flatten(), preds.flatten()))"
   ]
  }
 ],
 "metadata": {
  "kernelspec": {
   "display_name": "Python [conda env:M1ml2] *",
   "language": "python",
   "name": "conda-env-M1ml2-py"
  },
  "language_info": {
   "codemirror_mode": {
    "name": "ipython",
    "version": 3
   },
   "file_extension": ".py",
   "mimetype": "text/x-python",
   "name": "python",
   "nbconvert_exporter": "python",
   "pygments_lexer": "ipython3",
   "version": "3.8.12"
  }
 },
 "nbformat": 4,
 "nbformat_minor": 4
}
